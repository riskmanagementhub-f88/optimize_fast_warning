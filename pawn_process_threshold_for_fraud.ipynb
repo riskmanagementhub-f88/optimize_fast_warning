{
 "cells": [
  {
   "cell_type": "code",
   "execution_count": 2,
   "metadata": {},
   "outputs": [],
   "source": [
    "import webbrowser\n",
    "import pandas as pd\n",
    "import gspread\n",
    "import gspread_dataframe as gd\n",
    "from gspread_dataframe import get_as_dataframe, set_with_dataframe\n",
    "from oauth2client.service_account import ServiceAccountCredentials # Đọc dữ liệu từ googlesheets\n",
    "from df2gspread import df2gspread as d2g # Ghi dữ liệu lên googlesheets\n",
    "from pprint import pprint\n",
    "from googleapiclient import discovery\n",
    "import pypyodbc #connect với sql server\n",
    "import numpy as np #Tính toán (=,-,*,/)\n",
    "import sqlalchemy #query trực tiếp\n",
    "import urllib #connect url\n",
    "import time #\n",
    "import datetime as dt\n",
    "import pymssql\n",
    "import random\n",
    "import math\n",
    "import calendar\n",
    "import warnings\n",
    "import itertools\n",
    "warnings.filterwarnings(\"ignore\")\n"
   ]
  },
  {
   "cell_type": "code",
   "execution_count": 28,
   "metadata": {},
   "outputs": [],
   "source": [
    "import matplotlib.pyplot as plt\n",
    "import seaborn as sns"
   ]
  },
  {
   "cell_type": "code",
   "execution_count": 428,
   "metadata": {},
   "outputs": [
    {
     "name": "stdout",
     "output_type": "stream",
     "text": [
      "Connected to SQL server: DWH\n"
     ]
    }
   ],
   "source": [
    "#connect server\n",
    "db = pypyodbc.connect(\"Driver={ODBC Driver 17 for SQL Server};\"\n",
    "                        \"Server=103.69.193.246;\"\n",
    "                        \"Database=dwh;\"\n",
    "                        \"uid=dwh;pwd=F88!23456789\")\n",
    "print('Connected to SQL server: DWH')\n"
   ]
  },
  {
   "cell_type": "code",
   "execution_count": 5,
   "metadata": {},
   "outputs": [],
   "source": [
    "def get_n_days(nday):\n",
    "    return (today+dt.timedelta(days=nday)).strftime(\"%Y-%m-%d\")\n",
    "number_day=-1"
   ]
  },
  {
   "cell_type": "code",
   "execution_count": 6,
   "metadata": {},
   "outputs": [],
   "source": [
    "# Get the first day of this month\n",
    "todayDate = dt.date.today()\n",
    "first_date_of_month = todayDate.replace(day=1)"
   ]
  },
  {
   "cell_type": "code",
   "execution_count": 7,
   "metadata": {},
   "outputs": [],
   "source": [
    "first_date_of_month = dt.datetime.strftime(first_date_of_month, \"%Y-%m-%d\")"
   ]
  },
  {
   "cell_type": "code",
   "execution_count": 8,
   "metadata": {},
   "outputs": [],
   "source": [
    "open_str = \"\"\"Declare @ext_date date= '\"\"\"+first_date_of_month+\"\"\"'\n",
    "select le.EXTRAC_DATE,support_staff,created_staff,ShopCode,le.CodeNo,Customer,\n",
    "NAME categoryname,OpenHour,InitTime,complete \n",
    "from [dwh].[dbo].OPEN_CLOSE_CONTRACT_BY_TIME le \n",
    "left join [dwh].[dbo].W_CATEGORY_D cate on cate.CODE=le.CategoryCode \n",
    "left join (select codeno,FirstSupportID,u.USER_CODE support_staff,u2.USER_CODE created_staff,\n",
    "ShopCode,InitTime \n",
    "from [dwh].[dbo].pawn pa1 \n",
    "left join [dwh].[dbo].W_USER_F u on pa1.firstsupportid=u.USER_WID \n",
    "left join [dwh].[dbo].W_USER_F u2 on pa1.CreatedBy=u2.USER_WID \n",
    "where pa1.status not in (15,22,11))pa on le.CodeNo=pa.CodeNo \n",
    "left join (select PAWN_WID,CONTRACT_NO,min(CREATED)complete from [dwh].[dbo].W_PAWN_TRANSACTION_F \n",
    "where action_name like N'Cho vay' \n",
    "group by PAWN_WID,CONTRACT_NO)trans \n",
    "on trans.CONTRACT_NO=le.CodeNo where OpenHour is not null and cast(OpenHour as date) >= dateadd(m, -1, @ext_date)\"\"\""
   ]
  },
  {
   "cell_type": "code",
   "execution_count": 37,
   "metadata": {},
   "outputs": [],
   "source": [
    "open_data=pd.read_sql_query(open_str,db)"
   ]
  },
  {
   "cell_type": "code",
   "execution_count": 38,
   "metadata": {},
   "outputs": [],
   "source": [
    "open_data['init_to_comple']=(pd.to_datetime(open_data['complete'])-open_data.inittime).dt.seconds/60"
   ]
  },
  {
   "cell_type": "code",
   "execution_count": 39,
   "metadata": {},
   "outputs": [
    {
     "data": {
      "text/plain": [
       "Index(['extrac_date', 'support_staff', 'created_staff', 'shopcode', 'codeno',\n",
       "       'customer', 'categoryname', 'openhour', 'inittime', 'complete',\n",
       "       'init_to_comple'],\n",
       "      dtype='object')"
      ]
     },
     "execution_count": 39,
     "metadata": {},
     "output_type": "execute_result"
    }
   ],
   "source": [
    "open_data.columns"
   ]
  },
  {
   "cell_type": "code",
   "execution_count": 91,
   "metadata": {},
   "outputs": [
    {
     "data": {
      "text/plain": [
       "array(['Đăng ký xe máy', 'Laptop', 'Điện thoại', 'Trang sức',\n",
       "       'Đăng ký Ô tô', 'Xe máy', 'Máy tính bảng', 'Đồng hồ', 'Ô tô',\n",
       "       'Máy ảnh', 'Sim điện thoại', 'Tài sản khác', 'Đồng hồ cao cấp',\n",
       "       'Thiết bị định vị'], dtype=object)"
      ]
     },
     "execution_count": 91,
     "metadata": {},
     "output_type": "execute_result"
    }
   ],
   "source": [
    "open_data['categoryname'].unique()"
   ]
  },
  {
   "cell_type": "code",
   "execution_count": 150,
   "metadata": {},
   "outputs": [
    {
     "data": {
      "text/html": [
       "<div>\n",
       "<style scoped>\n",
       "    .dataframe tbody tr th:only-of-type {\n",
       "        vertical-align: middle;\n",
       "    }\n",
       "\n",
       "    .dataframe tbody tr th {\n",
       "        vertical-align: top;\n",
       "    }\n",
       "\n",
       "    .dataframe thead th {\n",
       "        text-align: right;\n",
       "    }\n",
       "</style>\n",
       "<table border=\"1\" class=\"dataframe\">\n",
       "  <thead>\n",
       "    <tr style=\"text-align: right;\">\n",
       "      <th></th>\n",
       "      <th>count</th>\n",
       "      <th>mean</th>\n",
       "      <th>std</th>\n",
       "      <th>min</th>\n",
       "      <th>25%</th>\n",
       "      <th>50%</th>\n",
       "      <th>75%</th>\n",
       "      <th>max</th>\n",
       "    </tr>\n",
       "    <tr>\n",
       "      <th>categoryname</th>\n",
       "      <th></th>\n",
       "      <th></th>\n",
       "      <th></th>\n",
       "      <th></th>\n",
       "      <th></th>\n",
       "      <th></th>\n",
       "      <th></th>\n",
       "      <th></th>\n",
       "    </tr>\n",
       "  </thead>\n",
       "  <tbody>\n",
       "    <tr>\n",
       "      <th>Laptop</th>\n",
       "      <td>2906.0</td>\n",
       "      <td>19.099513</td>\n",
       "      <td>21.082727</td>\n",
       "      <td>1.233333</td>\n",
       "      <td>9.166667</td>\n",
       "      <td>14.800000</td>\n",
       "      <td>23.000000</td>\n",
       "      <td>548.733333</td>\n",
       "    </tr>\n",
       "    <tr>\n",
       "      <th>Máy tính bảng</th>\n",
       "      <td>280.0</td>\n",
       "      <td>15.813571</td>\n",
       "      <td>18.755269</td>\n",
       "      <td>2.466667</td>\n",
       "      <td>7.162500</td>\n",
       "      <td>11.808333</td>\n",
       "      <td>18.470833</td>\n",
       "      <td>246.950000</td>\n",
       "    </tr>\n",
       "    <tr>\n",
       "      <th>Máy ảnh</th>\n",
       "      <td>142.0</td>\n",
       "      <td>36.687207</td>\n",
       "      <td>33.860527</td>\n",
       "      <td>5.550000</td>\n",
       "      <td>17.370833</td>\n",
       "      <td>26.291667</td>\n",
       "      <td>44.200000</td>\n",
       "      <td>198.400000</td>\n",
       "    </tr>\n",
       "    <tr>\n",
       "      <th>Sim điện thoại</th>\n",
       "      <td>3.0</td>\n",
       "      <td>17.038889</td>\n",
       "      <td>7.928593</td>\n",
       "      <td>8.383333</td>\n",
       "      <td>13.583333</td>\n",
       "      <td>18.783333</td>\n",
       "      <td>21.366667</td>\n",
       "      <td>23.950000</td>\n",
       "    </tr>\n",
       "    <tr>\n",
       "      <th>Thiết bị định vị</th>\n",
       "      <td>0.0</td>\n",
       "      <td>NaN</td>\n",
       "      <td>NaN</td>\n",
       "      <td>NaN</td>\n",
       "      <td>NaN</td>\n",
       "      <td>NaN</td>\n",
       "      <td>NaN</td>\n",
       "      <td>NaN</td>\n",
       "    </tr>\n",
       "    <tr>\n",
       "      <th>Trang sức</th>\n",
       "      <td>404.0</td>\n",
       "      <td>12.504208</td>\n",
       "      <td>15.200287</td>\n",
       "      <td>1.383333</td>\n",
       "      <td>6.145833</td>\n",
       "      <td>9.025000</td>\n",
       "      <td>13.512500</td>\n",
       "      <td>179.416667</td>\n",
       "    </tr>\n",
       "    <tr>\n",
       "      <th>Tài sản khác</th>\n",
       "      <td>6.0</td>\n",
       "      <td>62.730556</td>\n",
       "      <td>82.093674</td>\n",
       "      <td>6.266667</td>\n",
       "      <td>13.904167</td>\n",
       "      <td>38.458333</td>\n",
       "      <td>56.750000</td>\n",
       "      <td>224.633333</td>\n",
       "    </tr>\n",
       "    <tr>\n",
       "      <th>Xe máy</th>\n",
       "      <td>2305.0</td>\n",
       "      <td>15.040123</td>\n",
       "      <td>14.159600</td>\n",
       "      <td>1.933333</td>\n",
       "      <td>7.683333</td>\n",
       "      <td>11.833333</td>\n",
       "      <td>17.800000</td>\n",
       "      <td>266.416667</td>\n",
       "    </tr>\n",
       "    <tr>\n",
       "      <th>Ô tô</th>\n",
       "      <td>66.0</td>\n",
       "      <td>115.791414</td>\n",
       "      <td>89.016604</td>\n",
       "      <td>16.150000</td>\n",
       "      <td>67.758333</td>\n",
       "      <td>92.075000</td>\n",
       "      <td>135.337500</td>\n",
       "      <td>517.316667</td>\n",
       "    </tr>\n",
       "    <tr>\n",
       "      <th>Điện thoại</th>\n",
       "      <td>2355.0</td>\n",
       "      <td>15.038146</td>\n",
       "      <td>15.616758</td>\n",
       "      <td>1.050000</td>\n",
       "      <td>7.158333</td>\n",
       "      <td>11.550000</td>\n",
       "      <td>18.091667</td>\n",
       "      <td>259.033333</td>\n",
       "    </tr>\n",
       "    <tr>\n",
       "      <th>Đăng ký xe máy</th>\n",
       "      <td>17488.0</td>\n",
       "      <td>62.891257</td>\n",
       "      <td>58.544472</td>\n",
       "      <td>4.283333</td>\n",
       "      <td>32.862500</td>\n",
       "      <td>45.983333</td>\n",
       "      <td>69.066667</td>\n",
       "      <td>812.916667</td>\n",
       "    </tr>\n",
       "    <tr>\n",
       "      <th>Đăng ký Ô tô</th>\n",
       "      <td>860.0</td>\n",
       "      <td>147.808682</td>\n",
       "      <td>113.990387</td>\n",
       "      <td>15.333333</td>\n",
       "      <td>75.962500</td>\n",
       "      <td>113.908333</td>\n",
       "      <td>183.983333</td>\n",
       "      <td>1353.383333</td>\n",
       "    </tr>\n",
       "    <tr>\n",
       "      <th>Đồng hồ</th>\n",
       "      <td>164.0</td>\n",
       "      <td>18.269004</td>\n",
       "      <td>21.789868</td>\n",
       "      <td>2.883333</td>\n",
       "      <td>8.054167</td>\n",
       "      <td>13.850000</td>\n",
       "      <td>21.937500</td>\n",
       "      <td>190.050000</td>\n",
       "    </tr>\n",
       "    <tr>\n",
       "      <th>Đồng hồ cao cấp</th>\n",
       "      <td>2.0</td>\n",
       "      <td>39.658333</td>\n",
       "      <td>4.277996</td>\n",
       "      <td>36.633333</td>\n",
       "      <td>38.145833</td>\n",
       "      <td>39.658333</td>\n",
       "      <td>41.170833</td>\n",
       "      <td>42.683333</td>\n",
       "    </tr>\n",
       "  </tbody>\n",
       "</table>\n",
       "</div>"
      ],
      "text/plain": [
       "                    count        mean         std        min        25%  \\\n",
       "categoryname                                                              \n",
       "Laptop             2906.0   19.099513   21.082727   1.233333   9.166667   \n",
       "Máy tính bảng       280.0   15.813571   18.755269   2.466667   7.162500   \n",
       "Máy ảnh             142.0   36.687207   33.860527   5.550000  17.370833   \n",
       "Sim điện thoại        3.0   17.038889    7.928593   8.383333  13.583333   \n",
       "Thiết bị định vị      0.0         NaN         NaN        NaN        NaN   \n",
       "Trang sức           404.0   12.504208   15.200287   1.383333   6.145833   \n",
       "Tài sản khác          6.0   62.730556   82.093674   6.266667  13.904167   \n",
       "Xe máy             2305.0   15.040123   14.159600   1.933333   7.683333   \n",
       "Ô tô                 66.0  115.791414   89.016604  16.150000  67.758333   \n",
       "Điện thoại         2355.0   15.038146   15.616758   1.050000   7.158333   \n",
       "Đăng ký xe máy    17488.0   62.891257   58.544472   4.283333  32.862500   \n",
       "Đăng ký Ô tô        860.0  147.808682  113.990387  15.333333  75.962500   \n",
       "Đồng hồ             164.0   18.269004   21.789868   2.883333   8.054167   \n",
       "Đồng hồ cao cấp       2.0   39.658333    4.277996  36.633333  38.145833   \n",
       "\n",
       "                         50%         75%          max  \n",
       "categoryname                                           \n",
       "Laptop             14.800000   23.000000   548.733333  \n",
       "Máy tính bảng      11.808333   18.470833   246.950000  \n",
       "Máy ảnh            26.291667   44.200000   198.400000  \n",
       "Sim điện thoại     18.783333   21.366667    23.950000  \n",
       "Thiết bị định vị         NaN         NaN          NaN  \n",
       "Trang sức           9.025000   13.512500   179.416667  \n",
       "Tài sản khác       38.458333   56.750000   224.633333  \n",
       "Xe máy             11.833333   17.800000   266.416667  \n",
       "Ô tô               92.075000  135.337500   517.316667  \n",
       "Điện thoại         11.550000   18.091667   259.033333  \n",
       "Đăng ký xe máy     45.983333   69.066667   812.916667  \n",
       "Đăng ký Ô tô      113.908333  183.983333  1353.383333  \n",
       "Đồng hồ            13.850000   21.937500   190.050000  \n",
       "Đồng hồ cao cấp    39.658333   41.170833    42.683333  "
      ]
     },
     "execution_count": 150,
     "metadata": {},
     "output_type": "execute_result"
    }
   ],
   "source": [
    "open_data.groupby('categoryname')['init_to_comple'].describe()"
   ]
  },
  {
   "cell_type": "code",
   "execution_count": 76,
   "metadata": {},
   "outputs": [],
   "source": [
    "#  outliers selection\n",
    "def lower_outlier_selection(datacolumn):\n",
    "    sorted(datacolumn)\n",
    "    Q1, Q3 = np.percentile(datacolumn, [25,75])\n",
    "    IQR = Q3 - Q1\n",
    "    lower_range = Q1 - (1.5 * IQR)\n",
    "#     upper_range = Q3 + (1.5 * IQR)\n",
    "    return lower_range"
   ]
  },
  {
   "cell_type": "code",
   "execution_count": 77,
   "metadata": {},
   "outputs": [],
   "source": [
    "#  outliers selection\n",
    "def upper_outlier_selection(datacolumn):\n",
    "    sorted(datacolumn)\n",
    "    Q1, Q3 = np.percentile(datacolumn, [25,75])\n",
    "    IQR = Q3 - Q1\n",
    "#     lower_range = Q1 - (1.5 * IQR)\n",
    "    upper_range = Q3 + (1.5 * IQR)\n",
    "    return upper_range"
   ]
  },
  {
   "cell_type": "markdown",
   "metadata": {},
   "source": [
    "#  Thời gian tạo lập HĐ DKXM"
   ]
  },
  {
   "cell_type": "code",
   "execution_count": 298,
   "metadata": {},
   "outputs": [],
   "source": [
    "motor_title_describe = open_data[open_data['categoryname'] == 'Đăng ký xe máy'].describe()"
   ]
  },
  {
   "cell_type": "code",
   "execution_count": 299,
   "metadata": {},
   "outputs": [],
   "source": [
    "motor_title_describe_transposed = motor_title_describe.T\n",
    "\n",
    "motor_title_describe_transposed = motor_title_describe_transposed.reset_index() "
   ]
  },
  {
   "cell_type": "code",
   "execution_count": 300,
   "metadata": {},
   "outputs": [],
   "source": [
    "motor_title_describe_transposed['key'] = 1"
   ]
  },
  {
   "cell_type": "code",
   "execution_count": 301,
   "metadata": {},
   "outputs": [
    {
     "data": {
      "text/html": [
       "<div>\n",
       "<style scoped>\n",
       "    .dataframe tbody tr th:only-of-type {\n",
       "        vertical-align: middle;\n",
       "    }\n",
       "\n",
       "    .dataframe tbody tr th {\n",
       "        vertical-align: top;\n",
       "    }\n",
       "\n",
       "    .dataframe thead th {\n",
       "        text-align: right;\n",
       "    }\n",
       "</style>\n",
       "<table border=\"1\" class=\"dataframe\">\n",
       "  <thead>\n",
       "    <tr style=\"text-align: right;\">\n",
       "      <th></th>\n",
       "      <th>index</th>\n",
       "      <th>count</th>\n",
       "      <th>mean</th>\n",
       "      <th>std</th>\n",
       "      <th>min</th>\n",
       "      <th>25%</th>\n",
       "      <th>50%</th>\n",
       "      <th>75%</th>\n",
       "      <th>max</th>\n",
       "      <th>key</th>\n",
       "    </tr>\n",
       "  </thead>\n",
       "  <tbody>\n",
       "    <tr>\n",
       "      <th>0</th>\n",
       "      <td>init_to_comple</td>\n",
       "      <td>17488.0</td>\n",
       "      <td>62.891257</td>\n",
       "      <td>58.544472</td>\n",
       "      <td>4.283333</td>\n",
       "      <td>32.8625</td>\n",
       "      <td>45.983333</td>\n",
       "      <td>69.066667</td>\n",
       "      <td>812.916667</td>\n",
       "      <td>1</td>\n",
       "    </tr>\n",
       "  </tbody>\n",
       "</table>\n",
       "</div>"
      ],
      "text/plain": [
       "            index    count       mean        std       min      25%  \\\n",
       "0  init_to_comple  17488.0  62.891257  58.544472  4.283333  32.8625   \n",
       "\n",
       "         50%        75%         max  key  \n",
       "0  45.983333  69.066667  812.916667    1  "
      ]
     },
     "execution_count": 301,
     "metadata": {},
     "output_type": "execute_result"
    }
   ],
   "source": [
    "motor_title_describe_transposed"
   ]
  },
  {
   "cell_type": "code",
   "execution_count": 306,
   "metadata": {},
   "outputs": [],
   "source": [
    "motor_title_open_data = open_data[open_data['categoryname'] == 'Đăng ký xe máy']\n",
    "\n",
    "motor_title_open_data['key'] = 1\n",
    "\n",
    "motor_title_open_data = motor_title_open_data.merge(motor_title_describe_transposed, on = 'key', how = 'left')"
   ]
  },
  {
   "cell_type": "code",
   "execution_count": 308,
   "metadata": {},
   "outputs": [
    {
     "data": {
      "text/plain": [
       "Index(['extrac_date', 'support_staff', 'created_staff', 'shopcode', 'codeno',\n",
       "       'customer', 'categoryname', 'openhour', 'inittime', 'complete',\n",
       "       'init_to_comple', 'key', 'index', 'count', 'mean', 'std', 'min', '25%',\n",
       "       '50%', '75%', 'max'],\n",
       "      dtype='object')"
      ]
     },
     "execution_count": 308,
     "metadata": {},
     "output_type": "execute_result"
    }
   ],
   "source": [
    "motor_title_open_data.columns"
   ]
  },
  {
   "cell_type": "code",
   "execution_count": 309,
   "metadata": {},
   "outputs": [
    {
     "data": {
      "text/plain": [
       "count    17488.000000\n",
       "mean        62.891257\n",
       "std         58.544472\n",
       "min          4.283333\n",
       "25%         32.862500\n",
       "50%         45.983333\n",
       "75%         69.066667\n",
       "max        812.916667\n",
       "Name: init_to_comple, dtype: float64"
      ]
     },
     "execution_count": 309,
     "metadata": {},
     "output_type": "execute_result"
    }
   ],
   "source": [
    "motor_title_open_data['init_to_comple'].describe()"
   ]
  },
  {
   "cell_type": "code",
   "execution_count": 310,
   "metadata": {},
   "outputs": [
    {
     "data": {
      "text/plain": [
       "count    4372.000000\n",
       "mean       25.368142\n",
       "std         5.287823\n",
       "min         4.283333\n",
       "25%        21.950000\n",
       "50%        26.283333\n",
       "75%        29.600000\n",
       "max        32.850000\n",
       "Name: init_to_comple, dtype: float64"
      ]
     },
     "execution_count": 310,
     "metadata": {},
     "output_type": "execute_result"
    }
   ],
   "source": [
    "motor_title_open_data[motor_title_open_data['init_to_comple']< motor_title_open_data['25%']]['init_to_comple'].describe()"
   ]
  },
  {
   "cell_type": "code",
   "execution_count": 311,
   "metadata": {},
   "outputs": [
    {
     "data": {
      "text/plain": [
       "(array([  2.,   3.,   5.,  13.,  24.,  48.,  77.,  78., 126., 168., 173.,\n",
       "        242., 325., 334., 392., 413., 507., 473., 498., 471.]),\n",
       " array([ 4.28333333,  5.71166667,  7.14      ,  8.56833333,  9.99666667,\n",
       "        11.425     , 12.85333333, 14.28166667, 15.71      , 17.13833333,\n",
       "        18.56666667, 19.995     , 21.42333333, 22.85166667, 24.28      ,\n",
       "        25.70833333, 27.13666667, 28.565     , 29.99333333, 31.42166667,\n",
       "        32.85      ]),\n",
       " <a list of 20 Patch objects>)"
      ]
     },
     "execution_count": 311,
     "metadata": {},
     "output_type": "execute_result"
    },
    {
     "data": {
      "image/png": "[encoded data removed]",
      "text/plain": [
       "<Figure size 432x288 with 1 Axes>"
      ]
     },
     "metadata": {
      "needs_background": "light"
     },
     "output_type": "display_data"
    }
   ],
   "source": [
    "plt.hist(motor_title_open_data[motor_title_open_data['init_to_comple']<= motor_title_open_data['25%']]['init_to_comple'], bins=20, alpha=0.7, rwidth=0.85)"
   ]
  },
  {
   "cell_type": "code",
   "execution_count": 312,
   "metadata": {},
   "outputs": [
    {
     "data": {
      "text/plain": [
       "<matplotlib.axes._subplots.AxesSubplot at 0x15b45a992b0>"
      ]
     },
     "execution_count": 312,
     "metadata": {},
     "output_type": "execute_result"
    },
    {
     "data": {
      "image/png": "[encoded data removed]",
      "text/plain": [
       "<Figure size 432x288 with 1 Axes>"
      ]
     },
     "metadata": {
      "needs_background": "light"
     },
     "output_type": "display_data"
    }
   ],
   "source": [
    "sns.boxplot(motor_title_open_data[motor_title_open_data['init_to_comple']<= motor_title_open_data['25%']]['init_to_comple'])"
   ]
  },
  {
   "cell_type": "code",
   "execution_count": 314,
   "metadata": {},
   "outputs": [],
   "source": [
    "motor_title_lower_outlier = lower_outlier_selection(motor_title_open_data[motor_title_open_data['init_to_comple']<= motor_title_open_data['25%']]['init_to_comple'])"
   ]
  },
  {
   "cell_type": "code",
   "execution_count": 315,
   "metadata": {},
   "outputs": [
    {
     "data": {
      "text/plain": [
       "10.474999999999996"
      ]
     },
     "execution_count": 315,
     "metadata": {},
     "output_type": "execute_result"
    }
   ],
   "source": [
    "motor_title_lower_outlier"
   ]
  },
  {
   "cell_type": "code",
   "execution_count": 393,
   "metadata": {},
   "outputs": [],
   "source": [
    "motor_title_lower_min = motor_title_lower_outlier\n",
    "motor_title_lower_max = float(motor_title_describe_transposed['25%'])*0.5"
   ]
  },
  {
   "cell_type": "code",
   "execution_count": 84,
   "metadata": {},
   "outputs": [],
   "source": [
    "# Kết quả chọn mẫu:\n",
    "#  HĐ có thời gian tạo lập <= lower_outlier_detection =>100% mẫu\n",
    "# HĐ có thời gian tạo lập > lower_outlier_detection  và nhỏ hơn 25%*0.5 => chọn 20% mẫu\n"
   ]
  },
  {
   "cell_type": "code",
   "execution_count": 316,
   "metadata": {},
   "outputs": [
    {
     "data": {
      "text/plain": [
       "count    4371.000000\n",
       "mean      131.248494\n",
       "std        83.281397\n",
       "min        69.083333\n",
       "25%        80.958333\n",
       "50%        99.866667\n",
       "75%       143.808333\n",
       "max       812.916667\n",
       "Name: init_to_comple, dtype: float64"
      ]
     },
     "execution_count": 316,
     "metadata": {},
     "output_type": "execute_result"
    }
   ],
   "source": [
    "motor_title_open_data[motor_title_open_data['init_to_comple']> motor_title_open_data['75%']]['init_to_comple'].describe()"
   ]
  },
  {
   "cell_type": "code",
   "execution_count": 317,
   "metadata": {},
   "outputs": [
    {
     "data": {
      "text/plain": [
       "(array([2.408e+03, 8.630e+02, 3.860e+02, 2.080e+02, 1.500e+02, 1.050e+02,\n",
       "        6.900e+01, 5.600e+01, 3.900e+01, 2.000e+01, 2.700e+01, 1.200e+01,\n",
       "        1.200e+01, 8.000e+00, 1.000e+00, 3.000e+00, 2.000e+00, 1.000e+00,\n",
       "        0.000e+00, 1.000e+00]),\n",
       " array([ 69.08333333, 106.275     , 143.46666667, 180.65833333,\n",
       "        217.85      , 255.04166667, 292.23333333, 329.425     ,\n",
       "        366.61666667, 403.80833333, 441.        , 478.19166667,\n",
       "        515.38333333, 552.575     , 589.76666667, 626.95833333,\n",
       "        664.15      , 701.34166667, 738.53333333, 775.725     ,\n",
       "        812.91666667]),\n",
       " <a list of 20 Patch objects>)"
      ]
     },
     "execution_count": 317,
     "metadata": {},
     "output_type": "execute_result"
    },
    {
     "data": {
      "image/png": "[encoded data removed]",
      "text/plain": [
       "<Figure size 432x288 with 1 Axes>"
      ]
     },
     "metadata": {
      "needs_background": "light"
     },
     "output_type": "display_data"
    }
   ],
   "source": [
    "plt.hist(motor_title_open_data[motor_title_open_data['init_to_comple']> motor_title_open_data['75%']]['init_to_comple'], bins=20, alpha=0.7, rwidth=0.85)"
   ]
  },
  {
   "cell_type": "code",
   "execution_count": 318,
   "metadata": {},
   "outputs": [
    {
     "data": {
      "text/plain": [
       "<matplotlib.axes._subplots.AxesSubplot at 0x15b45a087b8>"
      ]
     },
     "execution_count": 318,
     "metadata": {},
     "output_type": "execute_result"
    },
    {
     "data": {
      "image/png": "[encoded data removed]",
      "text/plain": [
       "<Figure size 432x288 with 1 Axes>"
      ]
     },
     "metadata": {
      "needs_background": "light"
     },
     "output_type": "display_data"
    }
   ],
   "source": [
    "sns.boxplot(motor_title_open_data[motor_title_open_data['init_to_comple']> motor_title_open_data['75%']]['init_to_comple'])"
   ]
  },
  {
   "cell_type": "code",
   "execution_count": 319,
   "metadata": {},
   "outputs": [],
   "source": [
    "motor_title_upper_outlier = upper_outlier_selection(motor_title_open_data[motor_title_open_data['init_to_comple']> motor_title_open_data['75%']]['init_to_comple'])"
   ]
  },
  {
   "cell_type": "code",
   "execution_count": 396,
   "metadata": {},
   "outputs": [
    {
     "data": {
      "text/plain": [
       "476.16666666666663"
      ]
     },
     "execution_count": 396,
     "metadata": {},
     "output_type": "execute_result"
    }
   ],
   "source": [
    "motor_title_upper_outlier*2"
   ]
  },
  {
   "cell_type": "code",
   "execution_count": 397,
   "metadata": {},
   "outputs": [],
   "source": [
    "motor_title_upper_min = motor_title_upper_outlier\n",
    "motor_title_upper_max = motor_title_upper_outlier*2"
   ]
  },
  {
   "cell_type": "code",
   "execution_count": null,
   "metadata": {},
   "outputs": [],
   "source": [
    "# Kết quả chọn mẫu:\n",
    "#  HĐ có thời gian tạo lập >= upper_outlier_detection*2 =>100% mẫu\n",
    "# HĐ có thời gian tạo lập <upper_outlier_detection*2 và lớn hơn outlier=> chọn 20% mẫu\n"
   ]
  },
  {
   "cell_type": "markdown",
   "metadata": {},
   "source": [
    "Thời gian tạo lập HĐ DKOT"
   ]
  },
  {
   "cell_type": "code",
   "execution_count": 321,
   "metadata": {},
   "outputs": [],
   "source": [
    "car_title_describe = open_data[open_data['categoryname'] == 'Đăng ký Ô tô'].describe()\n",
    "\n",
    "car_title_describe_transposed = car_title_describe.T\n",
    "\n",
    "car_title_describe_transposed = car_title_describe_transposed.reset_index() "
   ]
  },
  {
   "cell_type": "code",
   "execution_count": 322,
   "metadata": {},
   "outputs": [],
   "source": [
    "car_title_describe_transposed['key'] = 1"
   ]
  },
  {
   "cell_type": "code",
   "execution_count": 324,
   "metadata": {},
   "outputs": [],
   "source": [
    "car_title_open_data = open_data[open_data['categoryname'] == 'Đăng ký Ô tô']\n",
    "\n",
    "car_title_open_data['key'] = 1\n",
    "\n",
    "car_title_open_data = car_title_open_data.merge(car_title_describe_transposed, on = 'key', how = 'left')"
   ]
  },
  {
   "cell_type": "code",
   "execution_count": 325,
   "metadata": {},
   "outputs": [
    {
     "data": {
      "text/plain": [
       "count     860.000000\n",
       "mean      147.808682\n",
       "std       113.990387\n",
       "min        15.333333\n",
       "25%        75.962500\n",
       "50%       113.908333\n",
       "75%       183.983333\n",
       "max      1353.383333\n",
       "Name: init_to_comple, dtype: float64"
      ]
     },
     "execution_count": 325,
     "metadata": {},
     "output_type": "execute_result"
    }
   ],
   "source": [
    "car_title_open_data['init_to_comple'].describe()"
   ]
  },
  {
   "cell_type": "code",
   "execution_count": 326,
   "metadata": {},
   "outputs": [
    {
     "data": {
      "text/plain": [
       "(array([ 1.,  1.,  2.,  2.,  3.,  7.,  5.,  6.,  6., 12., 21., 13., 11.,\n",
       "        12., 17., 16., 23., 18., 21., 18.]),\n",
       " array([15.33333333, 18.33916667, 21.345     , 24.35083333, 27.35666667,\n",
       "        30.3625    , 33.36833333, 36.37416667, 39.38      , 42.38583333,\n",
       "        45.39166667, 48.3975    , 51.40333333, 54.40916667, 57.415     ,\n",
       "        60.42083333, 63.42666667, 66.4325    , 69.43833333, 72.44416667,\n",
       "        75.45      ]),\n",
       " <a list of 20 Patch objects>)"
      ]
     },
     "execution_count": 326,
     "metadata": {},
     "output_type": "execute_result"
    },
    {
     "data": {
      "image/png": "[encoded data removed]",
      "text/plain": [
       "<Figure size 432x288 with 1 Axes>"
      ]
     },
     "metadata": {
      "needs_background": "light"
     },
     "output_type": "display_data"
    }
   ],
   "source": [
    "plt.hist(car_title_open_data[car_title_open_data['init_to_comple']<= car_title_open_data['25%']]['init_to_comple'], bins=20, alpha=0.7, rwidth=0.85)"
   ]
  },
  {
   "cell_type": "code",
   "execution_count": 327,
   "metadata": {
    "scrolled": true
   },
   "outputs": [
    {
     "data": {
      "text/plain": [
       "<matplotlib.axes._subplots.AxesSubplot at 0x15b458e9550>"
      ]
     },
     "execution_count": 327,
     "metadata": {},
     "output_type": "execute_result"
    },
    {
     "data": {
      "image/png": "[encoded data removed]",
      "text/plain": [
       "<Figure size 432x288 with 1 Axes>"
      ]
     },
     "metadata": {
      "needs_background": "light"
     },
     "output_type": "display_data"
    }
   ],
   "source": [
    "sns.boxplot(car_title_open_data[car_title_open_data['init_to_comple']<= car_title_open_data['25%']]['init_to_comple'])"
   ]
  },
  {
   "cell_type": "code",
   "execution_count": 328,
   "metadata": {},
   "outputs": [],
   "source": [
    "car_title_lower_outlier = lower_outlier_selection(car_title_open_data[car_title_open_data['init_to_comple']<= car_title_open_data['25%']]['init_to_comple'])"
   ]
  },
  {
   "cell_type": "code",
   "execution_count": 329,
   "metadata": {},
   "outputs": [
    {
     "data": {
      "text/plain": [
       "16.879166666666656"
      ]
     },
     "execution_count": 329,
     "metadata": {},
     "output_type": "execute_result"
    }
   ],
   "source": [
    "car_title_lower_outlier"
   ]
  },
  {
   "cell_type": "code",
   "execution_count": 399,
   "metadata": {},
   "outputs": [],
   "source": [
    "car_title_lower_min = car_title_lower_outlier\n",
    "car_title_lower_max = car_title_lower_outlier*1.5"
   ]
  },
  {
   "cell_type": "code",
   "execution_count": null,
   "metadata": {},
   "outputs": [],
   "source": []
  },
  {
   "cell_type": "code",
   "execution_count": null,
   "metadata": {},
   "outputs": [],
   "source": [
    "# HĐ tạo trong vòng nhỏ hơn dkot_lower_outlier\n",
    "# chọn 50% mẫu trong khoảng >dkot_lower_outlier  và dkot_lower_outlier*1.5 =>chon 50% số mẫu"
   ]
  },
  {
   "cell_type": "code",
   "execution_count": 330,
   "metadata": {},
   "outputs": [
    {
     "data": {
      "text/plain": [
       "count     215.000000\n",
       "mean      297.591860\n",
       "std       131.854573\n",
       "min       184.883333\n",
       "25%       212.875000\n",
       "50%       254.000000\n",
       "75%       340.641667\n",
       "max      1353.383333\n",
       "Name: init_to_comple, dtype: float64"
      ]
     },
     "execution_count": 330,
     "metadata": {},
     "output_type": "execute_result"
    }
   ],
   "source": [
    "car_title_open_data[car_title_open_data['init_to_comple']> car_title_open_data['75%']]['init_to_comple'].describe()"
   ]
  },
  {
   "cell_type": "code",
   "execution_count": 331,
   "metadata": {},
   "outputs": [
    {
     "data": {
      "text/plain": [
       "(array([95., 43., 29., 22.,  9., 10.,  1.,  3.,  1.,  0.,  0.,  0.,  1.,\n",
       "         0.,  0.,  0.,  0.,  0.,  0.,  1.]),\n",
       " array([ 184.88333333,  243.30833333,  301.73333333,  360.15833333,\n",
       "         418.58333333,  477.00833333,  535.43333333,  593.85833333,\n",
       "         652.28333333,  710.70833333,  769.13333333,  827.55833333,\n",
       "         885.98333333,  944.40833333, 1002.83333333, 1061.25833333,\n",
       "        1119.68333333, 1178.10833333, 1236.53333333, 1294.95833333,\n",
       "        1353.38333333]),\n",
       " <a list of 20 Patch objects>)"
      ]
     },
     "execution_count": 331,
     "metadata": {},
     "output_type": "execute_result"
    },
    {
     "data": {
      "image/png": "[encoded data removed]",
      "text/plain": [
       "<Figure size 432x288 with 1 Axes>"
      ]
     },
     "metadata": {
      "needs_background": "light"
     },
     "output_type": "display_data"
    }
   ],
   "source": [
    "plt.hist(car_title_open_data[car_title_open_data['init_to_comple']> car_title_open_data['75%']]['init_to_comple'], bins=20, alpha=0.7, rwidth=0.85)"
   ]
  },
  {
   "cell_type": "code",
   "execution_count": 332,
   "metadata": {},
   "outputs": [
    {
     "data": {
      "text/plain": [
       "<matplotlib.axes._subplots.AxesSubplot at 0x15b45800e10>"
      ]
     },
     "execution_count": 332,
     "metadata": {},
     "output_type": "execute_result"
    },
    {
     "data": {
      "image/png": "[encoded data removed]",
      "text/plain": [
       "<Figure size 432x288 with 1 Axes>"
      ]
     },
     "metadata": {
      "needs_background": "light"
     },
     "output_type": "display_data"
    }
   ],
   "source": [
    "sns.boxplot(car_title_open_data[car_title_open_data['init_to_comple']> car_title_open_data['75%']]['init_to_comple'])"
   ]
  },
  {
   "cell_type": "code",
   "execution_count": 333,
   "metadata": {},
   "outputs": [
    {
     "data": {
      "text/plain": [
       "count     215.000000\n",
       "mean      297.591860\n",
       "std       131.854573\n",
       "min       184.883333\n",
       "25%       212.875000\n",
       "50%       254.000000\n",
       "75%       340.641667\n",
       "max      1353.383333\n",
       "Name: init_to_comple, dtype: float64"
      ]
     },
     "execution_count": 333,
     "metadata": {},
     "output_type": "execute_result"
    }
   ],
   "source": [
    "car_title_open_data[car_title_open_data['init_to_comple']> car_title_open_data['75%']]['init_to_comple'].describe()"
   ]
  },
  {
   "cell_type": "code",
   "execution_count": 334,
   "metadata": {},
   "outputs": [],
   "source": [
    "car_title_upper_outlier = upper_outlier_selection(car_title_open_data[car_title_open_data['init_to_comple']> car_title_open_data['75%']]['init_to_comple'])"
   ]
  },
  {
   "cell_type": "code",
   "execution_count": 398,
   "metadata": {},
   "outputs": [],
   "source": [
    "car_title_upper_min = float(car_title_describe_transposed['75%'])\n",
    "car_title_upper_max = car_title_upper_outlier"
   ]
  },
  {
   "cell_type": "code",
   "execution_count": null,
   "metadata": {},
   "outputs": [],
   "source": []
  },
  {
   "cell_type": "code",
   "execution_count": 90,
   "metadata": {},
   "outputs": [],
   "source": [
    "# Chọn mẫu\n",
    "#  100% các HĐ có thời gian tạo lập>= upper_outlier\n",
    "#  20% số lượng mẫu các HĐ >75% và upper_outlier"
   ]
  },
  {
   "cell_type": "markdown",
   "metadata": {},
   "source": [
    "Xe máy"
   ]
  },
  {
   "cell_type": "code",
   "execution_count": 281,
   "metadata": {},
   "outputs": [],
   "source": [
    "open_data_motor = open_data[open_data['categoryname'] == 'Xe máy']\n",
    "open_data_motor = open_data_motor[open_data_motor['init_to_comple'].isnull() == False]"
   ]
  },
  {
   "cell_type": "code",
   "execution_count": 282,
   "metadata": {},
   "outputs": [],
   "source": [
    "motor_describe = open_data_motor.describe()\n",
    "\n",
    "motor_describe_transposed = motor_describe.T\n",
    "\n",
    "motor_describe_transposed = motor_describe_transposed.reset_index() "
   ]
  },
  {
   "cell_type": "code",
   "execution_count": 335,
   "metadata": {},
   "outputs": [
    {
     "data": {
      "text/plain": [
       "(array([1.523e+03, 5.890e+02, 1.140e+02, 4.100e+01, 1.700e+01, 8.000e+00,\n",
       "        5.000e+00, 5.000e+00, 0.000e+00, 0.000e+00, 0.000e+00, 0.000e+00,\n",
       "        0.000e+00, 0.000e+00, 0.000e+00, 1.000e+00, 0.000e+00, 0.000e+00,\n",
       "        0.000e+00, 2.000e+00]),\n",
       " array([  1.93333333,  15.1575    ,  28.38166667,  41.60583333,\n",
       "         54.83      ,  68.05416667,  81.27833333,  94.5025    ,\n",
       "        107.72666667, 120.95083333, 134.175     , 147.39916667,\n",
       "        160.62333333, 173.8475    , 187.07166667, 200.29583333,\n",
       "        213.52      , 226.74416667, 239.96833333, 253.1925    ,\n",
       "        266.41666667]),\n",
       " <a list of 20 Patch objects>)"
      ]
     },
     "execution_count": 335,
     "metadata": {},
     "output_type": "execute_result"
    },
    {
     "data": {
      "image/png": "[encoded data removed]",
      "text/plain": [
       "<Figure size 432x288 with 1 Axes>"
      ]
     },
     "metadata": {
      "needs_background": "light"
     },
     "output_type": "display_data"
    }
   ],
   "source": [
    "plt.hist(open_data_motor['init_to_comple'], bins = 20, alpha=0.7, rwidth=0.85 )"
   ]
  },
  {
   "cell_type": "code",
   "execution_count": 336,
   "metadata": {},
   "outputs": [
    {
     "data": {
      "text/plain": [
       "<matplotlib.axes._subplots.AxesSubplot at 0x15b458004e0>"
      ]
     },
     "execution_count": 336,
     "metadata": {},
     "output_type": "execute_result"
    },
    {
     "data": {
      "image/png": "[encoded data removed]",
      "text/plain": [
       "<Figure size 432x288 with 1 Axes>"
      ]
     },
     "metadata": {
      "needs_background": "light"
     },
     "output_type": "display_data"
    }
   ],
   "source": [
    "sns.boxplot(open_data_motor['init_to_comple'])"
   ]
  },
  {
   "cell_type": "code",
   "execution_count": 337,
   "metadata": {},
   "outputs": [],
   "source": [
    "motor_upper_outlier = upper_outlier_selection(open_data_motor['init_to_comple'])"
   ]
  },
  {
   "cell_type": "code",
   "execution_count": 379,
   "metadata": {},
   "outputs": [],
   "source": [
    "motor_lower_outlier = float(motor_describe_transposed['25%'])"
   ]
  },
  {
   "cell_type": "code",
   "execution_count": 400,
   "metadata": {},
   "outputs": [
    {
     "data": {
      "text/plain": [
       "32.975"
      ]
     },
     "execution_count": 400,
     "metadata": {},
     "output_type": "execute_result"
    }
   ],
   "source": [
    "motor_upper_outlier"
   ]
  },
  {
   "cell_type": "code",
   "execution_count": 414,
   "metadata": {},
   "outputs": [],
   "source": [
    "motor_upper_min = motor_upper_outlier\n",
    "motor_upper_max = motor_upper_outlier*2"
   ]
  },
  {
   "cell_type": "code",
   "execution_count": 120,
   "metadata": {},
   "outputs": [],
   "source": [
    "#  Kết quả ngưỡng cảnh báo\n",
    "#  HĐ có thời gian mở <25% hoặc lớn hơn upper_outlier*2 =>100%\n",
    "# 20% mẫu từ upper_outlier_selection đến upper_outlier*2"
   ]
  },
  {
   "cell_type": "code",
   "execution_count": null,
   "metadata": {},
   "outputs": [],
   "source": []
  },
  {
   "cell_type": "code",
   "execution_count": 286,
   "metadata": {},
   "outputs": [],
   "source": [
    "car_open_data = open_data[open_data['categoryname'] == 'Ô tô']\n",
    "car_open_data = car_open_data[car_open_data['init_to_comple'].isnull() == False]"
   ]
  },
  {
   "cell_type": "code",
   "execution_count": 287,
   "metadata": {},
   "outputs": [],
   "source": [
    "car_describe = car_open_data.describe()\n",
    "\n",
    "car_describe_transposed = car_describe.T\n",
    "\n",
    "car_describe_transposed = car_describe_transposed.reset_index() "
   ]
  },
  {
   "cell_type": "code",
   "execution_count": 288,
   "metadata": {},
   "outputs": [
    {
     "data": {
      "text/html": [
       "<div>\n",
       "<style scoped>\n",
       "    .dataframe tbody tr th:only-of-type {\n",
       "        vertical-align: middle;\n",
       "    }\n",
       "\n",
       "    .dataframe tbody tr th {\n",
       "        vertical-align: top;\n",
       "    }\n",
       "\n",
       "    .dataframe thead th {\n",
       "        text-align: right;\n",
       "    }\n",
       "</style>\n",
       "<table border=\"1\" class=\"dataframe\">\n",
       "  <thead>\n",
       "    <tr style=\"text-align: right;\">\n",
       "      <th></th>\n",
       "      <th>index</th>\n",
       "      <th>count</th>\n",
       "      <th>mean</th>\n",
       "      <th>std</th>\n",
       "      <th>min</th>\n",
       "      <th>25%</th>\n",
       "      <th>50%</th>\n",
       "      <th>75%</th>\n",
       "      <th>max</th>\n",
       "    </tr>\n",
       "  </thead>\n",
       "  <tbody>\n",
       "    <tr>\n",
       "      <th>0</th>\n",
       "      <td>init_to_comple</td>\n",
       "      <td>66.0</td>\n",
       "      <td>115.791414</td>\n",
       "      <td>89.016604</td>\n",
       "      <td>16.15</td>\n",
       "      <td>67.758333</td>\n",
       "      <td>92.075</td>\n",
       "      <td>135.3375</td>\n",
       "      <td>517.316667</td>\n",
       "    </tr>\n",
       "  </tbody>\n",
       "</table>\n",
       "</div>"
      ],
      "text/plain": [
       "            index  count        mean        std    min        25%     50%  \\\n",
       "0  init_to_comple   66.0  115.791414  89.016604  16.15  67.758333  92.075   \n",
       "\n",
       "        75%         max  \n",
       "0  135.3375  517.316667  "
      ]
     },
     "execution_count": 288,
     "metadata": {},
     "output_type": "execute_result"
    }
   ],
   "source": [
    "car_describe_transposed"
   ]
  },
  {
   "cell_type": "code",
   "execution_count": 338,
   "metadata": {},
   "outputs": [
    {
     "data": {
      "text/plain": [
       "<matplotlib.axes._subplots.AxesSubplot at 0x15b43b6b748>"
      ]
     },
     "execution_count": 338,
     "metadata": {},
     "output_type": "execute_result"
    },
    {
     "data": {
      "image/png": "[encoded data removed]",
      "text/plain": [
       "<Figure size 432x288 with 1 Axes>"
      ]
     },
     "metadata": {
      "needs_background": "light"
     },
     "output_type": "display_data"
    }
   ],
   "source": [
    "sns.boxplot(car_open_data['init_to_comple'])"
   ]
  },
  {
   "cell_type": "code",
   "execution_count": 340,
   "metadata": {},
   "outputs": [
    {
     "data": {
      "text/html": [
       "<div>\n",
       "<style scoped>\n",
       "    .dataframe tbody tr th:only-of-type {\n",
       "        vertical-align: middle;\n",
       "    }\n",
       "\n",
       "    .dataframe tbody tr th {\n",
       "        vertical-align: top;\n",
       "    }\n",
       "\n",
       "    .dataframe thead th {\n",
       "        text-align: right;\n",
       "    }\n",
       "</style>\n",
       "<table border=\"1\" class=\"dataframe\">\n",
       "  <thead>\n",
       "    <tr style=\"text-align: right;\">\n",
       "      <th></th>\n",
       "      <th>extrac_date</th>\n",
       "      <th>support_staff</th>\n",
       "      <th>created_staff</th>\n",
       "      <th>shopcode</th>\n",
       "      <th>codeno</th>\n",
       "      <th>customer</th>\n",
       "      <th>categoryname</th>\n",
       "      <th>openhour</th>\n",
       "      <th>inittime</th>\n",
       "      <th>complete</th>\n",
       "      <th>init_to_comple</th>\n",
       "    </tr>\n",
       "  </thead>\n",
       "  <tbody>\n",
       "    <tr>\n",
       "      <th>17063</th>\n",
       "      <td>2020-10-20</td>\n",
       "      <td>F01137</td>\n",
       "      <td>F01137</td>\n",
       "      <td>NAN0185</td>\n",
       "      <td>HÐCC/NAN0185/2010/60</td>\n",
       "      <td>Nguyễn Trường Sơn</td>\n",
       "      <td>Ô tô</td>\n",
       "      <td>2020-10-20 19:20:45.693</td>\n",
       "      <td>2020-10-20 19:19:23</td>\n",
       "      <td>2020-10-20 19:47:29.773</td>\n",
       "      <td>28.10</td>\n",
       "    </tr>\n",
       "    <tr>\n",
       "      <th>18911</th>\n",
       "      <td>2020-11-05</td>\n",
       "      <td>F100265</td>\n",
       "      <td>F101429</td>\n",
       "      <td>SG2043</td>\n",
       "      <td>HÐCC/SG2043/2011/15</td>\n",
       "      <td>NGUYỄN TRẦN KIM KHÁNH</td>\n",
       "      <td>Ô tô</td>\n",
       "      <td>2020-11-05 13:54:48.090</td>\n",
       "      <td>2020-11-05 13:47:44</td>\n",
       "      <td>2020-11-05 14:03:53.670</td>\n",
       "      <td>16.15</td>\n",
       "    </tr>\n",
       "  </tbody>\n",
       "</table>\n",
       "</div>"
      ],
      "text/plain": [
       "      extrac_date support_staff created_staff shopcode                codeno  \\\n",
       "17063  2020-10-20        F01137        F01137  NAN0185  HÐCC/NAN0185/2010/60   \n",
       "18911  2020-11-05       F100265       F101429   SG2043   HÐCC/SG2043/2011/15   \n",
       "\n",
       "                    customer categoryname                openhour  \\\n",
       "17063      Nguyễn Trường Sơn         Ô tô 2020-10-20 19:20:45.693   \n",
       "18911  NGUYỄN TRẦN KIM KHÁNH         Ô tô 2020-11-05 13:54:48.090   \n",
       "\n",
       "                 inittime                complete  init_to_comple  \n",
       "17063 2020-10-20 19:19:23 2020-10-20 19:47:29.773           28.10  \n",
       "18911 2020-11-05 13:47:44 2020-11-05 14:03:53.670           16.15  "
      ]
     },
     "execution_count": 340,
     "metadata": {},
     "output_type": "execute_result"
    }
   ],
   "source": [
    "car_open_data[car_open_data['init_to_comple']<30]"
   ]
  },
  {
   "cell_type": "code",
   "execution_count": 342,
   "metadata": {},
   "outputs": [],
   "source": [
    "car_upper_outlier =upper_outlier_selection(car_open_data[car_open_data['init_to_comple'].isnull() ==False]['init_to_comple'])"
   ]
  },
  {
   "cell_type": "code",
   "execution_count": 381,
   "metadata": {},
   "outputs": [],
   "source": [
    "car_lower_outlier = float(car_describe_transposed['25%'])"
   ]
  },
  {
   "cell_type": "code",
   "execution_count": 401,
   "metadata": {},
   "outputs": [],
   "source": [
    "car_upper_min = float(car_describe_transposed['75%'])*1.5\n",
    "car_upper_max = car_upper_outlier"
   ]
  },
  {
   "cell_type": "code",
   "execution_count": 132,
   "metadata": {},
   "outputs": [],
   "source": [
    "# Kết quả\n",
    "#  100% HĐ có thời gian tạo lập > upper_outlier và <25%*0.5\n",
    "#  20 % HĐ có thời gian tạo lập lớn hơn 75%*1.5 và upper_outlier"
   ]
  },
  {
   "cell_type": "markdown",
   "metadata": {},
   "source": [
    "Các tài sản khác"
   ]
  },
  {
   "cell_type": "code",
   "execution_count": 200,
   "metadata": {},
   "outputs": [],
   "source": [
    "# Laptop\n",
    "laptop_open_data = open_data[(open_data['categoryname'] == 'Laptop')] \n",
    "laptop_open_data = laptop_open_data[laptop_open_data['init_to_comple'].isnull() == False]\n",
    "laptop_describe = laptop_open_data.describe()\n",
    "\n",
    "laptop_describe_transposed = laptop_describe.T\n",
    "\n",
    "laptop_describe_transposed = laptop_describe_transposed.reset_index() "
   ]
  },
  {
   "cell_type": "code",
   "execution_count": 201,
   "metadata": {},
   "outputs": [
    {
     "data": {
      "text/html": [
       "<div>\n",
       "<style scoped>\n",
       "    .dataframe tbody tr th:only-of-type {\n",
       "        vertical-align: middle;\n",
       "    }\n",
       "\n",
       "    .dataframe tbody tr th {\n",
       "        vertical-align: top;\n",
       "    }\n",
       "\n",
       "    .dataframe thead th {\n",
       "        text-align: right;\n",
       "    }\n",
       "</style>\n",
       "<table border=\"1\" class=\"dataframe\">\n",
       "  <thead>\n",
       "    <tr style=\"text-align: right;\">\n",
       "      <th></th>\n",
       "      <th>index</th>\n",
       "      <th>count</th>\n",
       "      <th>mean</th>\n",
       "      <th>std</th>\n",
       "      <th>min</th>\n",
       "      <th>25%</th>\n",
       "      <th>50%</th>\n",
       "      <th>75%</th>\n",
       "      <th>max</th>\n",
       "    </tr>\n",
       "  </thead>\n",
       "  <tbody>\n",
       "    <tr>\n",
       "      <th>0</th>\n",
       "      <td>init_to_comple</td>\n",
       "      <td>2906.0</td>\n",
       "      <td>19.099513</td>\n",
       "      <td>21.082727</td>\n",
       "      <td>1.233333</td>\n",
       "      <td>9.166667</td>\n",
       "      <td>14.8</td>\n",
       "      <td>23.0</td>\n",
       "      <td>548.733333</td>\n",
       "    </tr>\n",
       "  </tbody>\n",
       "</table>\n",
       "</div>"
      ],
      "text/plain": [
       "            index   count       mean        std       min       25%   50%  \\\n",
       "0  init_to_comple  2906.0  19.099513  21.082727  1.233333  9.166667  14.8   \n",
       "\n",
       "    75%         max  \n",
       "0  23.0  548.733333  "
      ]
     },
     "execution_count": 201,
     "metadata": {},
     "output_type": "execute_result"
    }
   ],
   "source": [
    "laptop_describe_transposed"
   ]
  },
  {
   "cell_type": "code",
   "execution_count": 213,
   "metadata": {},
   "outputs": [
    {
     "data": {
      "text/plain": [
       "(array([2.447e+03, 3.850e+02, 4.600e+01, 6.000e+00, 1.000e+01, 4.000e+00,\n",
       "        3.000e+00, 1.000e+00, 1.000e+00, 1.000e+00, 0.000e+00, 0.000e+00,\n",
       "        0.000e+00, 0.000e+00, 0.000e+00, 1.000e+00, 0.000e+00, 0.000e+00,\n",
       "        0.000e+00, 1.000e+00]),\n",
       " array([  1.23333333,  28.60833333,  55.98333333,  83.35833333,\n",
       "        110.73333333, 138.10833333, 165.48333333, 192.85833333,\n",
       "        220.23333333, 247.60833333, 274.98333333, 302.35833333,\n",
       "        329.73333333, 357.10833333, 384.48333333, 411.85833333,\n",
       "        439.23333333, 466.60833333, 493.98333333, 521.35833333,\n",
       "        548.73333333]),\n",
       " <a list of 20 Patch objects>)"
      ]
     },
     "execution_count": 213,
     "metadata": {},
     "output_type": "execute_result"
    },
    {
     "data": {
      "image/png": "[encoded data removed]",
      "text/plain": [
       "<Figure size 432x288 with 1 Axes>"
      ]
     },
     "metadata": {
      "needs_background": "light"
     },
     "output_type": "display_data"
    }
   ],
   "source": [
    "plt.hist(laptop_open_data['init_to_comple'], bins= 20, alpha=0.7, rwidth=0.85 )"
   ]
  },
  {
   "cell_type": "code",
   "execution_count": 214,
   "metadata": {},
   "outputs": [
    {
     "data": {
      "text/plain": [
       "<matplotlib.axes._subplots.AxesSubplot at 0x15b43712c18>"
      ]
     },
     "execution_count": 214,
     "metadata": {},
     "output_type": "execute_result"
    },
    {
     "data": {
      "image/png": "[encoded data removed]",
      "text/plain": [
       "<Figure size 432x288 with 1 Axes>"
      ]
     },
     "metadata": {
      "needs_background": "light"
     },
     "output_type": "display_data"
    }
   ],
   "source": [
    "sns.boxplot(laptop_open_data['init_to_comple'])"
   ]
  },
  {
   "cell_type": "code",
   "execution_count": 203,
   "metadata": {},
   "outputs": [],
   "source": [
    "laptop_upper_outlier = upper_outlier_selection(laptop_open_data['init_to_comple'])"
   ]
  },
  {
   "cell_type": "code",
   "execution_count": 382,
   "metadata": {},
   "outputs": [],
   "source": [
    "laptop_lower_outlier = float(laptop_describe_transposed['25%'])"
   ]
  },
  {
   "cell_type": "code",
   "execution_count": 402,
   "metadata": {},
   "outputs": [],
   "source": [
    "laptop_upper_min = laptop_upper_outlier\n",
    "laptop_upper_max = laptop_upper_outlier*3"
   ]
  },
  {
   "cell_type": "code",
   "execution_count": null,
   "metadata": {},
   "outputs": [],
   "source": [
    "#  Kết quả \n",
    "#  100% mẫu là nhỏ hơn 25%, lớn hơn upper_outlier*3\n",
    "# Chọn mẫu 20% của danh sách từ upper_outlier đến upper_outlier*3"
   ]
  },
  {
   "cell_type": "code",
   "execution_count": 220,
   "metadata": {},
   "outputs": [],
   "source": [
    "# Máy tính bảng\n",
    "tablet_open_data = open_data[open_data['categoryname'] == 'Máy tính bảng']\n",
    "tablet_open_data = tablet_open_data[tablet_open_data['init_to_comple'].isnull() == False]\n",
    "tablet_describe = tablet_open_data.describe()\n",
    "\n",
    "tablet_describe_transposed = tablet_describe.T\n",
    "\n",
    "tablet_describe_transposed = tablet_describe_transposed.reset_index() "
   ]
  },
  {
   "cell_type": "code",
   "execution_count": 344,
   "metadata": {},
   "outputs": [
    {
     "data": {
      "text/html": [
       "<div>\n",
       "<style scoped>\n",
       "    .dataframe tbody tr th:only-of-type {\n",
       "        vertical-align: middle;\n",
       "    }\n",
       "\n",
       "    .dataframe tbody tr th {\n",
       "        vertical-align: top;\n",
       "    }\n",
       "\n",
       "    .dataframe thead th {\n",
       "        text-align: right;\n",
       "    }\n",
       "</style>\n",
       "<table border=\"1\" class=\"dataframe\">\n",
       "  <thead>\n",
       "    <tr style=\"text-align: right;\">\n",
       "      <th></th>\n",
       "      <th>index</th>\n",
       "      <th>count</th>\n",
       "      <th>mean</th>\n",
       "      <th>std</th>\n",
       "      <th>min</th>\n",
       "      <th>25%</th>\n",
       "      <th>50%</th>\n",
       "      <th>75%</th>\n",
       "      <th>max</th>\n",
       "    </tr>\n",
       "  </thead>\n",
       "  <tbody>\n",
       "    <tr>\n",
       "      <th>0</th>\n",
       "      <td>init_to_comple</td>\n",
       "      <td>280.0</td>\n",
       "      <td>15.813571</td>\n",
       "      <td>18.755269</td>\n",
       "      <td>2.466667</td>\n",
       "      <td>7.1625</td>\n",
       "      <td>11.808333</td>\n",
       "      <td>18.470833</td>\n",
       "      <td>246.95</td>\n",
       "    </tr>\n",
       "  </tbody>\n",
       "</table>\n",
       "</div>"
      ],
      "text/plain": [
       "            index  count       mean        std       min     25%        50%  \\\n",
       "0  init_to_comple  280.0  15.813571  18.755269  2.466667  7.1625  11.808333   \n",
       "\n",
       "         75%     max  \n",
       "0  18.470833  246.95  "
      ]
     },
     "execution_count": 344,
     "metadata": {},
     "output_type": "execute_result"
    }
   ],
   "source": [
    "tablet_describe_transposed"
   ]
  },
  {
   "cell_type": "code",
   "execution_count": 222,
   "metadata": {
    "scrolled": true
   },
   "outputs": [
    {
     "data": {
      "text/plain": [
       "<matplotlib.axes._subplots.AxesSubplot at 0x15b439126a0>"
      ]
     },
     "execution_count": 222,
     "metadata": {},
     "output_type": "execute_result"
    },
    {
     "data": {
      "image/png": "[encoded data removed]",
      "text/plain": [
       "<Figure size 432x288 with 1 Axes>"
      ]
     },
     "metadata": {
      "needs_background": "light"
     },
     "output_type": "display_data"
    }
   ],
   "source": [
    "sns.boxplot(tablet_open_data['init_to_comple'])"
   ]
  },
  {
   "cell_type": "code",
   "execution_count": 223,
   "metadata": {},
   "outputs": [],
   "source": [
    "tablet_upper_outlier = upper_outlier_selection(tablet_open_data['init_to_comple'])"
   ]
  },
  {
   "cell_type": "code",
   "execution_count": 383,
   "metadata": {},
   "outputs": [],
   "source": [
    "tablet_lower_outlier = float(tablet_describe_transposed['25%'])"
   ]
  },
  {
   "cell_type": "code",
   "execution_count": 225,
   "metadata": {},
   "outputs": [],
   "source": [
    "# kết quả\n",
    "#  Cảnh báo 100% >= upper_outlier\n",
    "# Cảnh báo 100% khi nhỏ hơn 25%"
   ]
  },
  {
   "cell_type": "code",
   "execution_count": 345,
   "metadata": {},
   "outputs": [],
   "source": [
    "#  Điện thoại\n",
    "phone_open_data = open_data[open_data['categoryname'] == 'Điện thoại']\n",
    "phone_open_data = phone_open_data[phone_open_data['init_to_comple'].isnull() == False]\n",
    "phone_describe = phone_open_data.describe()\n",
    "\n",
    "phone_describe_transposed = phone_describe.T\n",
    "\n",
    "phone_describe_transposed = phone_describe_transposed.reset_index()\n",
    "# open_data[open_data['categoryname'] == '']['init_to_comple'].describe()"
   ]
  },
  {
   "cell_type": "code",
   "execution_count": 346,
   "metadata": {},
   "outputs": [
    {
     "data": {
      "text/html": [
       "<div>\n",
       "<style scoped>\n",
       "    .dataframe tbody tr th:only-of-type {\n",
       "        vertical-align: middle;\n",
       "    }\n",
       "\n",
       "    .dataframe tbody tr th {\n",
       "        vertical-align: top;\n",
       "    }\n",
       "\n",
       "    .dataframe thead th {\n",
       "        text-align: right;\n",
       "    }\n",
       "</style>\n",
       "<table border=\"1\" class=\"dataframe\">\n",
       "  <thead>\n",
       "    <tr style=\"text-align: right;\">\n",
       "      <th></th>\n",
       "      <th>index</th>\n",
       "      <th>count</th>\n",
       "      <th>mean</th>\n",
       "      <th>std</th>\n",
       "      <th>min</th>\n",
       "      <th>25%</th>\n",
       "      <th>50%</th>\n",
       "      <th>75%</th>\n",
       "      <th>max</th>\n",
       "    </tr>\n",
       "  </thead>\n",
       "  <tbody>\n",
       "    <tr>\n",
       "      <th>0</th>\n",
       "      <td>init_to_comple</td>\n",
       "      <td>2355.0</td>\n",
       "      <td>15.038146</td>\n",
       "      <td>15.616758</td>\n",
       "      <td>1.05</td>\n",
       "      <td>7.158333</td>\n",
       "      <td>11.55</td>\n",
       "      <td>18.091667</td>\n",
       "      <td>259.033333</td>\n",
       "    </tr>\n",
       "  </tbody>\n",
       "</table>\n",
       "</div>"
      ],
      "text/plain": [
       "            index   count       mean        std   min       25%    50%  \\\n",
       "0  init_to_comple  2355.0  15.038146  15.616758  1.05  7.158333  11.55   \n",
       "\n",
       "         75%         max  \n",
       "0  18.091667  259.033333  "
      ]
     },
     "execution_count": 346,
     "metadata": {},
     "output_type": "execute_result"
    }
   ],
   "source": [
    "phone_describe_transposed"
   ]
  },
  {
   "cell_type": "code",
   "execution_count": 153,
   "metadata": {},
   "outputs": [
    {
     "data": {
      "text/plain": [
       "<matplotlib.axes._subplots.AxesSubplot at 0x15b41307240>"
      ]
     },
     "execution_count": 153,
     "metadata": {},
     "output_type": "execute_result"
    },
    {
     "data": {
      "image/png": "[encoded data removed]",
      "text/plain": [
       "<Figure size 432x288 with 1 Axes>"
      ]
     },
     "metadata": {
      "needs_background": "light"
     },
     "output_type": "display_data"
    }
   ],
   "source": [
    "sns.boxplot(open_data[open_data['categoryname'] == 'Điện thoại']['init_to_comple'])"
   ]
  },
  {
   "cell_type": "code",
   "execution_count": 347,
   "metadata": {},
   "outputs": [],
   "source": [
    "phone_upper_outlier = upper_outlier_selection(phone_open_data['init_to_comple'])"
   ]
  },
  {
   "cell_type": "code",
   "execution_count": 384,
   "metadata": {},
   "outputs": [],
   "source": [
    "phone_lower_outlier = float(phone_describe_transposed['25%'])"
   ]
  },
  {
   "cell_type": "code",
   "execution_count": 403,
   "metadata": {},
   "outputs": [],
   "source": [
    "phone_upper_min = phone_upper_outlier\n",
    "phone_upper_max = phone_upper_outlier*2.5"
   ]
  },
  {
   "cell_type": "code",
   "execution_count": 360,
   "metadata": {},
   "outputs": [],
   "source": [
    "#   Đồng hồ\n",
    "watch_open_data = open_data[open_data['categoryname'] == 'Đồng hồ']\n",
    "watch_open_data = watch_open_data[watch_open_data['init_to_comple'].isnull() == False]\n",
    "watch_describe = watch_open_data.describe()\n",
    "\n",
    "watch_describe_transposed = watch_describe.T\n",
    "\n",
    "watch_describe_transposed = watch_describe_transposed.reset_index()"
   ]
  },
  {
   "cell_type": "code",
   "execution_count": 361,
   "metadata": {},
   "outputs": [
    {
     "data": {
      "text/plain": [
       "<matplotlib.axes._subplots.AxesSubplot at 0x15b43c00240>"
      ]
     },
     "execution_count": 361,
     "metadata": {},
     "output_type": "execute_result"
    },
    {
     "data": {
      "image/png": "[encoded data removed]",
      "text/plain": [
       "<Figure size 432x288 with 1 Axes>"
      ]
     },
     "metadata": {
      "needs_background": "light"
     },
     "output_type": "display_data"
    }
   ],
   "source": [
    "sns.boxplot(watch_open_data['init_to_comple'])"
   ]
  },
  {
   "cell_type": "code",
   "execution_count": 362,
   "metadata": {},
   "outputs": [
    {
     "data": {
      "text/html": [
       "<div>\n",
       "<style scoped>\n",
       "    .dataframe tbody tr th:only-of-type {\n",
       "        vertical-align: middle;\n",
       "    }\n",
       "\n",
       "    .dataframe tbody tr th {\n",
       "        vertical-align: top;\n",
       "    }\n",
       "\n",
       "    .dataframe thead th {\n",
       "        text-align: right;\n",
       "    }\n",
       "</style>\n",
       "<table border=\"1\" class=\"dataframe\">\n",
       "  <thead>\n",
       "    <tr style=\"text-align: right;\">\n",
       "      <th></th>\n",
       "      <th>index</th>\n",
       "      <th>count</th>\n",
       "      <th>mean</th>\n",
       "      <th>std</th>\n",
       "      <th>min</th>\n",
       "      <th>25%</th>\n",
       "      <th>50%</th>\n",
       "      <th>75%</th>\n",
       "      <th>max</th>\n",
       "    </tr>\n",
       "  </thead>\n",
       "  <tbody>\n",
       "    <tr>\n",
       "      <th>0</th>\n",
       "      <td>init_to_comple</td>\n",
       "      <td>164.0</td>\n",
       "      <td>18.269004</td>\n",
       "      <td>21.789868</td>\n",
       "      <td>2.883333</td>\n",
       "      <td>8.054167</td>\n",
       "      <td>13.85</td>\n",
       "      <td>21.9375</td>\n",
       "      <td>190.05</td>\n",
       "    </tr>\n",
       "  </tbody>\n",
       "</table>\n",
       "</div>"
      ],
      "text/plain": [
       "            index  count       mean        std       min       25%    50%  \\\n",
       "0  init_to_comple  164.0  18.269004  21.789868  2.883333  8.054167  13.85   \n",
       "\n",
       "       75%     max  \n",
       "0  21.9375  190.05  "
      ]
     },
     "execution_count": 362,
     "metadata": {},
     "output_type": "execute_result"
    }
   ],
   "source": [
    "watch_describe_transposed"
   ]
  },
  {
   "cell_type": "code",
   "execution_count": 363,
   "metadata": {},
   "outputs": [],
   "source": [
    "watch_upper_outlier = upper_outlier_selection(watch_open_data['init_to_comple'])"
   ]
  },
  {
   "cell_type": "code",
   "execution_count": 385,
   "metadata": {},
   "outputs": [],
   "source": [
    "watch_lower_outlier = float(watch_describe_transposed['25%'])"
   ]
  },
  {
   "cell_type": "code",
   "execution_count": 231,
   "metadata": {},
   "outputs": [],
   "source": [
    "#  Trang sức\n",
    "ass_open_data = open_data[open_data['categoryname'] == 'Trang sức']\n",
    "ass_open_data = ass_open_data[ass_open_data['init_to_comple'].isnull() == False]\n",
    "ass_describe = ass_open_data.describe()\n",
    "\n",
    "ass_describe_transposed = ass_describe.T\n",
    "\n",
    "ass_describe_transposed = ass_describe_transposed.reset_index()"
   ]
  },
  {
   "cell_type": "code",
   "execution_count": 365,
   "metadata": {},
   "outputs": [
    {
     "data": {
      "text/html": [
       "<div>\n",
       "<style scoped>\n",
       "    .dataframe tbody tr th:only-of-type {\n",
       "        vertical-align: middle;\n",
       "    }\n",
       "\n",
       "    .dataframe tbody tr th {\n",
       "        vertical-align: top;\n",
       "    }\n",
       "\n",
       "    .dataframe thead th {\n",
       "        text-align: right;\n",
       "    }\n",
       "</style>\n",
       "<table border=\"1\" class=\"dataframe\">\n",
       "  <thead>\n",
       "    <tr style=\"text-align: right;\">\n",
       "      <th></th>\n",
       "      <th>index</th>\n",
       "      <th>count</th>\n",
       "      <th>mean</th>\n",
       "      <th>std</th>\n",
       "      <th>min</th>\n",
       "      <th>25%</th>\n",
       "      <th>50%</th>\n",
       "      <th>75%</th>\n",
       "      <th>max</th>\n",
       "    </tr>\n",
       "  </thead>\n",
       "  <tbody>\n",
       "    <tr>\n",
       "      <th>0</th>\n",
       "      <td>init_to_comple</td>\n",
       "      <td>404.0</td>\n",
       "      <td>12.504208</td>\n",
       "      <td>15.200287</td>\n",
       "      <td>1.383333</td>\n",
       "      <td>6.145833</td>\n",
       "      <td>9.025</td>\n",
       "      <td>13.5125</td>\n",
       "      <td>179.416667</td>\n",
       "    </tr>\n",
       "  </tbody>\n",
       "</table>\n",
       "</div>"
      ],
      "text/plain": [
       "            index  count       mean        std       min       25%    50%  \\\n",
       "0  init_to_comple  404.0  12.504208  15.200287  1.383333  6.145833  9.025   \n",
       "\n",
       "       75%         max  \n",
       "0  13.5125  179.416667  "
      ]
     },
     "execution_count": 365,
     "metadata": {},
     "output_type": "execute_result"
    }
   ],
   "source": [
    "ass_describe_transposed"
   ]
  },
  {
   "cell_type": "code",
   "execution_count": 232,
   "metadata": {},
   "outputs": [
    {
     "data": {
      "text/plain": [
       "<matplotlib.axes._subplots.AxesSubplot at 0x15b40c97860>"
      ]
     },
     "execution_count": 232,
     "metadata": {},
     "output_type": "execute_result"
    },
    {
     "data": {
      "image/png": "[encoded data removed]",
      "text/plain": [
       "<Figure size 432x288 with 1 Axes>"
      ]
     },
     "metadata": {
      "needs_background": "light"
     },
     "output_type": "display_data"
    }
   ],
   "source": [
    "sns.boxplot(ass_open_data['init_to_comple'])"
   ]
  },
  {
   "cell_type": "code",
   "execution_count": 234,
   "metadata": {},
   "outputs": [],
   "source": [
    "ass_upper_outlier = upper_outlier_selection(ass_open_data['init_to_comple'])"
   ]
  },
  {
   "cell_type": "code",
   "execution_count": 386,
   "metadata": {},
   "outputs": [],
   "source": [
    "ass_lower_outlier = float(ass_describe_transposed['25%'])"
   ]
  },
  {
   "cell_type": "code",
   "execution_count": null,
   "metadata": {},
   "outputs": [],
   "source": []
  },
  {
   "cell_type": "code",
   "execution_count": 367,
   "metadata": {},
   "outputs": [],
   "source": [
    "#  Máy ảnh\n",
    "camera_open_data = open_data[open_data['categoryname'] == 'Máy ảnh']\n",
    "camera_open_data = camera_open_data[camera_open_data['init_to_comple'].isnull() == False]\n",
    "camera_describe = camera_open_data.describe()\n",
    "\n",
    "camera_describe_transposed = camera_describe.T\n",
    "\n",
    "camera_describe_transposed = camera_describe_transposed.reset_index()"
   ]
  },
  {
   "cell_type": "code",
   "execution_count": 368,
   "metadata": {},
   "outputs": [
    {
     "data": {
      "text/html": [
       "<div>\n",
       "<style scoped>\n",
       "    .dataframe tbody tr th:only-of-type {\n",
       "        vertical-align: middle;\n",
       "    }\n",
       "\n",
       "    .dataframe tbody tr th {\n",
       "        vertical-align: top;\n",
       "    }\n",
       "\n",
       "    .dataframe thead th {\n",
       "        text-align: right;\n",
       "    }\n",
       "</style>\n",
       "<table border=\"1\" class=\"dataframe\">\n",
       "  <thead>\n",
       "    <tr style=\"text-align: right;\">\n",
       "      <th></th>\n",
       "      <th>index</th>\n",
       "      <th>count</th>\n",
       "      <th>mean</th>\n",
       "      <th>std</th>\n",
       "      <th>min</th>\n",
       "      <th>25%</th>\n",
       "      <th>50%</th>\n",
       "      <th>75%</th>\n",
       "      <th>max</th>\n",
       "    </tr>\n",
       "  </thead>\n",
       "  <tbody>\n",
       "    <tr>\n",
       "      <th>0</th>\n",
       "      <td>init_to_comple</td>\n",
       "      <td>142.0</td>\n",
       "      <td>36.687207</td>\n",
       "      <td>33.860527</td>\n",
       "      <td>5.55</td>\n",
       "      <td>17.370833</td>\n",
       "      <td>26.291667</td>\n",
       "      <td>44.2</td>\n",
       "      <td>198.4</td>\n",
       "    </tr>\n",
       "  </tbody>\n",
       "</table>\n",
       "</div>"
      ],
      "text/plain": [
       "            index  count       mean        std   min        25%        50%  \\\n",
       "0  init_to_comple  142.0  36.687207  33.860527  5.55  17.370833  26.291667   \n",
       "\n",
       "    75%    max  \n",
       "0  44.2  198.4  "
      ]
     },
     "execution_count": 368,
     "metadata": {},
     "output_type": "execute_result"
    }
   ],
   "source": [
    "camera_describe_transposed"
   ]
  },
  {
   "cell_type": "code",
   "execution_count": 369,
   "metadata": {},
   "outputs": [
    {
     "data": {
      "text/plain": [
       "<matplotlib.axes._subplots.AxesSubplot at 0x15b439d67f0>"
      ]
     },
     "execution_count": 369,
     "metadata": {},
     "output_type": "execute_result"
    },
    {
     "data": {
      "image/png": "[encoded data removed]",
      "text/plain": [
       "<Figure size 432x288 with 1 Axes>"
      ]
     },
     "metadata": {
      "needs_background": "light"
     },
     "output_type": "display_data"
    }
   ],
   "source": [
    "sns.boxplot(camera_open_data['init_to_comple'])"
   ]
  },
  {
   "cell_type": "code",
   "execution_count": 370,
   "metadata": {},
   "outputs": [],
   "source": [
    "camera_upper_outlier = upper_outlier_selection(camera_open_data['init_to_comple'])"
   ]
  },
  {
   "cell_type": "code",
   "execution_count": 387,
   "metadata": {},
   "outputs": [],
   "source": [
    "camera_lower_outlier = float(camera_describe_transposed['25%'])"
   ]
  },
  {
   "cell_type": "code",
   "execution_count": null,
   "metadata": {},
   "outputs": [],
   "source": [
    "#  Trả ra full khi thời gian tạo lập HĐ nhỏ hơn 25% và >= ass_upper_outlierabs"
   ]
  },
  {
   "cell_type": "code",
   "execution_count": 236,
   "metadata": {},
   "outputs": [],
   "source": [
    "#  Sim điện thoại\n",
    "card_open_data = open_data[open_data['categoryname'] == 'Sim điện thoại']\n",
    "card_open_data = card_open_data[card_open_data['init_to_comple'].isnull() == False]\n",
    "card_describe = card_open_data.describe()\n",
    "\n",
    "card_describe_transposed = card_describe.T\n",
    "\n",
    "card_describe_transposed = card_describe_transposed.reset_index()"
   ]
  },
  {
   "cell_type": "code",
   "execution_count": 238,
   "metadata": {},
   "outputs": [
    {
     "data": {
      "text/html": [
       "<div>\n",
       "<style scoped>\n",
       "    .dataframe tbody tr th:only-of-type {\n",
       "        vertical-align: middle;\n",
       "    }\n",
       "\n",
       "    .dataframe tbody tr th {\n",
       "        vertical-align: top;\n",
       "    }\n",
       "\n",
       "    .dataframe thead th {\n",
       "        text-align: right;\n",
       "    }\n",
       "</style>\n",
       "<table border=\"1\" class=\"dataframe\">\n",
       "  <thead>\n",
       "    <tr style=\"text-align: right;\">\n",
       "      <th></th>\n",
       "      <th>index</th>\n",
       "      <th>count</th>\n",
       "      <th>mean</th>\n",
       "      <th>std</th>\n",
       "      <th>min</th>\n",
       "      <th>25%</th>\n",
       "      <th>50%</th>\n",
       "      <th>75%</th>\n",
       "      <th>max</th>\n",
       "    </tr>\n",
       "  </thead>\n",
       "  <tbody>\n",
       "    <tr>\n",
       "      <th>0</th>\n",
       "      <td>init_to_comple</td>\n",
       "      <td>3.0</td>\n",
       "      <td>17.038889</td>\n",
       "      <td>7.928593</td>\n",
       "      <td>8.383333</td>\n",
       "      <td>13.583333</td>\n",
       "      <td>18.783333</td>\n",
       "      <td>21.366667</td>\n",
       "      <td>23.95</td>\n",
       "    </tr>\n",
       "  </tbody>\n",
       "</table>\n",
       "</div>"
      ],
      "text/plain": [
       "            index  count       mean       std       min        25%        50%  \\\n",
       "0  init_to_comple    3.0  17.038889  7.928593  8.383333  13.583333  18.783333   \n",
       "\n",
       "         75%    max  \n",
       "0  21.366667  23.95  "
      ]
     },
     "execution_count": 238,
     "metadata": {},
     "output_type": "execute_result"
    }
   ],
   "source": [
    "card_describe_transposed"
   ]
  },
  {
   "cell_type": "code",
   "execution_count": 237,
   "metadata": {},
   "outputs": [
    {
     "data": {
      "text/plain": [
       "<matplotlib.axes._subplots.AxesSubplot at 0x15b45975e80>"
      ]
     },
     "execution_count": 237,
     "metadata": {},
     "output_type": "execute_result"
    },
    {
     "data": {
      "image/png": "[encoded data removed]",
      "text/plain": [
       "<Figure size 432x288 with 1 Axes>"
      ]
     },
     "metadata": {
      "needs_background": "light"
     },
     "output_type": "display_data"
    }
   ],
   "source": [
    "sns.boxplot(card_open_data['init_to_comple'])"
   ]
  },
  {
   "cell_type": "code",
   "execution_count": 163,
   "metadata": {},
   "outputs": [
    {
     "data": {
      "text/plain": [
       "count      6.000000\n",
       "mean      62.730556\n",
       "std       82.093674\n",
       "min        6.266667\n",
       "25%       13.904167\n",
       "50%       38.458333\n",
       "75%       56.750000\n",
       "max      224.633333\n",
       "Name: init_to_comple, dtype: float64"
      ]
     },
     "execution_count": 163,
     "metadata": {},
     "output_type": "execute_result"
    }
   ],
   "source": [
    "# Tài sản khác\n",
    "open_data[open_data['categoryname'] == 'Tài sản khác']['init_to_comple'].describe()"
   ]
  },
  {
   "cell_type": "code",
   "execution_count": 164,
   "metadata": {},
   "outputs": [
    {
     "data": {
      "text/plain": [
       "<matplotlib.axes._subplots.AxesSubplot at 0x15b410c0940>"
      ]
     },
     "execution_count": 164,
     "metadata": {},
     "output_type": "execute_result"
    },
    {
     "data": {
      "image/png": "[encoded data removed]",
      "text/plain": [
       "<Figure size 432x288 with 1 Axes>"
      ]
     },
     "metadata": {
      "needs_background": "light"
     },
     "output_type": "display_data"
    }
   ],
   "source": [
    "sns.boxplot(open_data[open_data['categoryname'] == 'Tài sản khác']['init_to_comple'])"
   ]
  },
  {
   "cell_type": "code",
   "execution_count": 366,
   "metadata": {},
   "outputs": [
    {
     "data": {
      "text/plain": [
       "array(['Đăng ký xe máy', 'Laptop', 'Điện thoại', 'Trang sức',\n",
       "       'Đăng ký Ô tô', 'Xe máy', 'Máy tính bảng', 'Đồng hồ', 'Ô tô',\n",
       "       'Máy ảnh', 'Sim điện thoại', 'Tài sản khác', 'Đồng hồ cao cấp',\n",
       "       'Thiết bị định vị'], dtype=object)"
      ]
     },
     "execution_count": 366,
     "metadata": {},
     "output_type": "execute_result"
    }
   ],
   "source": [
    "open_data['categoryname'].unique()"
   ]
  },
  {
   "cell_type": "code",
   "execution_count": 418,
   "metadata": {},
   "outputs": [],
   "source": [
    "full_sample_threshold = {'category_name': ['Đăng ký xe máy', 'Đăng ký Ô tô','Xe máy','Ô tô','Laptop','Máy tính bảng','Điện thoại','Đồng hồ','Trang sức', 'Máy ảnh'],\n",
    "        'lower_threshold': [motor_title_lower_outlier,car_title_lower_outlier, motor_lower_outlier,car_lower_outlier *0.5,laptop_lower_outlier,tablet_lower_outlier,phone_lower_outlier,watch_lower_outlier,ass_lower_outlier,camera_lower_outlier],\n",
    "        'upper_threshold': [motor_title_upper_outlier*2, car_title_upper_outlier, motor_upper_outlier*2, car_upper_outlier, laptop_upper_outlier*3,tablet_upper_outlier,phone_upper_outlier*2.5, watch_upper_outlier, ass_upper_outlier, camera_upper_outlier]}"
   ]
  },
  {
   "cell_type": "code",
   "execution_count": 419,
   "metadata": {},
   "outputs": [],
   "source": [
    "full_sample_threshold_table = pd.DataFrame(full_sample_threshold, columns = ['category_name', 'lower_threshold', 'upper_threshold'])"
   ]
  },
  {
   "cell_type": "code",
   "execution_count": 420,
   "metadata": {},
   "outputs": [],
   "source": [
    "full_sample_threshold_table = full_sample_threshold_table.reset_index()"
   ]
  },
  {
   "cell_type": "code",
   "execution_count": 421,
   "metadata": {},
   "outputs": [
    {
     "data": {
      "text/html": [
       "<div>\n",
       "<style scoped>\n",
       "    .dataframe tbody tr th:only-of-type {\n",
       "        vertical-align: middle;\n",
       "    }\n",
       "\n",
       "    .dataframe tbody tr th {\n",
       "        vertical-align: top;\n",
       "    }\n",
       "\n",
       "    .dataframe thead th {\n",
       "        text-align: right;\n",
       "    }\n",
       "</style>\n",
       "<table border=\"1\" class=\"dataframe\">\n",
       "  <thead>\n",
       "    <tr style=\"text-align: right;\">\n",
       "      <th></th>\n",
       "      <th>index</th>\n",
       "      <th>category_name</th>\n",
       "      <th>lower_threshold</th>\n",
       "      <th>upper_threshold</th>\n",
       "    </tr>\n",
       "  </thead>\n",
       "  <tbody>\n",
       "    <tr>\n",
       "      <th>0</th>\n",
       "      <td>0</td>\n",
       "      <td>Đăng ký xe máy</td>\n",
       "      <td>10.475000</td>\n",
       "      <td>476.166667</td>\n",
       "    </tr>\n",
       "    <tr>\n",
       "      <th>1</th>\n",
       "      <td>1</td>\n",
       "      <td>Đăng ký Ô tô</td>\n",
       "      <td>16.879167</td>\n",
       "      <td>532.291667</td>\n",
       "    </tr>\n",
       "    <tr>\n",
       "      <th>2</th>\n",
       "      <td>2</td>\n",
       "      <td>Xe máy</td>\n",
       "      <td>7.683333</td>\n",
       "      <td>65.950000</td>\n",
       "    </tr>\n",
       "    <tr>\n",
       "      <th>3</th>\n",
       "      <td>3</td>\n",
       "      <td>Ô tô</td>\n",
       "      <td>33.879167</td>\n",
       "      <td>236.706250</td>\n",
       "    </tr>\n",
       "    <tr>\n",
       "      <th>4</th>\n",
       "      <td>4</td>\n",
       "      <td>Laptop</td>\n",
       "      <td>9.166667</td>\n",
       "      <td>131.250000</td>\n",
       "    </tr>\n",
       "    <tr>\n",
       "      <th>5</th>\n",
       "      <td>5</td>\n",
       "      <td>Máy tính bảng</td>\n",
       "      <td>7.162500</td>\n",
       "      <td>35.433333</td>\n",
       "    </tr>\n",
       "    <tr>\n",
       "      <th>6</th>\n",
       "      <td>6</td>\n",
       "      <td>Điện thoại</td>\n",
       "      <td>7.158333</td>\n",
       "      <td>86.229167</td>\n",
       "    </tr>\n",
       "    <tr>\n",
       "      <th>7</th>\n",
       "      <td>7</td>\n",
       "      <td>Đồng hồ</td>\n",
       "      <td>8.054167</td>\n",
       "      <td>42.762500</td>\n",
       "    </tr>\n",
       "    <tr>\n",
       "      <th>8</th>\n",
       "      <td>8</td>\n",
       "      <td>Trang sức</td>\n",
       "      <td>6.145833</td>\n",
       "      <td>24.562500</td>\n",
       "    </tr>\n",
       "    <tr>\n",
       "      <th>9</th>\n",
       "      <td>9</td>\n",
       "      <td>Máy ảnh</td>\n",
       "      <td>17.370833</td>\n",
       "      <td>84.443750</td>\n",
       "    </tr>\n",
       "  </tbody>\n",
       "</table>\n",
       "</div>"
      ],
      "text/plain": [
       "   index   category_name  lower_threshold  upper_threshold\n",
       "0      0  Đăng ký xe máy        10.475000       476.166667\n",
       "1      1    Đăng ký Ô tô        16.879167       532.291667\n",
       "2      2          Xe máy         7.683333        65.950000\n",
       "3      3            Ô tô        33.879167       236.706250\n",
       "4      4          Laptop         9.166667       131.250000\n",
       "5      5   Máy tính bảng         7.162500        35.433333\n",
       "6      6      Điện thoại         7.158333        86.229167\n",
       "7      7         Đồng hồ         8.054167        42.762500\n",
       "8      8       Trang sức         6.145833        24.562500\n",
       "9      9         Máy ảnh        17.370833        84.443750"
      ]
     },
     "execution_count": 421,
     "metadata": {},
     "output_type": "execute_result"
    }
   ],
   "source": [
    "full_sample_threshold_table"
   ]
  },
  {
   "cell_type": "code",
   "execution_count": 408,
   "metadata": {},
   "outputs": [],
   "source": [
    "part_sample_lower = {'category_name': ['Đăng ký xe máy', 'Đăng ký Ô tô'],\n",
    "        'lower_threshold': [motor_title_lower_min, car_title_lower_min],\n",
    "        'upper_threshold': [motor_title_lower_max, car_title_lower_max]}"
   ]
  },
  {
   "cell_type": "code",
   "execution_count": 410,
   "metadata": {},
   "outputs": [],
   "source": [
    "part_sample_threshold_table_short = pd.DataFrame(part_sample_lower, columns = ['category_name', 'lower_threshold', 'upper_threshold'])"
   ]
  },
  {
   "cell_type": "code",
   "execution_count": 416,
   "metadata": {},
   "outputs": [],
   "source": [
    "part_sample_upper = {'category_name': ['Đăng ký xe máy', 'Đăng ký Ô tô','Xe máy','Ô tô','Laptop','Điện thoại'],\n",
    "        'lower_threshold': [motor_title_upper_min, car_title_upper_min, motor_upper_min, car_upper_min,laptop_upper_min, phone_upper_min],\n",
    "        'upper_threshold': [motor_title_upper_max, car_title_upper_max, motor_upper_max, car_upper_max, laptop_upper_max, phone_upper_max]}"
   ]
  },
  {
   "cell_type": "code",
   "execution_count": 417,
   "metadata": {},
   "outputs": [],
   "source": [
    "part_sample_threshold_table_long = pd.DataFrame(part_sample_upper, columns = ['category_name', 'lower_threshold', 'upper_threshold'])"
   ]
  },
  {
   "cell_type": "code",
   "execution_count": 423,
   "metadata": {},
   "outputs": [
    {
     "data": {
      "text/html": [
       "<div>\n",
       "<style scoped>\n",
       "    .dataframe tbody tr th:only-of-type {\n",
       "        vertical-align: middle;\n",
       "    }\n",
       "\n",
       "    .dataframe tbody tr th {\n",
       "        vertical-align: top;\n",
       "    }\n",
       "\n",
       "    .dataframe thead th {\n",
       "        text-align: right;\n",
       "    }\n",
       "</style>\n",
       "<table border=\"1\" class=\"dataframe\">\n",
       "  <thead>\n",
       "    <tr style=\"text-align: right;\">\n",
       "      <th></th>\n",
       "      <th>category_name</th>\n",
       "      <th>lower_threshold</th>\n",
       "      <th>upper_threshold</th>\n",
       "    </tr>\n",
       "  </thead>\n",
       "  <tbody>\n",
       "    <tr>\n",
       "      <th>0</th>\n",
       "      <td>Đăng ký xe máy</td>\n",
       "      <td>238.083333</td>\n",
       "      <td>476.166667</td>\n",
       "    </tr>\n",
       "    <tr>\n",
       "      <th>1</th>\n",
       "      <td>Đăng ký Ô tô</td>\n",
       "      <td>183.983333</td>\n",
       "      <td>532.291667</td>\n",
       "    </tr>\n",
       "    <tr>\n",
       "      <th>2</th>\n",
       "      <td>Xe máy</td>\n",
       "      <td>32.975000</td>\n",
       "      <td>65.950000</td>\n",
       "    </tr>\n",
       "    <tr>\n",
       "      <th>3</th>\n",
       "      <td>Ô tô</td>\n",
       "      <td>203.006250</td>\n",
       "      <td>236.706250</td>\n",
       "    </tr>\n",
       "    <tr>\n",
       "      <th>4</th>\n",
       "      <td>Laptop</td>\n",
       "      <td>43.750000</td>\n",
       "      <td>131.250000</td>\n",
       "    </tr>\n",
       "    <tr>\n",
       "      <th>5</th>\n",
       "      <td>Điện thoại</td>\n",
       "      <td>34.491667</td>\n",
       "      <td>86.229167</td>\n",
       "    </tr>\n",
       "  </tbody>\n",
       "</table>\n",
       "</div>"
      ],
      "text/plain": [
       "    category_name  lower_threshold  upper_threshold\n",
       "0  Đăng ký xe máy       238.083333       476.166667\n",
       "1    Đăng ký Ô tô       183.983333       532.291667\n",
       "2          Xe máy        32.975000        65.950000\n",
       "3            Ô tô       203.006250       236.706250\n",
       "4          Laptop        43.750000       131.250000\n",
       "5      Điện thoại        34.491667        86.229167"
      ]
     },
     "execution_count": 423,
     "metadata": {},
     "output_type": "execute_result"
    }
   ],
   "source": [
    "part_sample_threshold_table_long"
   ]
  },
  {
   "cell_type": "code",
   "execution_count": 426,
   "metadata": {},
   "outputs": [],
   "source": [
    "import xlsxwriter\n",
    "writer = pd.ExcelWriter(r'pawn_process_theshold.xlsx', engine='xlsxwriter')\n",
    "full_sample_threshold_table.to_excel(writer, sheet_name='full_sample')\n",
    "part_sample_threshold_table_long.to_excel(writer, sheet_name='part_process_long')\n",
    "part_sample_threshold_table_short.to_excel(writer, sheet_name = 'part_process_short')\n",
    "# full_tb_dkot.to_excel(writer, sheet_name = 'full_tb_dkot', index = False)\n",
    "# full_tb_dkxm.to_excel(writer, sheet_name = 'full_tb_dkxm', index = False)\n",
    "# ontime_spdk_last_month.to_excel(writer, sheet_name = 'ontime_spdk_last_month', index = False)\n",
    "# balance_pre_days.to_excel(writer, sheet_name= 'balance_pre_days_summ', index = False)\n",
    "writer.save()"
   ]
  },
  {
   "cell_type": "code",
   "execution_count": 425,
   "metadata": {},
   "outputs": [
    {
     "data": {
      "text/html": [
       "<div>\n",
       "<style scoped>\n",
       "    .dataframe tbody tr th:only-of-type {\n",
       "        vertical-align: middle;\n",
       "    }\n",
       "\n",
       "    .dataframe tbody tr th {\n",
       "        vertical-align: top;\n",
       "    }\n",
       "\n",
       "    .dataframe thead th {\n",
       "        text-align: right;\n",
       "    }\n",
       "</style>\n",
       "<table border=\"1\" class=\"dataframe\">\n",
       "  <thead>\n",
       "    <tr style=\"text-align: right;\">\n",
       "      <th></th>\n",
       "      <th>index</th>\n",
       "      <th>category_name</th>\n",
       "      <th>lower_threshold</th>\n",
       "      <th>upper_threshold</th>\n",
       "    </tr>\n",
       "  </thead>\n",
       "  <tbody>\n",
       "    <tr>\n",
       "      <th>0</th>\n",
       "      <td>0</td>\n",
       "      <td>Đăng ký xe máy</td>\n",
       "      <td>10.475000</td>\n",
       "      <td>476.166667</td>\n",
       "    </tr>\n",
       "    <tr>\n",
       "      <th>1</th>\n",
       "      <td>1</td>\n",
       "      <td>Đăng ký Ô tô</td>\n",
       "      <td>16.879167</td>\n",
       "      <td>532.291667</td>\n",
       "    </tr>\n",
       "    <tr>\n",
       "      <th>2</th>\n",
       "      <td>2</td>\n",
       "      <td>Xe máy</td>\n",
       "      <td>7.683333</td>\n",
       "      <td>65.950000</td>\n",
       "    </tr>\n",
       "    <tr>\n",
       "      <th>3</th>\n",
       "      <td>3</td>\n",
       "      <td>Ô tô</td>\n",
       "      <td>33.879167</td>\n",
       "      <td>236.706250</td>\n",
       "    </tr>\n",
       "    <tr>\n",
       "      <th>4</th>\n",
       "      <td>4</td>\n",
       "      <td>Laptop</td>\n",
       "      <td>9.166667</td>\n",
       "      <td>131.250000</td>\n",
       "    </tr>\n",
       "    <tr>\n",
       "      <th>5</th>\n",
       "      <td>5</td>\n",
       "      <td>Máy tính bảng</td>\n",
       "      <td>7.162500</td>\n",
       "      <td>35.433333</td>\n",
       "    </tr>\n",
       "    <tr>\n",
       "      <th>6</th>\n",
       "      <td>6</td>\n",
       "      <td>Điện thoại</td>\n",
       "      <td>7.158333</td>\n",
       "      <td>86.229167</td>\n",
       "    </tr>\n",
       "    <tr>\n",
       "      <th>7</th>\n",
       "      <td>7</td>\n",
       "      <td>Đồng hồ</td>\n",
       "      <td>8.054167</td>\n",
       "      <td>42.762500</td>\n",
       "    </tr>\n",
       "    <tr>\n",
       "      <th>8</th>\n",
       "      <td>8</td>\n",
       "      <td>Trang sức</td>\n",
       "      <td>6.145833</td>\n",
       "      <td>24.562500</td>\n",
       "    </tr>\n",
       "    <tr>\n",
       "      <th>9</th>\n",
       "      <td>9</td>\n",
       "      <td>Máy ảnh</td>\n",
       "      <td>17.370833</td>\n",
       "      <td>84.443750</td>\n",
       "    </tr>\n",
       "  </tbody>\n",
       "</table>\n",
       "</div>"
      ],
      "text/plain": [
       "   index   category_name  lower_threshold  upper_threshold\n",
       "0      0  Đăng ký xe máy        10.475000       476.166667\n",
       "1      1    Đăng ký Ô tô        16.879167       532.291667\n",
       "2      2          Xe máy         7.683333        65.950000\n",
       "3      3            Ô tô        33.879167       236.706250\n",
       "4      4          Laptop         9.166667       131.250000\n",
       "5      5   Máy tính bảng         7.162500        35.433333\n",
       "6      6      Điện thoại         7.158333        86.229167\n",
       "7      7         Đồng hồ         8.054167        42.762500\n",
       "8      8       Trang sức         6.145833        24.562500\n",
       "9      9         Máy ảnh        17.370833        84.443750"
      ]
     },
     "execution_count": 425,
     "metadata": {},
     "output_type": "execute_result"
    }
   ],
   "source": [
    "full_sample_threshold_table"
   ]
  },
  {
   "cell_type": "code",
   "execution_count": 432,
   "metadata": {},
   "outputs": [],
   "source": [
    "\n"
   ]
  },
  {
   "cell_type": "code",
   "execution_count": null,
   "metadata": {},
   "outputs": [],
   "source": []
  }
 ],
 "metadata": {
  "kernelspec": {
   "display_name": "Python 3",
   "language": "python",
   "name": "python3"
  },
  "language_info": {
   "codemirror_mode": {
    "name": "ipython",
    "version": 3
   },
   "file_extension": ".py",
   "mimetype": "text/x-python",
   "name": "python",
   "nbconvert_exporter": "python",
   "pygments_lexer": "ipython3",
   "version": "3.7.1"
  }
 },
 "nbformat": 4,
 "nbformat_minor": 2
}
