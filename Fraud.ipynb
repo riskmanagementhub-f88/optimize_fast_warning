{
 "cells": [
  {
   "cell_type": "code",
   "execution_count": 1,
   "metadata": {},
   "outputs": [],
   "source": [
    "import webbrowser\n",
    "import pandas as pd\n",
    "import gspread\n",
    "import gspread_dataframe as gd\n",
    "from gspread_dataframe import get_as_dataframe, set_with_dataframe\n",
    "from oauth2client.service_account import ServiceAccountCredentials # Đọc dữ liệu từ googlesheets\n",
    "from df2gspread import df2gspread as d2g # Ghi dữ liệu lên googlesheets\n",
    "from pprint import pprint\n",
    "from googleapiclient import discovery\n",
    "import pypyodbc #connect với sql server\n",
    "import numpy as np #Tính toán (=,-,*,/)\n",
    "import sqlalchemy #query trực tiếp\n",
    "import urllib #connect url\n",
    "import time #\n",
    "import datetime as dt\n",
    "import pymssql\n",
    "import random\n",
    "import math\n",
    "import calendar\n",
    "import warnings\n",
    "import itertools\n",
    "warnings.filterwarnings(\"ignore\")\n",
    "import pygsheets"
   ]
  },
  {
   "cell_type": "code",
   "execution_count": 2,
   "metadata": {},
   "outputs": [
    {
     "name": "stdout",
     "output_type": "stream",
     "text": [
      "Connected to SQL server: DWH\n"
     ]
    }
   ],
   "source": [
    "#connect server\n",
    "db = pypyodbc.connect(\"Driver={ODBC Driver 17 for SQL Server};\"\n",
    "                        \"Server=103.69.193.246;\"\n",
    "                        \"Database=dwh;\"\n",
    "                        \"uid=dwh;pwd=F88!23456789\")\n",
    "print('Connected to SQL server: DWH')"
   ]
  },
  {
   "cell_type": "code",
   "execution_count": 3,
   "metadata": {},
   "outputs": [],
   "source": [
    "scope = [\"https://spreadsheets.google.com/feeds\",'https://www.googleapis.com/auth/spreadsheets',\"https://www.googleapis.com/auth/drive.file\",\"https://www.googleapis.com/auth/drive\"]\n",
    "credentials = ServiceAccountCredentials.from_json_keyfile_name(r'D:\\F88\\Python code\\Immediate_warning\\service_account.json', scope)\n",
    "gc = gspread.authorize(credentials)"
   ]
  },
  {
   "cell_type": "code",
   "execution_count": 4,
   "metadata": {},
   "outputs": [],
   "source": [
    "client = pygsheets.authorize(service_account_file=r'D:\\F88\\Python code\\Immediate_warning\\service_account.json')"
   ]
  },
  {
   "cell_type": "code",
   "execution_count": 387,
   "metadata": {},
   "outputs": [],
   "source": [
    "#Lấy ID và truy cập wb Backup\n",
    "backup_ss_id='1iYODUg3bS0JlRzkuq-cnrVZYXJgcNGAa2Wj7i2McHIc'\n",
    "backup_wb=gc.open_by_key(backup_ss_id)\n",
    "\n",
    "#Lấy ID và truy cập wb Warning.Control\n",
    "control_ssheet_id= '1101WzQvQ897hq4xyjvKHesT4ycx8to7bD9EvLGkcPSQ' \n",
    "control_wb=gc.open_by_key(control_ssheet_id)\n",
    "\n",
    "#Function chuyển sheet thành Data Frame\n",
    "def to_dataframe(wb_name,sheet_name,data_row,col):\n",
    "    a=wb_name.worksheet(sheet_name).get_all_values()\n",
    "    return pd.DataFrame(data=a[data_row:],columns=a[col])\n",
    "\n",
    "#Funtion update data vào sheet wb_name:tên wb,target_sheet: tên sheet cần update; data:dữ liệu muốn update\n",
    "def update_data(wb_name,target_sheet,data):\n",
    "    existing =to_dataframe(wb_name,target_sheet,1,0)\n",
    "    updated = existing.append(data,sort=False)\n",
    "    gd.set_with_dataframe(wb_name.worksheet(target_sheet),updated)\n",
    "\n",
    "# Function ghi đè dữ liệu lên gg sheet\n",
    "def write_data(wb_name,ws_name,ws_range,data):\n",
    "    wb_name.values_clear(ws_range)\n",
    "    sheet=wb_name.worksheet(ws_name)\n",
    "    set_with_dataframe(sheet,data)\n",
    "    print('Đã ghi dữ liệu lên sheet '+ ws_name)\n",
    "\n",
    "#Function backup data các HĐ đã check\n",
    "def back_up_data(data):\n",
    "    update_data(backup_wb,'backup',data[['codeno','reason_check','shopcode','year_month']])\n",
    "    short_list=to_dataframe(control_wb,'short_list',1,0)"
   ]
  },
  {
   "cell_type": "code",
   "execution_count": 6,
   "metadata": {},
   "outputs": [],
   "source": [
    "# collecting shop information from business department\n",
    "shop_id='1OCzHxTE7Er8_W1-IT92rTOCISAlufFOjcwtw2eIX0tU'\n",
    "shop_wb=client.open_by_key(shop_id)\n",
    "shop_data=shop_wb.worksheet_by_title('Everything').get_as_df()"
   ]
  },
  {
   "cell_type": "code",
   "execution_count": 110,
   "metadata": {},
   "outputs": [],
   "source": [
    "shop_data = shop_data[['Mã PGD', 'Tỉnh/TP']]"
   ]
  },
  {
   "cell_type": "code",
   "execution_count": 105,
   "metadata": {},
   "outputs": [],
   "source": [
    "# collecting shop information from MKT department\n",
    "shop_id_mkt='1ZTQE_pfBCAUr-0GSMPJBqtCyZVxX4hdiPuT_RDrdjeQ'\n",
    "shop_wb_mkt=client.open_by_key(shop_id_mkt)\n",
    "shop_data_mkt=shop_wb_mkt.worksheet_by_title('shop_detail').get_as_df()"
   ]
  },
  {
   "cell_type": "code",
   "execution_count": 108,
   "metadata": {},
   "outputs": [],
   "source": [
    "shop_data_mkt = shop_data_mkt[['PGD', 'Mã PGD', 'GĐM', 'TPK', 'QLKV']]"
   ]
  },
  {
   "cell_type": "code",
   "execution_count": 98,
   "metadata": {},
   "outputs": [
    {
     "data": {
      "text/html": [
       "<div>\n",
       "<style scoped>\n",
       "    .dataframe tbody tr th:only-of-type {\n",
       "        vertical-align: middle;\n",
       "    }\n",
       "\n",
       "    .dataframe tbody tr th {\n",
       "        vertical-align: top;\n",
       "    }\n",
       "\n",
       "    .dataframe thead th {\n",
       "        text-align: right;\n",
       "    }\n",
       "</style>\n",
       "<table border=\"1\" class=\"dataframe\">\n",
       "  <thead>\n",
       "    <tr style=\"text-align: right;\">\n",
       "      <th></th>\n",
       "      <th>shop_id</th>\n",
       "      <th>shop_name</th>\n",
       "      <th>cash_count_date</th>\n",
       "      <th>min_cash_count</th>\n",
       "      <th>max_cash_count</th>\n",
       "      <th>shopcode</th>\n",
       "      <th>codeno</th>\n",
       "      <th>customer</th>\n",
       "      <th>category_name</th>\n",
       "      <th>openhour</th>\n",
       "      <th>closehour</th>\n",
       "      <th>pawn_fraud_group</th>\n",
       "    </tr>\n",
       "  </thead>\n",
       "  <tbody>\n",
       "    <tr>\n",
       "      <th>0</th>\n",
       "      <td>22</td>\n",
       "      <td>F88 580 Trường Chinh</td>\n",
       "      <td>2020-11-08</td>\n",
       "      <td>2020-11-08 08:11:56.453</td>\n",
       "      <td>2020-11-08 21:00:41.930</td>\n",
       "      <td>HNTC</td>\n",
       "      <td>HDCC/HNTC/2011/40</td>\n",
       "      <td>Nguyễn Hải Hà</td>\n",
       "      <td>Đăng ký xe máy</td>\n",
       "      <td>2020-11-08 09:36:15.273</td>\n",
       "      <td>NaT</td>\n",
       "      <td>HĐ mở/đóng cuối ngày</td>\n",
       "    </tr>\n",
       "    <tr>\n",
       "      <th>1</th>\n",
       "      <td>399</td>\n",
       "      <td>TNN0254.01 Phố Chợ</td>\n",
       "      <td>2020-11-08</td>\n",
       "      <td>2020-11-08 07:34:14.677</td>\n",
       "      <td>2020-11-08 18:45:54.443</td>\n",
       "      <td>TNN0254</td>\n",
       "      <td>HDCC/TNN0254/2011/29</td>\n",
       "      <td>Đào Thiên Vũ</td>\n",
       "      <td>Đăng ký xe máy</td>\n",
       "      <td>2020-11-08 10:39:22.457</td>\n",
       "      <td>NaT</td>\n",
       "      <td>HĐ mở/đóng cuối ngày</td>\n",
       "    </tr>\n",
       "    <tr>\n",
       "      <th>2</th>\n",
       "      <td>164</td>\n",
       "      <td>F88 2A Nguyễn Khánh Toàn</td>\n",
       "      <td>2020-11-08</td>\n",
       "      <td>2020-11-08 08:23:39.960</td>\n",
       "      <td>2020-11-08 18:26:25.267</td>\n",
       "      <td>HN2ANKT</td>\n",
       "      <td>HDCC/HN2ANKT/2011/160</td>\n",
       "      <td>Nguyễn Thế Anh</td>\n",
       "      <td>Đăng ký xe máy</td>\n",
       "      <td>2020-11-08 15:37:41.470</td>\n",
       "      <td>NaT</td>\n",
       "      <td>HĐ mở/đóng cuối ngày</td>\n",
       "    </tr>\n",
       "    <tr>\n",
       "      <th>3</th>\n",
       "      <td>341</td>\n",
       "      <td>DNI0196.332 Hồng Thập Tự</td>\n",
       "      <td>2020-11-08</td>\n",
       "      <td>2020-11-08 08:17:12.660</td>\n",
       "      <td>2020-11-08 19:42:43.290</td>\n",
       "      <td>DNI0196</td>\n",
       "      <td>HDCC/DNI0196/2011/140</td>\n",
       "      <td>CHÌU THỊ LAN</td>\n",
       "      <td>Đăng ký xe máy</td>\n",
       "      <td>2020-11-08 17:18:28.707</td>\n",
       "      <td>NaT</td>\n",
       "      <td>HĐ mở/đóng cuối ngày</td>\n",
       "    </tr>\n",
       "    <tr>\n",
       "      <th>4</th>\n",
       "      <td>170</td>\n",
       "      <td>F88 218 Định Công</td>\n",
       "      <td>2020-11-08</td>\n",
       "      <td>2020-11-08 08:15:13.137</td>\n",
       "      <td>2020-11-08 21:19:43.837</td>\n",
       "      <td>HN218DC</td>\n",
       "      <td>HDCC/HN218DC/2011/58</td>\n",
       "      <td>Phan Lỗ Tấn</td>\n",
       "      <td>Xe máy</td>\n",
       "      <td>2020-11-08 20:53:13.217</td>\n",
       "      <td>NaT</td>\n",
       "      <td>HĐ mở/đóng cuối ngày</td>\n",
       "    </tr>\n",
       "  </tbody>\n",
       "</table>\n",
       "</div>"
      ],
      "text/plain": [
       "   shop_id                 shop_name cash_count_date          min_cash_count  \\\n",
       "0       22      F88 580 Trường Chinh      2020-11-08 2020-11-08 08:11:56.453   \n",
       "1      399        TNN0254.01 Phố Chợ      2020-11-08 2020-11-08 07:34:14.677   \n",
       "2      164  F88 2A Nguyễn Khánh Toàn      2020-11-08 2020-11-08 08:23:39.960   \n",
       "3      341  DNI0196.332 Hồng Thập Tự      2020-11-08 2020-11-08 08:17:12.660   \n",
       "4      170         F88 218 Định Công      2020-11-08 2020-11-08 08:15:13.137   \n",
       "\n",
       "           max_cash_count shopcode                 codeno        customer  \\\n",
       "0 2020-11-08 21:00:41.930     HNTC      HDCC/HNTC/2011/40   Nguyễn Hải Hà   \n",
       "1 2020-11-08 18:45:54.443  TNN0254   HDCC/TNN0254/2011/29    Đào Thiên Vũ   \n",
       "2 2020-11-08 18:26:25.267  HN2ANKT  HDCC/HN2ANKT/2011/160  Nguyễn Thế Anh   \n",
       "3 2020-11-08 19:42:43.290  DNI0196  HDCC/DNI0196/2011/140    CHÌU THỊ LAN   \n",
       "4 2020-11-08 21:19:43.837  HN218DC   HDCC/HN218DC/2011/58     Phan Lỗ Tấn   \n",
       "\n",
       "    category_name                openhour closehour      pawn_fraud_group  \n",
       "0  Đăng ký xe máy 2020-11-08 09:36:15.273       NaT  HĐ mở/đóng cuối ngày  \n",
       "1  Đăng ký xe máy 2020-11-08 10:39:22.457       NaT  HĐ mở/đóng cuối ngày  \n",
       "2  Đăng ký xe máy 2020-11-08 15:37:41.470       NaT  HĐ mở/đóng cuối ngày  \n",
       "3  Đăng ký xe máy 2020-11-08 17:18:28.707       NaT  HĐ mở/đóng cuối ngày  \n",
       "4          Xe máy 2020-11-08 20:53:13.217       NaT  HĐ mở/đóng cuối ngày  "
      ]
     },
     "execution_count": 98,
     "metadata": {},
     "output_type": "execute_result"
    }
   ],
   "source": [
    "open_close_before_after_cash_count.head(5)"
   ]
  },
  {
   "cell_type": "code",
   "execution_count": 101,
   "metadata": {},
   "outputs": [],
   "source": [
    "# Get ASM\n",
    "shop_id_mkt='1ZTQE_pfBCAUr-0GSMPJBqtCyZVxX4hdiPuT_RDrdjeQ'\n",
    "shop_wb_mkt=client.open_by_key(shop_id_mkt)\n",
    "marketing_shop_data=shop_wb_mkt.worksheet_by_title('shop_detail').get_as_df()"
   ]
  },
  {
   "cell_type": "code",
   "execution_count": 104,
   "metadata": {},
   "outputs": [],
   "source": [
    "marketing_shop_data = marketing_shop_data[['PGD', 'Mã PGD', 'GĐM', 'TPK', 'QLKV']]"
   ]
  },
  {
   "cell_type": "code",
   "execution_count": 121,
   "metadata": {},
   "outputs": [],
   "source": [
    "# Get province risk level\n",
    "# province_list_id\n",
    "scope = [\"https://spreadsheets.google.com/feeds\",'https://www.googleapis.com/auth/spreadsheets',\"https://www.googleapis.com/auth/drive.file\",\"https://www.googleapis.com/auth/drive\"]\n",
    "credentials = ServiceAccountCredentials.from_json_keyfile_name(r'D:\\F88\\Python code\\Immediate_warning\\service_account.json', scope)\n",
    "gc = gspread.authorize(credentials)\n",
    "fault_group_id='1X7m2UnrVh909OKk9YOkxcIB455GPwTpAAcWGHIBn6_c'\n",
    "fault_group_wb=gc.open_by_key(fault_group_id)\n",
    "province_id = to_dataframe(fault_group_wb, 'province_list',1,0)"
   ]
  },
  {
   "cell_type": "code",
   "execution_count": 122,
   "metadata": {},
   "outputs": [],
   "source": [
    "# Get ASM risk level\n",
    "asm_risk_level = to_dataframe(fault_group_wb, 'asm_risk_level',1,0)"
   ]
  },
  {
   "cell_type": "code",
   "execution_count": 9,
   "metadata": {},
   "outputs": [],
   "source": [
    "today=dt.date.today()\n",
    "y_m=today.strftime('%y%m')\n",
    "\n",
    "last_day=calendar.monthrange(today.year,today.month)[1]\n",
    "#Lấy ngày cuối cùng của tháng\n",
    "last_day_of_month=dt.datetime(today.year,today.month,last_day)"
   ]
  },
  {
   "cell_type": "code",
   "execution_count": 10,
   "metadata": {},
   "outputs": [],
   "source": [
    "def get_n_days(nday):\n",
    "    return (today+dt.timedelta(days=nday)).strftime(\"%Y-%m-%d\")\n",
    "number_day=-1"
   ]
  },
  {
   "cell_type": "code",
   "execution_count": 168,
   "metadata": {},
   "outputs": [],
   "source": [
    "checkdate = (today+dt.timedelta(days = -1)).strftime(\"%Y-%m-%d\")\n",
    "yearmonth = (today+dt.timedelta(days = -1)).strftime(\"%Y%m\")"
   ]
  },
  {
   "cell_type": "code",
   "execution_count": 160,
   "metadata": {},
   "outputs": [],
   "source": [
    "province_risk_level = province_id[province_id['yearmonth'] == yearmonth]"
   ]
  },
  {
   "cell_type": "code",
   "execution_count": 161,
   "metadata": {},
   "outputs": [],
   "source": [
    "asm_risk_level = asm_risk_level[asm_risk_level['yearmonth'] == yearmonth]"
   ]
  },
  {
   "cell_type": "code",
   "execution_count": 113,
   "metadata": {},
   "outputs": [],
   "source": [
    "province_risk = shop_data.merge(province_risk_level, left_on = 'Tỉnh/TP', right_on = 'province_name', how = 'left')"
   ]
  },
  {
   "cell_type": "code",
   "execution_count": 115,
   "metadata": {},
   "outputs": [],
   "source": [
    "province_risk = province_risk[['Mã PGD', 'province_name', 'province_risk_level']]"
   ]
  },
  {
   "cell_type": "code",
   "execution_count": 175,
   "metadata": {},
   "outputs": [],
   "source": [
    "province_risk = province_risk[province_risk['Mã PGD'].isnull()==False]"
   ]
  },
  {
   "cell_type": "code",
   "execution_count": 123,
   "metadata": {},
   "outputs": [],
   "source": [
    "asm_risk = shop_data_mkt.merge(asm_risk_level, left_on = 'QLKV', right_on = 'asm_name', how = 'left')"
   ]
  },
  {
   "cell_type": "code",
   "execution_count": 124,
   "metadata": {},
   "outputs": [],
   "source": [
    "asm_risk = asm_risk[['Mã PGD', 'asm_name', 'risk_level']]"
   ]
  },
  {
   "cell_type": "code",
   "execution_count": 179,
   "metadata": {},
   "outputs": [],
   "source": [
    "asm_risk = asm_risk.drop_duplicates()"
   ]
  },
  {
   "cell_type": "code",
   "execution_count": 181,
   "metadata": {},
   "outputs": [],
   "source": [
    "asm_risk = asm_risk[asm_risk['asm_name'].isnull()==False]"
   ]
  },
  {
   "cell_type": "code",
   "execution_count": 12,
   "metadata": {},
   "outputs": [],
   "source": [
    "diff_mins = '30'"
   ]
  },
  {
   "cell_type": "code",
   "execution_count": 79,
   "metadata": {},
   "outputs": [],
   "source": [
    "#  outliers selection\n",
    "def upper_outlier_selection(datacolumn):\n",
    "    sorted(datacolumn)\n",
    "    Q1, Q3 = np.percentile(datacolumn, [25,75])\n",
    "    IQR = Q3 - Q1\n",
    "#     lower_range = Q1 - (1.5 * IQR)\n",
    "    upper_range = Q3 + (1.5 * IQR)\n",
    "    return upper_range"
   ]
  },
  {
   "cell_type": "markdown",
   "metadata": {},
   "source": [
    "HĐ Mở/Đóng trước khi kiểm kê/sau khi kiểm kê => 100% cần kiểm tra"
   ]
  },
  {
   "cell_type": "code",
   "execution_count": 169,
   "metadata": {},
   "outputs": [
    {
     "data": {
      "text/plain": [
       "'2020-11-08'"
      ]
     },
     "execution_count": 169,
     "metadata": {},
     "output_type": "execute_result"
    }
   ],
   "source": [
    "checkdate"
   ]
  },
  {
   "cell_type": "code",
   "execution_count": 170,
   "metadata": {},
   "outputs": [],
   "source": [
    "open_close_before_after_cash_count_str = \"\"\"Declare @check_date date = '\"\"\"+checkdate+\"\"\"'\n",
    "  Declare @diff_mins int = '\"\"\"+diff_mins+\"\"\"'\n",
    "  select main.*, case when (main.OpenHour <= main.min_cash_count\n",
    "   or main.CloseHour <= main.min_cash_count) then N'HĐ đóng/mở trước khi kiểm kê lần đầu'\n",
    "   when (main.OpenHour >= main.max_cash_count\n",
    "   or main.Closehour >= main.max_cash_count) then N'HĐ đóng/mở sau khi kiểm kê lần cuối'\n",
    "   when datediff(minute, main.min_cash_count, main.OpenHour) <= cast(@diff_mins as int)\n",
    "   or datediff(minute, main.min_cash_count, main.CloseHour) <= cast(@diff_mins as int) then N'HĐ mở/đóng đầu ngày'\n",
    "   when datediff(minute, main.max_cash_count, main.OpenHour) <= cast(@diff_mins as int) \n",
    "   or datediff(minute, main.max_cash_count, main.CloseHour) <= cast(@diff_mins as int) then N'HĐ mở/đóng cuối ngày'\n",
    "   else 'Khác' end pawn_fraud_group\n",
    "from (select cas1.*,pa.ShopCode, pa.CodeNo, Customer, cd.NAME category_name, occ.OpenHour, occ.CloseHour\n",
    "from (select SHOP_ID,shop_name, cast(CREATED as date) cash_count_date, \n",
    "min(CREATED) min_cash_count,\n",
    "max(CREATED) max_cash_count  \n",
    "   from [dwh].[dbo].w_fund_daily_f \n",
    "   where cast(CREATED as date) = @check_date\n",
    "  group by SHOP_ID,shop_name ,cast(CREATED as date) ) cas1 \n",
    "  left join [dwh].[dbo].Pawn pa on pa.ShopID = cas1.SHOP_ID\n",
    "  left join [dwh].[dbo].OPEN_CLOSE_CONTRACT_BY_TIME  occ on occ.CodeNo = pa.CodeNo\n",
    "  left join [dwh].[dbo].W_CATEGORY_D cd on cd.CODE = pa.CategoryCode \n",
    "  where (cast(occ.OpenHour as date)= @check_date or cast(occ.CloseHour as date) = @check_date)) main\n",
    "  \"\"\""
   ]
  },
  {
   "cell_type": "code",
   "execution_count": 171,
   "metadata": {},
   "outputs": [],
   "source": [
    "# and (occ.OpenHour <= cas1.min_cash_count\n",
    "#   or occ.OpenHour >= cas1.max_cash_count\n",
    "#   or occ.Closehour <= cas1.min_cash_count\n",
    "#   or occ.Closehour >= cas1.max_cash_count)"
   ]
  },
  {
   "cell_type": "code",
   "execution_count": 172,
   "metadata": {},
   "outputs": [],
   "source": [
    "open_close_before_after_cash_count = pd.read_sql_query(open_close_before_after_cash_count_str,db)"
   ]
  },
  {
   "cell_type": "code",
   "execution_count": 182,
   "metadata": {},
   "outputs": [],
   "source": [
    "open_close_before_after_cash_count = open_close_before_after_cash_count.merge(province_risk, left_on = 'shopcode', right_on='Mã PGD', how = 'left')"
   ]
  },
  {
   "cell_type": "code",
   "execution_count": 183,
   "metadata": {},
   "outputs": [],
   "source": [
    "open_close_before_after_cash_count = open_close_before_after_cash_count.merge(asm_risk, left_on = 'shopcode', right_on='Mã PGD', how = 'left')"
   ]
  },
  {
   "cell_type": "code",
   "execution_count": 184,
   "metadata": {},
   "outputs": [],
   "source": [
    "open_close_before_after_cash_count['province_risk_level'] = open_close_before_after_cash_count['province_risk_level'].fillna(0)"
   ]
  },
  {
   "cell_type": "code",
   "execution_count": 185,
   "metadata": {},
   "outputs": [],
   "source": [
    "open_close_before_after_cash_count['province_risk_level'] = [int(i) for i in open_close_before_after_cash_count['province_risk_level']]"
   ]
  },
  {
   "cell_type": "code",
   "execution_count": 186,
   "metadata": {},
   "outputs": [],
   "source": [
    "open_close_before_after_cash_count['risk_level'] = open_close_before_after_cash_count['risk_level'].fillna(0)"
   ]
  },
  {
   "cell_type": "code",
   "execution_count": 187,
   "metadata": {},
   "outputs": [],
   "source": [
    "open_close_before_after_cash_count['risk_level'] = [int(i) for i in open_close_before_after_cash_count['risk_level']]"
   ]
  },
  {
   "cell_type": "code",
   "execution_count": 188,
   "metadata": {},
   "outputs": [],
   "source": [
    "open_close_before_after_cash_count['total_risk_base'] = open_close_before_after_cash_count['province_risk_level'] + open_close_before_after_cash_count['risk_level']"
   ]
  },
  {
   "cell_type": "code",
   "execution_count": 189,
   "metadata": {},
   "outputs": [],
   "source": [
    "# open_close_before_after_cash_count['fraud_group'] = np.where((open_close_before_after_cash_count['openhour']<=open_close_before_after_cash_count['min_cash_count'])|(open_close_before_after_cash_count['closehour']<=open_close_before_after_cash_count['min_cash_count']), 'HĐ đóng/mở trước khi kiểm kê',np.where((open_close_before_after_cash_count['openhour']>=open_close_before_after_cash_count['max_cash_count'])|(open_close_before_after_cash_count['closehour']>=open_close_before_after_cash_count['max_cash_count']), 'HĐ đóng/mở sau khi kiểm kê', 'Khác'))"
   ]
  },
  {
   "cell_type": "code",
   "execution_count": 212,
   "metadata": {},
   "outputs": [],
   "source": [
    "open_close_before_after_cash_count['extract_date'] = checkdate\n",
    "open_close_before_after_cash_count['year_month'] = yearmonth"
   ]
  },
  {
   "cell_type": "code",
   "execution_count": 190,
   "metadata": {},
   "outputs": [
    {
     "data": {
      "text/plain": [
       "array(['HĐ mở/đóng cuối ngày', 'HĐ đóng/mở trước khi kiểm kê lần đầu',\n",
       "       'HĐ mở/đóng đầu ngày', 'HĐ đóng/mở sau khi kiểm kê lần cuối'],\n",
       "      dtype=object)"
      ]
     },
     "execution_count": 190,
     "metadata": {},
     "output_type": "execute_result"
    }
   ],
   "source": [
    "open_close_before_after_cash_count['pawn_fraud_group'].unique()"
   ]
  },
  {
   "cell_type": "code",
   "execution_count": 213,
   "metadata": {},
   "outputs": [],
   "source": [
    "full_sample_1 = open_close_before_after_cash_count[(open_close_before_after_cash_count['pawn_fraud_group'] == 'HĐ đóng/mở trước khi kiểm kê lần đầu')|(open_close_before_after_cash_count['pawn_fraud_group'] == 'HĐ đóng/mở sau khi kiểm kê lần cuối')]"
   ]
  },
  {
   "cell_type": "code",
   "execution_count": 214,
   "metadata": {},
   "outputs": [],
   "source": [
    "# Danh sách HĐ đóng/mở đầu ngày cần chọn ra mẫu\n",
    "part_sample_open_early = open_close_before_after_cash_count[(open_close_before_after_cash_count['pawn_fraud_group'] == 'HĐ mở/đóng đầu ngày')]"
   ]
  },
  {
   "cell_type": "code",
   "execution_count": 215,
   "metadata": {},
   "outputs": [],
   "source": [
    "# Danh sách HĐ đóng/mở cuối ngày cần chọn ra mẫu\n",
    "part_sample_open_late = open_close_before_after_cash_count[(open_close_before_after_cash_count['pawn_fraud_group'] == 'HĐ mở/đóng cuối ngày')]"
   ]
  },
  {
   "cell_type": "code",
   "execution_count": 216,
   "metadata": {},
   "outputs": [
    {
     "data": {
      "text/plain": [
       "Index(['shop_id', 'shop_name', 'cash_count_date', 'min_cash_count',\n",
       "       'max_cash_count', 'shopcode', 'codeno', 'customer', 'category_name',\n",
       "       'openhour', 'closehour', 'pawn_fraud_group', 'Mã PGD_x',\n",
       "       'province_name', 'province_risk_level', 'Mã PGD_y', 'asm_name',\n",
       "       'risk_level', 'total_risk_base', 'extract_date', 'year_month'],\n",
       "      dtype='object')"
      ]
     },
     "execution_count": 216,
     "metadata": {},
     "output_type": "execute_result"
    }
   ],
   "source": [
    "part_sample_open_early.columns"
   ]
  },
  {
   "cell_type": "code",
   "execution_count": 228,
   "metadata": {},
   "outputs": [],
   "source": [
    "check_early_part_1 = part_sample_open_early[(part_sample_open_early['total_risk_base'] ==10)|(part_sample_open_early['total_risk_base'] ==9)].sample(frac=0.5, replace=True, random_state=1)"
   ]
  },
  {
   "cell_type": "code",
   "execution_count": 229,
   "metadata": {},
   "outputs": [],
   "source": [
    "check_early_part_2 = part_sample_open_early[(part_sample_open_early['total_risk_base'] ==8)|(part_sample_open_early['total_risk_base'] ==7)].sample(frac=0.2, replace=True, random_state=1)"
   ]
  },
  {
   "cell_type": "code",
   "execution_count": 240,
   "metadata": {},
   "outputs": [],
   "source": [
    "check_late_part_1 = part_sample_open_late[(part_sample_open_late['total_risk_base'] ==10)|(part_sample_open_late['total_risk_base'] ==9)].sample(frac=0.2, replace=True, random_state=1)"
   ]
  },
  {
   "cell_type": "code",
   "execution_count": 236,
   "metadata": {},
   "outputs": [],
   "source": [
    "check_late_part_2 = part_sample_open_late[(part_sample_open_late['total_risk_base'] ==8)|(part_sample_open_late['total_risk_base'] ==7)].sample(frac=0.05, replace=True, random_state=1)"
   ]
  },
  {
   "cell_type": "code",
   "execution_count": 241,
   "metadata": {},
   "outputs": [
    {
     "data": {
      "text/html": [
       "<div>\n",
       "<style scoped>\n",
       "    .dataframe tbody tr th:only-of-type {\n",
       "        vertical-align: middle;\n",
       "    }\n",
       "\n",
       "    .dataframe tbody tr th {\n",
       "        vertical-align: top;\n",
       "    }\n",
       "\n",
       "    .dataframe thead th {\n",
       "        text-align: right;\n",
       "    }\n",
       "</style>\n",
       "<table border=\"1\" class=\"dataframe\">\n",
       "  <thead>\n",
       "    <tr style=\"text-align: right;\">\n",
       "      <th></th>\n",
       "      <th>shop_id</th>\n",
       "      <th>shop_name</th>\n",
       "      <th>cash_count_date</th>\n",
       "      <th>min_cash_count</th>\n",
       "      <th>max_cash_count</th>\n",
       "      <th>shopcode</th>\n",
       "      <th>codeno</th>\n",
       "      <th>customer</th>\n",
       "      <th>category_name</th>\n",
       "      <th>openhour</th>\n",
       "      <th>...</th>\n",
       "      <th>pawn_fraud_group</th>\n",
       "      <th>Mã PGD_x</th>\n",
       "      <th>province_name</th>\n",
       "      <th>province_risk_level</th>\n",
       "      <th>Mã PGD_y</th>\n",
       "      <th>asm_name</th>\n",
       "      <th>risk_level</th>\n",
       "      <th>total_risk_base</th>\n",
       "      <th>extract_date</th>\n",
       "      <th>year_month</th>\n",
       "    </tr>\n",
       "  </thead>\n",
       "  <tbody>\n",
       "    <tr>\n",
       "      <th>1233</th>\n",
       "      <td>34</td>\n",
       "      <td>F88 TH - 01 Ngô Quyền</td>\n",
       "      <td>2020-11-08</td>\n",
       "      <td>2020-11-08 08:05:00.297</td>\n",
       "      <td>2020-11-08 18:58:47.043</td>\n",
       "      <td>THH</td>\n",
       "      <td>HÐCC/THH/2009/149</td>\n",
       "      <td>Hoàng Giang</td>\n",
       "      <td>Đăng ký xe máy</td>\n",
       "      <td>NaT</td>\n",
       "      <td>...</td>\n",
       "      <td>HĐ mở/đóng cuối ngày</td>\n",
       "      <td>THH</td>\n",
       "      <td>Thanh Hóa</td>\n",
       "      <td>4</td>\n",
       "      <td>THH</td>\n",
       "      <td>Trần Đức Tiến</td>\n",
       "      <td>5</td>\n",
       "      <td>9</td>\n",
       "      <td>2020-11-08</td>\n",
       "      <td>202011</td>\n",
       "    </tr>\n",
       "    <tr>\n",
       "      <th>496</th>\n",
       "      <td>293</td>\n",
       "      <td>DNI0152.84 tổ 3 Đường Lý Thái Tổ</td>\n",
       "      <td>2020-11-08</td>\n",
       "      <td>2020-11-08 08:01:00.627</td>\n",
       "      <td>2020-11-08 19:26:02.643</td>\n",
       "      <td>DNI0152</td>\n",
       "      <td>HDCC/DNI0152/2011/121</td>\n",
       "      <td>PHẠM VĂN NGUYÊN</td>\n",
       "      <td>Đăng ký xe máy</td>\n",
       "      <td>2020-11-08 13:58:06.640</td>\n",
       "      <td>...</td>\n",
       "      <td>HĐ mở/đóng cuối ngày</td>\n",
       "      <td>DNI0152</td>\n",
       "      <td>Đồng Nai</td>\n",
       "      <td>5</td>\n",
       "      <td>DNI0152</td>\n",
       "      <td>Nguyễn Hoàng Huy</td>\n",
       "      <td>5</td>\n",
       "      <td>10</td>\n",
       "      <td>2020-11-08</td>\n",
       "      <td>202011</td>\n",
       "    </tr>\n",
       "    <tr>\n",
       "      <th>303</th>\n",
       "      <td>269</td>\n",
       "      <td>DNI0129.943 Phạm Văn Thuận</td>\n",
       "      <td>2020-11-08</td>\n",
       "      <td>2020-11-08 08:56:59.317</td>\n",
       "      <td>2020-11-08 20:53:45.590</td>\n",
       "      <td>DNI0129</td>\n",
       "      <td>HDCC/DNI0129/2011/127</td>\n",
       "      <td>ĐINH THỊ HUẾ THANH</td>\n",
       "      <td>Đăng ký xe máy</td>\n",
       "      <td>2020-11-08 11:24:49.010</td>\n",
       "      <td>...</td>\n",
       "      <td>HĐ mở/đóng cuối ngày</td>\n",
       "      <td>DNI0129</td>\n",
       "      <td>Đồng Nai</td>\n",
       "      <td>5</td>\n",
       "      <td>DNI0129</td>\n",
       "      <td>Nguyễn Hoàng Huy</td>\n",
       "      <td>5</td>\n",
       "      <td>10</td>\n",
       "      <td>2020-11-08</td>\n",
       "      <td>202011</td>\n",
       "    </tr>\n",
       "    <tr>\n",
       "      <th>316</th>\n",
       "      <td>341</td>\n",
       "      <td>DNI0196.332 Hồng Thập Tự</td>\n",
       "      <td>2020-11-08</td>\n",
       "      <td>2020-11-08 08:17:12.660</td>\n",
       "      <td>2020-11-08 19:42:43.290</td>\n",
       "      <td>DNI0196</td>\n",
       "      <td>HDCC/DNI0196/2011/133</td>\n",
       "      <td>BÌNH THỊ BÍCH THÙY</td>\n",
       "      <td>Đăng ký xe máy</td>\n",
       "      <td>2020-11-08 10:03:43.447</td>\n",
       "      <td>...</td>\n",
       "      <td>HĐ mở/đóng cuối ngày</td>\n",
       "      <td>DNI0196</td>\n",
       "      <td>Đồng Nai</td>\n",
       "      <td>5</td>\n",
       "      <td>DNI0196</td>\n",
       "      <td>Nguyễn Hoàng Huy</td>\n",
       "      <td>5</td>\n",
       "      <td>10</td>\n",
       "      <td>2020-11-08</td>\n",
       "      <td>202011</td>\n",
       "    </tr>\n",
       "    <tr>\n",
       "      <th>495</th>\n",
       "      <td>279</td>\n",
       "      <td>THA0139.33 Quang Trung</td>\n",
       "      <td>2020-11-08</td>\n",
       "      <td>2020-11-08 08:07:28.533</td>\n",
       "      <td>2020-11-08 19:01:43.363</td>\n",
       "      <td>THA0139</td>\n",
       "      <td>HDCC/THA0139/2011/24</td>\n",
       "      <td>Nguyễn Văn Vương</td>\n",
       "      <td>Đăng ký xe máy</td>\n",
       "      <td>2020-11-08 10:07:05.017</td>\n",
       "      <td>...</td>\n",
       "      <td>HĐ mở/đóng cuối ngày</td>\n",
       "      <td>THA0139</td>\n",
       "      <td>Thanh Hóa</td>\n",
       "      <td>4</td>\n",
       "      <td>THA0139</td>\n",
       "      <td>Trần Đức Tiến</td>\n",
       "      <td>5</td>\n",
       "      <td>9</td>\n",
       "      <td>2020-11-08</td>\n",
       "      <td>202011</td>\n",
       "    </tr>\n",
       "    <tr>\n",
       "      <th>231</th>\n",
       "      <td>341</td>\n",
       "      <td>DNI0196.332 Hồng Thập Tự</td>\n",
       "      <td>2020-11-08</td>\n",
       "      <td>2020-11-08 08:17:12.660</td>\n",
       "      <td>2020-11-08 19:42:43.290</td>\n",
       "      <td>DNI0196</td>\n",
       "      <td>HDCC/DNI0196/2011/140</td>\n",
       "      <td>CHÌU THỊ LAN</td>\n",
       "      <td>Đăng ký xe máy</td>\n",
       "      <td>2020-11-08 17:18:28.707</td>\n",
       "      <td>...</td>\n",
       "      <td>HĐ mở/đóng cuối ngày</td>\n",
       "      <td>DNI0196</td>\n",
       "      <td>Đồng Nai</td>\n",
       "      <td>5</td>\n",
       "      <td>DNI0196</td>\n",
       "      <td>Nguyễn Hoàng Huy</td>\n",
       "      <td>5</td>\n",
       "      <td>10</td>\n",
       "      <td>2020-11-08</td>\n",
       "      <td>202011</td>\n",
       "    </tr>\n",
       "    <tr>\n",
       "      <th>610</th>\n",
       "      <td>285</td>\n",
       "      <td>DNI0145.533 Phùng Hưng</td>\n",
       "      <td>2020-11-08</td>\n",
       "      <td>2020-11-08 08:15:56.300</td>\n",
       "      <td>2020-11-08 18:59:58.150</td>\n",
       "      <td>DNI0145</td>\n",
       "      <td>HDCC/DNI0145/2011/15</td>\n",
       "      <td>LÊ THỊ ÁNH</td>\n",
       "      <td>Đăng ký xe máy</td>\n",
       "      <td>2020-11-08 09:24:34.743</td>\n",
       "      <td>...</td>\n",
       "      <td>HĐ mở/đóng cuối ngày</td>\n",
       "      <td>DNI0145</td>\n",
       "      <td>Đồng Nai</td>\n",
       "      <td>5</td>\n",
       "      <td>DNI0145</td>\n",
       "      <td>Nguyễn Hoàng Huy</td>\n",
       "      <td>5</td>\n",
       "      <td>10</td>\n",
       "      <td>2020-11-08</td>\n",
       "      <td>202011</td>\n",
       "    </tr>\n",
       "    <tr>\n",
       "      <th>51</th>\n",
       "      <td>252</td>\n",
       "      <td>DNI0112.415 Đồng Khởi</td>\n",
       "      <td>2020-11-08</td>\n",
       "      <td>2020-11-08 08:36:51.240</td>\n",
       "      <td>2020-11-08 20:58:22.660</td>\n",
       "      <td>DNI0112</td>\n",
       "      <td>HDCC/DNI0112/2011/148</td>\n",
       "      <td>VŨ NGỌC LỘC</td>\n",
       "      <td>Đăng ký xe máy</td>\n",
       "      <td>2020-11-08 17:10:55.203</td>\n",
       "      <td>...</td>\n",
       "      <td>HĐ mở/đóng cuối ngày</td>\n",
       "      <td>DNI0112</td>\n",
       "      <td>Đồng Nai</td>\n",
       "      <td>5</td>\n",
       "      <td>DNI0112</td>\n",
       "      <td>Nguyễn Hoàng Huy</td>\n",
       "      <td>5</td>\n",
       "      <td>10</td>\n",
       "      <td>2020-11-08</td>\n",
       "      <td>202011</td>\n",
       "    </tr>\n",
       "  </tbody>\n",
       "</table>\n",
       "<p>8 rows × 21 columns</p>\n",
       "</div>"
      ],
      "text/plain": [
       "      shop_id                         shop_name cash_count_date  \\\n",
       "1233       34             F88 TH - 01 Ngô Quyền      2020-11-08   \n",
       "496       293  DNI0152.84 tổ 3 Đường Lý Thái Tổ      2020-11-08   \n",
       "303       269        DNI0129.943 Phạm Văn Thuận      2020-11-08   \n",
       "316       341          DNI0196.332 Hồng Thập Tự      2020-11-08   \n",
       "495       279            THA0139.33 Quang Trung      2020-11-08   \n",
       "231       341          DNI0196.332 Hồng Thập Tự      2020-11-08   \n",
       "610       285            DNI0145.533 Phùng Hưng      2020-11-08   \n",
       "51        252             DNI0112.415 Đồng Khởi      2020-11-08   \n",
       "\n",
       "              min_cash_count          max_cash_count shopcode  \\\n",
       "1233 2020-11-08 08:05:00.297 2020-11-08 18:58:47.043      THH   \n",
       "496  2020-11-08 08:01:00.627 2020-11-08 19:26:02.643  DNI0152   \n",
       "303  2020-11-08 08:56:59.317 2020-11-08 20:53:45.590  DNI0129   \n",
       "316  2020-11-08 08:17:12.660 2020-11-08 19:42:43.290  DNI0196   \n",
       "495  2020-11-08 08:07:28.533 2020-11-08 19:01:43.363  THA0139   \n",
       "231  2020-11-08 08:17:12.660 2020-11-08 19:42:43.290  DNI0196   \n",
       "610  2020-11-08 08:15:56.300 2020-11-08 18:59:58.150  DNI0145   \n",
       "51   2020-11-08 08:36:51.240 2020-11-08 20:58:22.660  DNI0112   \n",
       "\n",
       "                     codeno            customer   category_name  \\\n",
       "1233      HÐCC/THH/2009/149         Hoàng Giang  Đăng ký xe máy   \n",
       "496   HDCC/DNI0152/2011/121     PHẠM VĂN NGUYÊN  Đăng ký xe máy   \n",
       "303   HDCC/DNI0129/2011/127  ĐINH THỊ HUẾ THANH  Đăng ký xe máy   \n",
       "316   HDCC/DNI0196/2011/133  BÌNH THỊ BÍCH THÙY  Đăng ký xe máy   \n",
       "495    HDCC/THA0139/2011/24    Nguyễn Văn Vương  Đăng ký xe máy   \n",
       "231   HDCC/DNI0196/2011/140        CHÌU THỊ LAN  Đăng ký xe máy   \n",
       "610    HDCC/DNI0145/2011/15          LÊ THỊ ÁNH  Đăng ký xe máy   \n",
       "51    HDCC/DNI0112/2011/148         VŨ NGỌC LỘC  Đăng ký xe máy   \n",
       "\n",
       "                    openhour    ...          pawn_fraud_group Mã PGD_x  \\\n",
       "1233                     NaT    ...      HĐ mở/đóng cuối ngày      THH   \n",
       "496  2020-11-08 13:58:06.640    ...      HĐ mở/đóng cuối ngày  DNI0152   \n",
       "303  2020-11-08 11:24:49.010    ...      HĐ mở/đóng cuối ngày  DNI0129   \n",
       "316  2020-11-08 10:03:43.447    ...      HĐ mở/đóng cuối ngày  DNI0196   \n",
       "495  2020-11-08 10:07:05.017    ...      HĐ mở/đóng cuối ngày  THA0139   \n",
       "231  2020-11-08 17:18:28.707    ...      HĐ mở/đóng cuối ngày  DNI0196   \n",
       "610  2020-11-08 09:24:34.743    ...      HĐ mở/đóng cuối ngày  DNI0145   \n",
       "51   2020-11-08 17:10:55.203    ...      HĐ mở/đóng cuối ngày  DNI0112   \n",
       "\n",
       "     province_name province_risk_level  Mã PGD_y          asm_name risk_level  \\\n",
       "1233     Thanh Hóa                   4       THH     Trần Đức Tiến          5   \n",
       "496       Đồng Nai                   5   DNI0152  Nguyễn Hoàng Huy          5   \n",
       "303       Đồng Nai                   5   DNI0129  Nguyễn Hoàng Huy          5   \n",
       "316       Đồng Nai                   5   DNI0196  Nguyễn Hoàng Huy          5   \n",
       "495      Thanh Hóa                   4   THA0139     Trần Đức Tiến          5   \n",
       "231       Đồng Nai                   5   DNI0196  Nguyễn Hoàng Huy          5   \n",
       "610       Đồng Nai                   5   DNI0145  Nguyễn Hoàng Huy          5   \n",
       "51        Đồng Nai                   5   DNI0112  Nguyễn Hoàng Huy          5   \n",
       "\n",
       "      total_risk_base  extract_date year_month  \n",
       "1233                9    2020-11-08     202011  \n",
       "496                10    2020-11-08     202011  \n",
       "303                10    2020-11-08     202011  \n",
       "316                10    2020-11-08     202011  \n",
       "495                 9    2020-11-08     202011  \n",
       "231                10    2020-11-08     202011  \n",
       "610                10    2020-11-08     202011  \n",
       "51                 10    2020-11-08     202011  \n",
       "\n",
       "[8 rows x 21 columns]"
      ]
     },
     "execution_count": 241,
     "metadata": {},
     "output_type": "execute_result"
    }
   ],
   "source": [
    "check_late_part_1"
   ]
  },
  {
   "cell_type": "code",
   "execution_count": 242,
   "metadata": {},
   "outputs": [],
   "source": [
    "check_sample_1 = full_sample_1.append(check_early_part_1).append(check_early_part_2).append(check_late_part_1).append(check_late_part_2)"
   ]
  },
  {
   "cell_type": "code",
   "execution_count": 298,
   "metadata": {},
   "outputs": [
    {
     "data": {
      "text/plain": [
       "Index(['shop_id', 'shop_name', 'cash_count_date', 'min_cash_count',\n",
       "       'max_cash_count', 'shopcode', 'codeno', 'customer', 'category_name',\n",
       "       'openhour', 'closehour', 'pawn_fraud_group', 'Mã PGD_x',\n",
       "       'province_name', 'province_risk_level', 'Mã PGD_y', 'asm_name',\n",
       "       'risk_level', 'total_risk_base', 'extract_date', 'year_month'],\n",
       "      dtype='object')"
      ]
     },
     "execution_count": 298,
     "metadata": {},
     "output_type": "execute_result"
    }
   ],
   "source": [
    "check_sample_1.columns"
   ]
  },
  {
   "cell_type": "code",
   "execution_count": 299,
   "metadata": {},
   "outputs": [],
   "source": [
    "check_sample_1 = check_sample_1[['year_month','extract_date','shop_name','shopcode', 'customer', 'codeno','category_name','pawn_fraud_group']]"
   ]
  },
  {
   "cell_type": "code",
   "execution_count": 300,
   "metadata": {},
   "outputs": [
    {
     "data": {
      "text/html": [
       "<div>\n",
       "<style scoped>\n",
       "    .dataframe tbody tr th:only-of-type {\n",
       "        vertical-align: middle;\n",
       "    }\n",
       "\n",
       "    .dataframe tbody tr th {\n",
       "        vertical-align: top;\n",
       "    }\n",
       "\n",
       "    .dataframe thead th {\n",
       "        text-align: right;\n",
       "    }\n",
       "</style>\n",
       "<table border=\"1\" class=\"dataframe\">\n",
       "  <thead>\n",
       "    <tr style=\"text-align: right;\">\n",
       "      <th></th>\n",
       "      <th>year_month</th>\n",
       "      <th>extract_date</th>\n",
       "      <th>shop_name</th>\n",
       "      <th>shopcode</th>\n",
       "      <th>customer</th>\n",
       "      <th>codeno</th>\n",
       "      <th>category_name</th>\n",
       "      <th>pawn_fraud_group</th>\n",
       "    </tr>\n",
       "  </thead>\n",
       "  <tbody>\n",
       "    <tr>\n",
       "      <th>106</th>\n",
       "      <td>202011</td>\n",
       "      <td>2020-11-08</td>\n",
       "      <td>TNN0136.185 Lương Ngọc Quyến</td>\n",
       "      <td>TNN0136</td>\n",
       "      <td>Nguyễn Vũ Quang</td>\n",
       "      <td>HDCC/TNN0136/2011/21</td>\n",
       "      <td>Đăng ký Ô tô</td>\n",
       "      <td>HĐ đóng/mở trước khi kiểm kê lần đầu</td>\n",
       "    </tr>\n",
       "    <tr>\n",
       "      <th>399</th>\n",
       "      <td>202011</td>\n",
       "      <td>2020-11-08</td>\n",
       "      <td>TNN0136.185 Lương Ngọc Quyến</td>\n",
       "      <td>TNN0136</td>\n",
       "      <td>Dương Văn Hào</td>\n",
       "      <td>HDCC/TNN0136/2011/23</td>\n",
       "      <td>Đăng ký xe máy</td>\n",
       "      <td>HĐ đóng/mở trước khi kiểm kê lần đầu</td>\n",
       "    </tr>\n",
       "    <tr>\n",
       "      <th>499</th>\n",
       "      <td>202011</td>\n",
       "      <td>2020-11-08</td>\n",
       "      <td>F88 39 Hồ Tùng Mậu</td>\n",
       "      <td>HN39HTM</td>\n",
       "      <td>Hoàng Văn Thiện</td>\n",
       "      <td>HDCC/HN39HTM/2011/180</td>\n",
       "      <td>Điện thoại</td>\n",
       "      <td>HĐ đóng/mở sau khi kiểm kê lần cuối</td>\n",
       "    </tr>\n",
       "    <tr>\n",
       "      <th>560</th>\n",
       "      <td>202011</td>\n",
       "      <td>2020-11-08</td>\n",
       "      <td>TNN0136.185 Lương Ngọc Quyến</td>\n",
       "      <td>TNN0136</td>\n",
       "      <td>HOÀNG HỮU PHONG</td>\n",
       "      <td>HDCC/TNN0136/2011/22</td>\n",
       "      <td>Laptop</td>\n",
       "      <td>HĐ đóng/mở trước khi kiểm kê lần đầu</td>\n",
       "    </tr>\n",
       "    <tr>\n",
       "      <th>562</th>\n",
       "      <td>202011</td>\n",
       "      <td>2020-11-08</td>\n",
       "      <td>NBH0273.275 Nguyễn Công Trứ</td>\n",
       "      <td>NBH0273</td>\n",
       "      <td>Nguyễn Đức Lợi</td>\n",
       "      <td>HDCC/NBH0273/2011/1</td>\n",
       "      <td>Đăng ký xe máy</td>\n",
       "      <td>HĐ đóng/mở trước khi kiểm kê lần đầu</td>\n",
       "    </tr>\n",
       "    <tr>\n",
       "      <th>860</th>\n",
       "      <td>202011</td>\n",
       "      <td>2020-11-08</td>\n",
       "      <td>BDG0181.22 Tháng 12</td>\n",
       "      <td>BDG0181</td>\n",
       "      <td>TRẦN THỊ THỦY</td>\n",
       "      <td>HÐCC/BDG0181/2008/59</td>\n",
       "      <td>Đăng ký xe máy</td>\n",
       "      <td>HĐ đóng/mở sau khi kiểm kê lần cuối</td>\n",
       "    </tr>\n",
       "    <tr>\n",
       "      <th>930</th>\n",
       "      <td>202011</td>\n",
       "      <td>2020-11-08</td>\n",
       "      <td>F88 2A Nguyễn Khánh Toàn</td>\n",
       "      <td>HN2ANKT</td>\n",
       "      <td>Nguyễn Khả Bảo</td>\n",
       "      <td>HDCC/HN2ANKT/2011/166</td>\n",
       "      <td>Laptop</td>\n",
       "      <td>HĐ đóng/mở sau khi kiểm kê lần cuối</td>\n",
       "    </tr>\n",
       "    <tr>\n",
       "      <th>1248</th>\n",
       "      <td>202011</td>\n",
       "      <td>2020-11-08</td>\n",
       "      <td>BDG0127.89 đường N5</td>\n",
       "      <td>BDG0127</td>\n",
       "      <td>BÙI THỊ DIỆN</td>\n",
       "      <td>HDCC/BDG0127/2011/142</td>\n",
       "      <td>Đăng ký xe máy</td>\n",
       "      <td>HĐ đóng/mở sau khi kiểm kê lần cuối</td>\n",
       "    </tr>\n",
       "    <tr>\n",
       "      <th>1293</th>\n",
       "      <td>202011</td>\n",
       "      <td>2020-11-08</td>\n",
       "      <td>F88 2A Nguyễn Khánh Toàn</td>\n",
       "      <td>HN2ANKT</td>\n",
       "      <td>Nguyễn Khả Bảo</td>\n",
       "      <td>HÐCC/HN2ANKT/2010/130</td>\n",
       "      <td>Laptop</td>\n",
       "      <td>HĐ đóng/mở sau khi kiểm kê lần cuối</td>\n",
       "    </tr>\n",
       "    <tr>\n",
       "      <th>1218</th>\n",
       "      <td>202011</td>\n",
       "      <td>2020-11-08</td>\n",
       "      <td>DNI0152.84 tổ 3 Đường Lý Thái Tổ</td>\n",
       "      <td>DNI0152</td>\n",
       "      <td>NGUYỄN THANH PHƯƠNG</td>\n",
       "      <td>HDCC/DNI0152/2011/111</td>\n",
       "      <td>Đăng ký xe máy</td>\n",
       "      <td>HĐ mở/đóng đầu ngày</td>\n",
       "    </tr>\n",
       "    <tr>\n",
       "      <th>890</th>\n",
       "      <td>202011</td>\n",
       "      <td>2020-11-08</td>\n",
       "      <td>SGN0108.166 Đặng Văn Bi</td>\n",
       "      <td>SGN0108</td>\n",
       "      <td>BÙI NGUYỄN TRƯỜNG VŨ</td>\n",
       "      <td>HDCC/SGN0108/2011/20</td>\n",
       "      <td>Laptop</td>\n",
       "      <td>HĐ mở/đóng đầu ngày</td>\n",
       "    </tr>\n",
       "    <tr>\n",
       "      <th>1265</th>\n",
       "      <td>202011</td>\n",
       "      <td>2020-11-08</td>\n",
       "      <td>F88 HCM - 13 Nguyên Hồng</td>\n",
       "      <td>SG2032</td>\n",
       "      <td>Đặng Thùy Dung</td>\n",
       "      <td>HÐCC/SG2032/1910/47</td>\n",
       "      <td>Đăng ký xe máy</td>\n",
       "      <td>HĐ mở/đóng đầu ngày</td>\n",
       "    </tr>\n",
       "    <tr>\n",
       "      <th>1233</th>\n",
       "      <td>202011</td>\n",
       "      <td>2020-11-08</td>\n",
       "      <td>F88 TH - 01 Ngô Quyền</td>\n",
       "      <td>THH</td>\n",
       "      <td>Hoàng Giang</td>\n",
       "      <td>HÐCC/THH/2009/149</td>\n",
       "      <td>Đăng ký xe máy</td>\n",
       "      <td>HĐ mở/đóng cuối ngày</td>\n",
       "    </tr>\n",
       "    <tr>\n",
       "      <th>496</th>\n",
       "      <td>202011</td>\n",
       "      <td>2020-11-08</td>\n",
       "      <td>DNI0152.84 tổ 3 Đường Lý Thái Tổ</td>\n",
       "      <td>DNI0152</td>\n",
       "      <td>PHẠM VĂN NGUYÊN</td>\n",
       "      <td>HDCC/DNI0152/2011/121</td>\n",
       "      <td>Đăng ký xe máy</td>\n",
       "      <td>HĐ mở/đóng cuối ngày</td>\n",
       "    </tr>\n",
       "    <tr>\n",
       "      <th>303</th>\n",
       "      <td>202011</td>\n",
       "      <td>2020-11-08</td>\n",
       "      <td>DNI0129.943 Phạm Văn Thuận</td>\n",
       "      <td>DNI0129</td>\n",
       "      <td>ĐINH THỊ HUẾ THANH</td>\n",
       "      <td>HDCC/DNI0129/2011/127</td>\n",
       "      <td>Đăng ký xe máy</td>\n",
       "      <td>HĐ mở/đóng cuối ngày</td>\n",
       "    </tr>\n",
       "    <tr>\n",
       "      <th>316</th>\n",
       "      <td>202011</td>\n",
       "      <td>2020-11-08</td>\n",
       "      <td>DNI0196.332 Hồng Thập Tự</td>\n",
       "      <td>DNI0196</td>\n",
       "      <td>BÌNH THỊ BÍCH THÙY</td>\n",
       "      <td>HDCC/DNI0196/2011/133</td>\n",
       "      <td>Đăng ký xe máy</td>\n",
       "      <td>HĐ mở/đóng cuối ngày</td>\n",
       "    </tr>\n",
       "    <tr>\n",
       "      <th>495</th>\n",
       "      <td>202011</td>\n",
       "      <td>2020-11-08</td>\n",
       "      <td>THA0139.33 Quang Trung</td>\n",
       "      <td>THA0139</td>\n",
       "      <td>Nguyễn Văn Vương</td>\n",
       "      <td>HDCC/THA0139/2011/24</td>\n",
       "      <td>Đăng ký xe máy</td>\n",
       "      <td>HĐ mở/đóng cuối ngày</td>\n",
       "    </tr>\n",
       "    <tr>\n",
       "      <th>231</th>\n",
       "      <td>202011</td>\n",
       "      <td>2020-11-08</td>\n",
       "      <td>DNI0196.332 Hồng Thập Tự</td>\n",
       "      <td>DNI0196</td>\n",
       "      <td>CHÌU THỊ LAN</td>\n",
       "      <td>HDCC/DNI0196/2011/140</td>\n",
       "      <td>Đăng ký xe máy</td>\n",
       "      <td>HĐ mở/đóng cuối ngày</td>\n",
       "    </tr>\n",
       "    <tr>\n",
       "      <th>610</th>\n",
       "      <td>202011</td>\n",
       "      <td>2020-11-08</td>\n",
       "      <td>DNI0145.533 Phùng Hưng</td>\n",
       "      <td>DNI0145</td>\n",
       "      <td>LÊ THỊ ÁNH</td>\n",
       "      <td>HDCC/DNI0145/2011/15</td>\n",
       "      <td>Đăng ký xe máy</td>\n",
       "      <td>HĐ mở/đóng cuối ngày</td>\n",
       "    </tr>\n",
       "    <tr>\n",
       "      <th>51</th>\n",
       "      <td>202011</td>\n",
       "      <td>2020-11-08</td>\n",
       "      <td>DNI0112.415 Đồng Khởi</td>\n",
       "      <td>DNI0112</td>\n",
       "      <td>VŨ NGỌC LỘC</td>\n",
       "      <td>HDCC/DNI0112/2011/148</td>\n",
       "      <td>Đăng ký xe máy</td>\n",
       "      <td>HĐ mở/đóng cuối ngày</td>\n",
       "    </tr>\n",
       "    <tr>\n",
       "      <th>104</th>\n",
       "      <td>202011</td>\n",
       "      <td>2020-11-08</td>\n",
       "      <td>BVU0191.507 Nguyễn An Ninh</td>\n",
       "      <td>BVU0191</td>\n",
       "      <td>MAI HỮU THIỆN</td>\n",
       "      <td>HDCC/BVU0191/2011/140</td>\n",
       "      <td>Đăng ký xe máy</td>\n",
       "      <td>HĐ mở/đóng cuối ngày</td>\n",
       "    </tr>\n",
       "    <tr>\n",
       "      <th>672</th>\n",
       "      <td>202011</td>\n",
       "      <td>2020-11-08</td>\n",
       "      <td>BDG0227.Tân Phước Khánh</td>\n",
       "      <td>BDG0227</td>\n",
       "      <td>Trần Như Hoan</td>\n",
       "      <td>HDCC/BDG0227/2011/50</td>\n",
       "      <td>Đăng ký xe máy</td>\n",
       "      <td>HĐ mở/đóng cuối ngày</td>\n",
       "    </tr>\n",
       "    <tr>\n",
       "      <th>1110</th>\n",
       "      <td>202011</td>\n",
       "      <td>2020-11-08</td>\n",
       "      <td>F88 747 Hoàng Hoa Thám</td>\n",
       "      <td>HN747HHT</td>\n",
       "      <td>Ngô Sách Loan</td>\n",
       "      <td>HÐCC/HN747HHT/2010/207</td>\n",
       "      <td>Đăng ký Ô tô</td>\n",
       "      <td>HĐ mở/đóng cuối ngày</td>\n",
       "    </tr>\n",
       "    <tr>\n",
       "      <th>199</th>\n",
       "      <td>202011</td>\n",
       "      <td>2020-11-08</td>\n",
       "      <td>BTE0245.110A Đại Lộ Đồng Khởi</td>\n",
       "      <td>BTE0245</td>\n",
       "      <td>HÀ THỊ HỒNG NHUNG</td>\n",
       "      <td>HDCC/BTE0245/2011/136</td>\n",
       "      <td>Đăng ký xe máy</td>\n",
       "      <td>HĐ mở/đóng cuối ngày</td>\n",
       "    </tr>\n",
       "    <tr>\n",
       "      <th>733</th>\n",
       "      <td>202011</td>\n",
       "      <td>2020-11-08</td>\n",
       "      <td>F88 HCM - 394 Nguyễn Sơn</td>\n",
       "      <td>SG2013</td>\n",
       "      <td>ĐĂNG VĂN PHƯỚC</td>\n",
       "      <td>HÐCC/SG2013/2008/27</td>\n",
       "      <td>Đăng ký xe máy</td>\n",
       "      <td>HĐ mở/đóng cuối ngày</td>\n",
       "    </tr>\n",
       "    <tr>\n",
       "      <th>1099</th>\n",
       "      <td>202011</td>\n",
       "      <td>2020-11-08</td>\n",
       "      <td>F88 560 Quang Trung</td>\n",
       "      <td>HN560QT</td>\n",
       "      <td>Tống Quang Dương</td>\n",
       "      <td>HÐCC/HN560QT/2010/269</td>\n",
       "      <td>Laptop</td>\n",
       "      <td>HĐ mở/đóng cuối ngày</td>\n",
       "    </tr>\n",
       "    <tr>\n",
       "      <th>574</th>\n",
       "      <td>202011</td>\n",
       "      <td>2020-11-08</td>\n",
       "      <td>TGG0154.191 Lê Thị Hồng Gấm</td>\n",
       "      <td>TGG0154</td>\n",
       "      <td>NGUYỄN THỊ HỒNG THẢO</td>\n",
       "      <td>HÐCC/TGG0154/2010/96</td>\n",
       "      <td>Đăng ký xe máy</td>\n",
       "      <td>HĐ mở/đóng cuối ngày</td>\n",
       "    </tr>\n",
       "    <tr>\n",
       "      <th>375</th>\n",
       "      <td>202011</td>\n",
       "      <td>2020-11-08</td>\n",
       "      <td>F88 HCM - 121 Nguyễn Thị Tú</td>\n",
       "      <td>SG2035</td>\n",
       "      <td>Lê Thanh Tuấn</td>\n",
       "      <td>HDCC/SG2035/2011/128</td>\n",
       "      <td>Đăng ký xe máy</td>\n",
       "      <td>HĐ mở/đóng cuối ngày</td>\n",
       "    </tr>\n",
       "    <tr>\n",
       "      <th>947</th>\n",
       "      <td>202011</td>\n",
       "      <td>2020-11-08</td>\n",
       "      <td>F88 238 Đê La Thành</td>\n",
       "      <td>HN238DLT</td>\n",
       "      <td>Khổng Vũ Phương Nhung</td>\n",
       "      <td>HDCC/HN238DLT/2011/102</td>\n",
       "      <td>Điện thoại</td>\n",
       "      <td>HĐ mở/đóng cuối ngày</td>\n",
       "    </tr>\n",
       "    <tr>\n",
       "      <th>1255</th>\n",
       "      <td>202011</td>\n",
       "      <td>2020-11-08</td>\n",
       "      <td>SGN0268.01 Tỉnh Lộ 8</td>\n",
       "      <td>SGN0268</td>\n",
       "      <td>Trịnh Thị Tình</td>\n",
       "      <td>HDCC/SGN0268/2011/35</td>\n",
       "      <td>Đăng ký xe máy</td>\n",
       "      <td>HĐ mở/đóng cuối ngày</td>\n",
       "    </tr>\n",
       "    <tr>\n",
       "      <th>403</th>\n",
       "      <td>202011</td>\n",
       "      <td>2020-11-08</td>\n",
       "      <td>SGN0141.1248 Tỉnh Lộ 10</td>\n",
       "      <td>SGN0141</td>\n",
       "      <td>Nguyễn Thị Hồng Vân</td>\n",
       "      <td>HDCC/SGN0141/2011/132</td>\n",
       "      <td>Đăng ký xe máy</td>\n",
       "      <td>HĐ mở/đóng cuối ngày</td>\n",
       "    </tr>\n",
       "    <tr>\n",
       "      <th>367</th>\n",
       "      <td>202011</td>\n",
       "      <td>2020-11-08</td>\n",
       "      <td>SGN0121.577 Trần Xuân Soạn</td>\n",
       "      <td>SGN0121</td>\n",
       "      <td>DƯƠNG NGỌC HÙNG</td>\n",
       "      <td>HDCC/SGN0121/2011/155</td>\n",
       "      <td>Đăng ký xe máy</td>\n",
       "      <td>HĐ mở/đóng cuối ngày</td>\n",
       "    </tr>\n",
       "    <tr>\n",
       "      <th>1292</th>\n",
       "      <td>202011</td>\n",
       "      <td>2020-11-08</td>\n",
       "      <td>BDG0193.516 Đại lộ Bình Dương</td>\n",
       "      <td>BDG0193</td>\n",
       "      <td>MA LIÊM</td>\n",
       "      <td>HDCC/BDG0193/2011/142</td>\n",
       "      <td>Đăng ký xe máy</td>\n",
       "      <td>HĐ mở/đóng cuối ngày</td>\n",
       "    </tr>\n",
       "    <tr>\n",
       "      <th>197</th>\n",
       "      <td>202011</td>\n",
       "      <td>2020-11-08</td>\n",
       "      <td>F88 HCM - 605 Hương Lộ 2</td>\n",
       "      <td>SG2016</td>\n",
       "      <td>NGUYỄN TƯỜNG HUÂN</td>\n",
       "      <td>HÐCC/SG2016/2010/44</td>\n",
       "      <td>Đăng ký xe máy</td>\n",
       "      <td>HĐ mở/đóng cuối ngày</td>\n",
       "    </tr>\n",
       "    <tr>\n",
       "      <th>674</th>\n",
       "      <td>202011</td>\n",
       "      <td>2020-11-08</td>\n",
       "      <td>F88 HCM - 393 Nguyễn Thị Thập</td>\n",
       "      <td>SG2047</td>\n",
       "      <td>ĐỖ THỊ HỒ ĐIỆP</td>\n",
       "      <td>HDCC/SG2047/2011/137</td>\n",
       "      <td>Đăng ký xe máy</td>\n",
       "      <td>HĐ mở/đóng cuối ngày</td>\n",
       "    </tr>\n",
       "    <tr>\n",
       "      <th>1092</th>\n",
       "      <td>202011</td>\n",
       "      <td>2020-11-08</td>\n",
       "      <td>F88 238 Đê La Thành</td>\n",
       "      <td>HN238DLT</td>\n",
       "      <td>Nguyễn Thanh Tùng</td>\n",
       "      <td>HÐCC/HN238DLT/1912/106</td>\n",
       "      <td>Đăng ký xe máy</td>\n",
       "      <td>HĐ mở/đóng cuối ngày</td>\n",
       "    </tr>\n",
       "    <tr>\n",
       "      <th>803</th>\n",
       "      <td>202011</td>\n",
       "      <td>2020-11-08</td>\n",
       "      <td>THA0138.01 Trần Phú</td>\n",
       "      <td>THA0138</td>\n",
       "      <td>Trần Văn Thành</td>\n",
       "      <td>HDCC/THA0138/2011/18</td>\n",
       "      <td>Đăng ký xe máy</td>\n",
       "      <td>HĐ mở/đóng cuối ngày</td>\n",
       "    </tr>\n",
       "    <tr>\n",
       "      <th>502</th>\n",
       "      <td>202011</td>\n",
       "      <td>2020-11-08</td>\n",
       "      <td>SGN0142.415 Kha Vạn Cân</td>\n",
       "      <td>SGN0142</td>\n",
       "      <td>VÕ NHẬT TIN</td>\n",
       "      <td>HDCC/SGN0142/2011/130</td>\n",
       "      <td>Điện thoại</td>\n",
       "      <td>HĐ mở/đóng cuối ngày</td>\n",
       "    </tr>\n",
       "    <tr>\n",
       "      <th>781</th>\n",
       "      <td>202011</td>\n",
       "      <td>2020-11-08</td>\n",
       "      <td>F88 HCM - 94 Lê Văn Khương</td>\n",
       "      <td>SG2015</td>\n",
       "      <td>BÙI MINH THỤ</td>\n",
       "      <td>HDCC/SG2015/2011/54</td>\n",
       "      <td>Đăng ký xe máy</td>\n",
       "      <td>HĐ mở/đóng cuối ngày</td>\n",
       "    </tr>\n",
       "    <tr>\n",
       "      <th>731</th>\n",
       "      <td>202011</td>\n",
       "      <td>2020-11-08</td>\n",
       "      <td>BDG0127.89 đường N5</td>\n",
       "      <td>BDG0127</td>\n",
       "      <td>LÊ THANH TUẤN</td>\n",
       "      <td>HDCC/BDG0127/2011/139</td>\n",
       "      <td>Đăng ký xe máy</td>\n",
       "      <td>HĐ mở/đóng cuối ngày</td>\n",
       "    </tr>\n",
       "    <tr>\n",
       "      <th>1009</th>\n",
       "      <td>202011</td>\n",
       "      <td>2020-11-08</td>\n",
       "      <td>F88 119 Nguyễn Ngọc Vũ</td>\n",
       "      <td>HN119NNV</td>\n",
       "      <td>Đỗ Thị Thanh Ngân</td>\n",
       "      <td>HÐCC/HN119NNV/2009/43</td>\n",
       "      <td>Xe máy</td>\n",
       "      <td>HĐ mở/đóng cuối ngày</td>\n",
       "    </tr>\n",
       "    <tr>\n",
       "      <th>1124</th>\n",
       "      <td>202011</td>\n",
       "      <td>2020-11-08</td>\n",
       "      <td>TGG0168.1/1 Nguyễn Huỳnh Đức</td>\n",
       "      <td>TGG0168</td>\n",
       "      <td>Phạm Ngọc Diệp</td>\n",
       "      <td>HDCC/TGG0168/2011/122</td>\n",
       "      <td>Đăng ký xe máy</td>\n",
       "      <td>HĐ mở/đóng cuối ngày</td>\n",
       "    </tr>\n",
       "    <tr>\n",
       "      <th>1313</th>\n",
       "      <td>202011</td>\n",
       "      <td>2020-11-08</td>\n",
       "      <td>F88 HCM - 393 Nguyễn Thị Thập</td>\n",
       "      <td>SG2047</td>\n",
       "      <td>LÊ TRỌNG HIẾU</td>\n",
       "      <td>HÐCC/SG2047/2011/25</td>\n",
       "      <td>Laptop</td>\n",
       "      <td>HĐ mở/đóng cuối ngày</td>\n",
       "    </tr>\n",
       "    <tr>\n",
       "      <th>1108</th>\n",
       "      <td>202011</td>\n",
       "      <td>2020-11-08</td>\n",
       "      <td>F88 HCM - 453 Thống Nhất</td>\n",
       "      <td>SG2023</td>\n",
       "      <td>VÕ TẤN KHƯƠNG</td>\n",
       "      <td>HDCC/SG2023/2011/149</td>\n",
       "      <td>Đăng ký xe máy</td>\n",
       "      <td>HĐ mở/đóng cuối ngày</td>\n",
       "    </tr>\n",
       "    <tr>\n",
       "      <th>727</th>\n",
       "      <td>202011</td>\n",
       "      <td>2020-11-08</td>\n",
       "      <td>QNH0192.670 Hạ Long</td>\n",
       "      <td>QNH0192</td>\n",
       "      <td>Nguyễn Thị Thu Hiền</td>\n",
       "      <td>HDCC/QNH0192/2011/26</td>\n",
       "      <td>Đăng ký xe máy</td>\n",
       "      <td>HĐ mở/đóng cuối ngày</td>\n",
       "    </tr>\n",
       "  </tbody>\n",
       "</table>\n",
       "</div>"
      ],
      "text/plain": [
       "     year_month extract_date                         shop_name  shopcode  \\\n",
       "106      202011   2020-11-08      TNN0136.185 Lương Ngọc Quyến   TNN0136   \n",
       "399      202011   2020-11-08      TNN0136.185 Lương Ngọc Quyến   TNN0136   \n",
       "499      202011   2020-11-08                F88 39 Hồ Tùng Mậu   HN39HTM   \n",
       "560      202011   2020-11-08      TNN0136.185 Lương Ngọc Quyến   TNN0136   \n",
       "562      202011   2020-11-08       NBH0273.275 Nguyễn Công Trứ   NBH0273   \n",
       "860      202011   2020-11-08               BDG0181.22 Tháng 12   BDG0181   \n",
       "930      202011   2020-11-08          F88 2A Nguyễn Khánh Toàn   HN2ANKT   \n",
       "1248     202011   2020-11-08               BDG0127.89 đường N5   BDG0127   \n",
       "1293     202011   2020-11-08          F88 2A Nguyễn Khánh Toàn   HN2ANKT   \n",
       "1218     202011   2020-11-08  DNI0152.84 tổ 3 Đường Lý Thái Tổ   DNI0152   \n",
       "890      202011   2020-11-08           SGN0108.166 Đặng Văn Bi   SGN0108   \n",
       "1265     202011   2020-11-08          F88 HCM - 13 Nguyên Hồng    SG2032   \n",
       "1233     202011   2020-11-08             F88 TH - 01 Ngô Quyền       THH   \n",
       "496      202011   2020-11-08  DNI0152.84 tổ 3 Đường Lý Thái Tổ   DNI0152   \n",
       "303      202011   2020-11-08        DNI0129.943 Phạm Văn Thuận   DNI0129   \n",
       "316      202011   2020-11-08          DNI0196.332 Hồng Thập Tự   DNI0196   \n",
       "495      202011   2020-11-08            THA0139.33 Quang Trung   THA0139   \n",
       "231      202011   2020-11-08          DNI0196.332 Hồng Thập Tự   DNI0196   \n",
       "610      202011   2020-11-08            DNI0145.533 Phùng Hưng   DNI0145   \n",
       "51       202011   2020-11-08             DNI0112.415 Đồng Khởi   DNI0112   \n",
       "104      202011   2020-11-08        BVU0191.507 Nguyễn An Ninh   BVU0191   \n",
       "672      202011   2020-11-08           BDG0227.Tân Phước Khánh   BDG0227   \n",
       "1110     202011   2020-11-08            F88 747 Hoàng Hoa Thám  HN747HHT   \n",
       "199      202011   2020-11-08     BTE0245.110A Đại Lộ Đồng Khởi   BTE0245   \n",
       "733      202011   2020-11-08          F88 HCM - 394 Nguyễn Sơn    SG2013   \n",
       "1099     202011   2020-11-08               F88 560 Quang Trung   HN560QT   \n",
       "574      202011   2020-11-08       TGG0154.191 Lê Thị Hồng Gấm   TGG0154   \n",
       "375      202011   2020-11-08       F88 HCM - 121 Nguyễn Thị Tú    SG2035   \n",
       "947      202011   2020-11-08               F88 238 Đê La Thành  HN238DLT   \n",
       "1255     202011   2020-11-08              SGN0268.01 Tỉnh Lộ 8   SGN0268   \n",
       "403      202011   2020-11-08           SGN0141.1248 Tỉnh Lộ 10   SGN0141   \n",
       "367      202011   2020-11-08        SGN0121.577 Trần Xuân Soạn   SGN0121   \n",
       "1292     202011   2020-11-08     BDG0193.516 Đại lộ Bình Dương   BDG0193   \n",
       "197      202011   2020-11-08          F88 HCM - 605 Hương Lộ 2    SG2016   \n",
       "674      202011   2020-11-08     F88 HCM - 393 Nguyễn Thị Thập    SG2047   \n",
       "1092     202011   2020-11-08               F88 238 Đê La Thành  HN238DLT   \n",
       "803      202011   2020-11-08               THA0138.01 Trần Phú   THA0138   \n",
       "502      202011   2020-11-08           SGN0142.415 Kha Vạn Cân   SGN0142   \n",
       "781      202011   2020-11-08        F88 HCM - 94 Lê Văn Khương    SG2015   \n",
       "731      202011   2020-11-08               BDG0127.89 đường N5   BDG0127   \n",
       "1009     202011   2020-11-08            F88 119 Nguyễn Ngọc Vũ  HN119NNV   \n",
       "1124     202011   2020-11-08      TGG0168.1/1 Nguyễn Huỳnh Đức   TGG0168   \n",
       "1313     202011   2020-11-08     F88 HCM - 393 Nguyễn Thị Thập    SG2047   \n",
       "1108     202011   2020-11-08          F88 HCM - 453 Thống Nhất    SG2023   \n",
       "727      202011   2020-11-08               QNH0192.670 Hạ Long   QNH0192   \n",
       "\n",
       "                   customer                  codeno   category_name  \\\n",
       "106         Nguyễn Vũ Quang    HDCC/TNN0136/2011/21    Đăng ký Ô tô   \n",
       "399           Dương Văn Hào    HDCC/TNN0136/2011/23  Đăng ký xe máy   \n",
       "499         Hoàng Văn Thiện   HDCC/HN39HTM/2011/180      Điện thoại   \n",
       "560         HOÀNG HỮU PHONG    HDCC/TNN0136/2011/22          Laptop   \n",
       "562          Nguyễn Đức Lợi     HDCC/NBH0273/2011/1  Đăng ký xe máy   \n",
       "860           TRẦN THỊ THỦY    HÐCC/BDG0181/2008/59  Đăng ký xe máy   \n",
       "930          Nguyễn Khả Bảo   HDCC/HN2ANKT/2011/166          Laptop   \n",
       "1248           BÙI THỊ DIỆN   HDCC/BDG0127/2011/142  Đăng ký xe máy   \n",
       "1293         Nguyễn Khả Bảo   HÐCC/HN2ANKT/2010/130          Laptop   \n",
       "1218    NGUYỄN THANH PHƯƠNG   HDCC/DNI0152/2011/111  Đăng ký xe máy   \n",
       "890    BÙI NGUYỄN TRƯỜNG VŨ    HDCC/SGN0108/2011/20          Laptop   \n",
       "1265         Đặng Thùy Dung     HÐCC/SG2032/1910/47  Đăng ký xe máy   \n",
       "1233            Hoàng Giang       HÐCC/THH/2009/149  Đăng ký xe máy   \n",
       "496         PHẠM VĂN NGUYÊN   HDCC/DNI0152/2011/121  Đăng ký xe máy   \n",
       "303      ĐINH THỊ HUẾ THANH   HDCC/DNI0129/2011/127  Đăng ký xe máy   \n",
       "316      BÌNH THỊ BÍCH THÙY   HDCC/DNI0196/2011/133  Đăng ký xe máy   \n",
       "495        Nguyễn Văn Vương    HDCC/THA0139/2011/24  Đăng ký xe máy   \n",
       "231            CHÌU THỊ LAN   HDCC/DNI0196/2011/140  Đăng ký xe máy   \n",
       "610              LÊ THỊ ÁNH    HDCC/DNI0145/2011/15  Đăng ký xe máy   \n",
       "51              VŨ NGỌC LỘC   HDCC/DNI0112/2011/148  Đăng ký xe máy   \n",
       "104           MAI HỮU THIỆN   HDCC/BVU0191/2011/140  Đăng ký xe máy   \n",
       "672           Trần Như Hoan    HDCC/BDG0227/2011/50  Đăng ký xe máy   \n",
       "1110          Ngô Sách Loan  HÐCC/HN747HHT/2010/207    Đăng ký Ô tô   \n",
       "199       HÀ THỊ HỒNG NHUNG   HDCC/BTE0245/2011/136  Đăng ký xe máy   \n",
       "733          ĐĂNG VĂN PHƯỚC     HÐCC/SG2013/2008/27  Đăng ký xe máy   \n",
       "1099       Tống Quang Dương   HÐCC/HN560QT/2010/269          Laptop   \n",
       "574    NGUYỄN THỊ HỒNG THẢO    HÐCC/TGG0154/2010/96  Đăng ký xe máy   \n",
       "375           Lê Thanh Tuấn    HDCC/SG2035/2011/128  Đăng ký xe máy   \n",
       "947   Khổng Vũ Phương Nhung  HDCC/HN238DLT/2011/102      Điện thoại   \n",
       "1255         Trịnh Thị Tình    HDCC/SGN0268/2011/35  Đăng ký xe máy   \n",
       "403     Nguyễn Thị Hồng Vân   HDCC/SGN0141/2011/132  Đăng ký xe máy   \n",
       "367         DƯƠNG NGỌC HÙNG   HDCC/SGN0121/2011/155  Đăng ký xe máy   \n",
       "1292                MA LIÊM   HDCC/BDG0193/2011/142  Đăng ký xe máy   \n",
       "197       NGUYỄN TƯỜNG HUÂN     HÐCC/SG2016/2010/44  Đăng ký xe máy   \n",
       "674          ĐỖ THỊ HỒ ĐIỆP    HDCC/SG2047/2011/137  Đăng ký xe máy   \n",
       "1092      Nguyễn Thanh Tùng  HÐCC/HN238DLT/1912/106  Đăng ký xe máy   \n",
       "803          Trần Văn Thành    HDCC/THA0138/2011/18  Đăng ký xe máy   \n",
       "502             VÕ NHẬT TIN   HDCC/SGN0142/2011/130      Điện thoại   \n",
       "781            BÙI MINH THỤ     HDCC/SG2015/2011/54  Đăng ký xe máy   \n",
       "731           LÊ THANH TUẤN   HDCC/BDG0127/2011/139  Đăng ký xe máy   \n",
       "1009      Đỗ Thị Thanh Ngân   HÐCC/HN119NNV/2009/43          Xe máy   \n",
       "1124         Phạm Ngọc Diệp   HDCC/TGG0168/2011/122  Đăng ký xe máy   \n",
       "1313          LÊ TRỌNG HIẾU     HÐCC/SG2047/2011/25          Laptop   \n",
       "1108          VÕ TẤN KHƯƠNG    HDCC/SG2023/2011/149  Đăng ký xe máy   \n",
       "727     Nguyễn Thị Thu Hiền    HDCC/QNH0192/2011/26  Đăng ký xe máy   \n",
       "\n",
       "                          pawn_fraud_group  \n",
       "106   HĐ đóng/mở trước khi kiểm kê lần đầu  \n",
       "399   HĐ đóng/mở trước khi kiểm kê lần đầu  \n",
       "499    HĐ đóng/mở sau khi kiểm kê lần cuối  \n",
       "560   HĐ đóng/mở trước khi kiểm kê lần đầu  \n",
       "562   HĐ đóng/mở trước khi kiểm kê lần đầu  \n",
       "860    HĐ đóng/mở sau khi kiểm kê lần cuối  \n",
       "930    HĐ đóng/mở sau khi kiểm kê lần cuối  \n",
       "1248   HĐ đóng/mở sau khi kiểm kê lần cuối  \n",
       "1293   HĐ đóng/mở sau khi kiểm kê lần cuối  \n",
       "1218                   HĐ mở/đóng đầu ngày  \n",
       "890                    HĐ mở/đóng đầu ngày  \n",
       "1265                   HĐ mở/đóng đầu ngày  \n",
       "1233                  HĐ mở/đóng cuối ngày  \n",
       "496                   HĐ mở/đóng cuối ngày  \n",
       "303                   HĐ mở/đóng cuối ngày  \n",
       "316                   HĐ mở/đóng cuối ngày  \n",
       "495                   HĐ mở/đóng cuối ngày  \n",
       "231                   HĐ mở/đóng cuối ngày  \n",
       "610                   HĐ mở/đóng cuối ngày  \n",
       "51                    HĐ mở/đóng cuối ngày  \n",
       "104                   HĐ mở/đóng cuối ngày  \n",
       "672                   HĐ mở/đóng cuối ngày  \n",
       "1110                  HĐ mở/đóng cuối ngày  \n",
       "199                   HĐ mở/đóng cuối ngày  \n",
       "733                   HĐ mở/đóng cuối ngày  \n",
       "1099                  HĐ mở/đóng cuối ngày  \n",
       "574                   HĐ mở/đóng cuối ngày  \n",
       "375                   HĐ mở/đóng cuối ngày  \n",
       "947                   HĐ mở/đóng cuối ngày  \n",
       "1255                  HĐ mở/đóng cuối ngày  \n",
       "403                   HĐ mở/đóng cuối ngày  \n",
       "367                   HĐ mở/đóng cuối ngày  \n",
       "1292                  HĐ mở/đóng cuối ngày  \n",
       "197                   HĐ mở/đóng cuối ngày  \n",
       "674                   HĐ mở/đóng cuối ngày  \n",
       "1092                  HĐ mở/đóng cuối ngày  \n",
       "803                   HĐ mở/đóng cuối ngày  \n",
       "502                   HĐ mở/đóng cuối ngày  \n",
       "781                   HĐ mở/đóng cuối ngày  \n",
       "731                   HĐ mở/đóng cuối ngày  \n",
       "1009                  HĐ mở/đóng cuối ngày  \n",
       "1124                  HĐ mở/đóng cuối ngày  \n",
       "1313                  HĐ mở/đóng cuối ngày  \n",
       "1108                  HĐ mở/đóng cuối ngày  \n",
       "727                   HĐ mở/đóng cuối ngày  "
      ]
     },
     "execution_count": 300,
     "metadata": {},
     "output_type": "execute_result"
    }
   ],
   "source": [
    "check_sample_1"
   ]
  },
  {
   "cell_type": "markdown",
   "metadata": {},
   "source": [
    "- HĐ đóng/mở cuối ngày: đóng/mở trong vòng 30 phút trước khi kiểm kê lần cuối trong ngày\n",
    "- HĐ đóng/mở đầu ngày: đóng/mở trong vòng 30 phút sau khi kiểm kê lần đầu trong ngày"
   ]
  },
  {
   "cell_type": "code",
   "execution_count": null,
   "metadata": {},
   "outputs": [],
   "source": []
  },
  {
   "cell_type": "code",
   "execution_count": 302,
   "metadata": {},
   "outputs": [],
   "source": [
    "#  Khoảng thời gian mở HĐ\n",
    "open_str = \"\"\"Declare @ext_date date= '\"\"\"+checkdate+\"\"\"'\n",
    "select le.EXTRAC_DATE,support_staff,created_staff,ShopCode,le.CodeNo,Customer,\n",
    "NAME categoryname,OpenHour,InitTime,complete, shop_name \n",
    "from [dwh].[dbo].OPEN_CLOSE_CONTRACT_BY_TIME le \n",
    "left join [dwh].[dbo].W_CATEGORY_D cate on cate.CODE=le.CategoryCode \n",
    "left join (select codeno,FirstSupportID,u.USER_CODE support_staff,u2.USER_CODE created_staff,\n",
    "ShopCode,InitTime, sd.name shop_name\n",
    "from [dwh].[dbo].pawn pa1 \n",
    "left join [dwh].[dbo].ShopDetail sd on pa1.shopcode = sd.code\n",
    "left join [dwh].[dbo].W_USER_F u on pa1.firstsupportid=u.USER_WID \n",
    "left join [dwh].[dbo].W_USER_F u2 on pa1.CreatedBy=u2.USER_WID \n",
    "where pa1.status not in (15,22,11))pa on le.CodeNo=pa.CodeNo \n",
    "left join (select PAWN_WID,CONTRACT_NO,min(CREATED)complete from [dwh].[dbo].W_PAWN_TRANSACTION_F \n",
    "where action_name like N'Cho vay' \n",
    "group by PAWN_WID,CONTRACT_NO)trans \n",
    "on trans.CONTRACT_NO=le.CodeNo where OpenHour is not null and cast(OpenHour as date) = @ext_date\"\"\""
   ]
  },
  {
   "cell_type": "code",
   "execution_count": 303,
   "metadata": {},
   "outputs": [],
   "source": [
    "open_data=pd.read_sql_query(open_str,db)"
   ]
  },
  {
   "cell_type": "code",
   "execution_count": 304,
   "metadata": {},
   "outputs": [],
   "source": [
    "open_data['init_to_comple']=(pd.to_datetime(open_data['complete'])-open_data.inittime).dt.seconds/60"
   ]
  },
  {
   "cell_type": "code",
   "execution_count": 305,
   "metadata": {},
   "outputs": [],
   "source": [
    "full_sample_threshold = pd.read_excel(r'D:\\F88\\Python code\\Immediate_warning\\official job\\Optimize\\pawn_process_theshold.xlsx', sheet_name='full_sample')\n",
    "part_sample_threshold_short = pd.read_excel(r'D:\\F88\\Python code\\Immediate_warning\\official job\\Optimize\\pawn_process_theshold.xlsx', sheet_name='part_process_short')\n",
    "part_sample_threshold_long = pd.read_excel(r'D:\\F88\\Python code\\Immediate_warning\\official job\\Optimize\\pawn_process_theshold.xlsx', sheet_name='part_process_long')"
   ]
  },
  {
   "cell_type": "code",
   "execution_count": 306,
   "metadata": {},
   "outputs": [],
   "source": [
    "part_sample_threshold_short.columns = ['category_name', 'short_min', 'short_max']"
   ]
  },
  {
   "cell_type": "code",
   "execution_count": 307,
   "metadata": {},
   "outputs": [],
   "source": [
    "part_sample_threshold_long.columns = ['category_name', 'long_min', 'long_max']"
   ]
  },
  {
   "cell_type": "code",
   "execution_count": 308,
   "metadata": {},
   "outputs": [],
   "source": [
    "open_data = open_data.merge(full_sample_threshold, left_on = 'categoryname',right_on =  'category_name',how = 'left')"
   ]
  },
  {
   "cell_type": "code",
   "execution_count": 309,
   "metadata": {},
   "outputs": [],
   "source": [
    "open_data = open_data.merge(part_sample_threshold_short, left_on = 'categoryname',right_on =  'category_name',how = 'left')"
   ]
  },
  {
   "cell_type": "code",
   "execution_count": 310,
   "metadata": {},
   "outputs": [],
   "source": [
    "open_data = open_data.merge(part_sample_threshold_long, left_on = 'categoryname',right_on =  'category_name',how = 'left')"
   ]
  },
  {
   "cell_type": "code",
   "execution_count": 311,
   "metadata": {},
   "outputs": [
    {
     "data": {
      "text/plain": [
       "Index(['extrac_date', 'support_staff', 'created_staff', 'shopcode', 'codeno',\n",
       "       'customer', 'categoryname', 'openhour', 'inittime', 'complete',\n",
       "       'shop_name', 'init_to_comple', 'index', 'category_name_x',\n",
       "       'lower_threshold', 'upper_threshold', 'category_name_y', 'short_min',\n",
       "       'short_max', 'category_name', 'long_min', 'long_max'],\n",
       "      dtype='object')"
      ]
     },
     "execution_count": 311,
     "metadata": {},
     "output_type": "execute_result"
    }
   ],
   "source": [
    "open_data.columns"
   ]
  },
  {
   "cell_type": "code",
   "execution_count": 312,
   "metadata": {},
   "outputs": [],
   "source": [
    "#  Tất cả các HĐ được cảnh báo khi init_to_comple <lower_threshold hoặc init_to_comple >upper_threshold\n",
    "full_sample_2a = open_data[open_data['init_to_comple']<=open_data['lower_threshold']]\n",
    "full_sample_2b = open_data[open_data['init_to_comple']>=open_data['upper_threshold']]"
   ]
  },
  {
   "cell_type": "code",
   "execution_count": 313,
   "metadata": {},
   "outputs": [],
   "source": [
    "full_sample_2a['pawn_fraud_group'] = 'HĐ mở trong thời gian ngắn bất thường'\n",
    "full_sample_2b['pawn_fraud_group'] = 'HĐ mở trong thời gian dài bất thường'"
   ]
  },
  {
   "cell_type": "code",
   "execution_count": 314,
   "metadata": {},
   "outputs": [],
   "source": [
    "full_sample_2 = full_sample_2a.append(full_sample_2b)"
   ]
  },
  {
   "cell_type": "code",
   "execution_count": 315,
   "metadata": {},
   "outputs": [],
   "source": [
    "full_sample_2a1 = full_sample_2[(full_sample_2['categoryname'] == 'Đăng ký Ô tô')|(full_sample_2['categoryname'] == 'Đăng ký xe máy')]"
   ]
  },
  {
   "cell_type": "code",
   "execution_count": 316,
   "metadata": {},
   "outputs": [],
   "source": [
    "full_sample_2b1 = full_sample_2[(full_sample_2['categoryname'] == 'Điện thoại')|(full_sample_2['categoryname'] == 'Xe máy')|(full_sample_2['categoryname'] == 'Laptop')|(full_sample_2['categoryname'] == 'Ô tô')]"
   ]
  },
  {
   "cell_type": "code",
   "execution_count": 317,
   "metadata": {},
   "outputs": [],
   "source": [
    "# Chọn mẫu check HĐ mở trong thời gian ngắn bất thường theo tỷ lệ check\n",
    "part_sample_short = open_data[(open_data['init_to_comple']>open_data['short_min']) & (open_data['init_to_comple']<open_data['short_max'])]"
   ]
  },
  {
   "cell_type": "code",
   "execution_count": 318,
   "metadata": {},
   "outputs": [],
   "source": [
    "part_sample_short['pawn_fraud_group'] = 'HĐ mở trong thời gian ngắn bất thường'"
   ]
  },
  {
   "cell_type": "code",
   "execution_count": 319,
   "metadata": {},
   "outputs": [],
   "source": [
    "# Chọn mẫu check HĐ mở trong thời gian dài bất thường theo tỷ lệ check\n",
    "part_sample_long = open_data[(open_data['init_to_comple']>open_data['long_min']) & (open_data['init_to_comple']<open_data['long_max'])]"
   ]
  },
  {
   "cell_type": "code",
   "execution_count": 320,
   "metadata": {},
   "outputs": [],
   "source": [
    "part_sample_long['pawn_fraud_group'] = 'HĐ mở trong thời gian dài bất thường'"
   ]
  },
  {
   "cell_type": "code",
   "execution_count": 321,
   "metadata": {},
   "outputs": [],
   "source": [
    "check_full_sample_2b = full_sample_2b1.sample(frac=0.3, replace=True, random_state=1)"
   ]
  },
  {
   "cell_type": "code",
   "execution_count": 322,
   "metadata": {},
   "outputs": [],
   "source": [
    "check_part_sample_long = part_sample_long.sample(frac=0.3, replace=True, random_state=1)"
   ]
  },
  {
   "cell_type": "code",
   "execution_count": 323,
   "metadata": {},
   "outputs": [],
   "source": [
    "check_part_sample_short = part_sample_short.sample(frac=0.5, replace=True, random_state=1)"
   ]
  },
  {
   "cell_type": "code",
   "execution_count": 324,
   "metadata": {},
   "outputs": [],
   "source": [
    "check_sample_2 = full_sample_2a1.append(check_full_sample_2b).append(check_part_sample_long).append(check_part_sample_short)"
   ]
  },
  {
   "cell_type": "code",
   "execution_count": 326,
   "metadata": {},
   "outputs": [],
   "source": [
    "check_sample_2['extract_date'] = checkdate\n",
    "check_sample_2['year_month'] = yearmonth"
   ]
  },
  {
   "cell_type": "code",
   "execution_count": 327,
   "metadata": {},
   "outputs": [
    {
     "data": {
      "text/plain": [
       "Index(['extrac_date', 'support_staff', 'created_staff', 'shopcode', 'codeno',\n",
       "       'customer', 'categoryname', 'openhour', 'inittime', 'complete',\n",
       "       'shop_name', 'init_to_comple', 'index', 'category_name_x',\n",
       "       'lower_threshold', 'upper_threshold', 'category_name_y', 'short_min',\n",
       "       'short_max', 'category_name', 'long_min', 'long_max',\n",
       "       'pawn_fraud_group', 'extract_date', 'year_month'],\n",
       "      dtype='object')"
      ]
     },
     "execution_count": 327,
     "metadata": {},
     "output_type": "execute_result"
    }
   ],
   "source": [
    "check_sample_2.columns"
   ]
  },
  {
   "cell_type": "code",
   "execution_count": 328,
   "metadata": {},
   "outputs": [],
   "source": [
    "check_sample_2 = check_sample_2[['year_month','extract_date','shop_name','shopcode', 'customer', 'codeno','category_name','pawn_fraud_group']]"
   ]
  },
  {
   "cell_type": "code",
   "execution_count": 343,
   "metadata": {},
   "outputs": [],
   "source": [
    "#  Đóng HĐ trong vòng 5 ngày từ ngày mở (càng đóng sớm càng có vấn đề)\n",
    "closed_within_5_days_str = \"\"\"Declare @check_date date = '\"\"\"+checkdate+\"\"\"'\n",
    "  select pa.Pawnid, pa.CodeNo,pa.shopcode, sd.Name shopname, cus.Name customer_name, pa.FromDate, pa.Todate ,pa.CloseDate, \n",
    "  DATEDIFF(day, pa.FromDate, pa.CloseDate) real_loan_days, cate.NAME category_name\n",
    "  from pawn pa\n",
    "  left join ShopDetail sd on pa.ShopCode=sd.Code\n",
    "  left join Customer cus on cus.CustomerID = pa.CustomerID\n",
    "  left join W_CATEGORY_D cate on cate.CODE = pa.CategoryCode \n",
    "  where pa.CloseDate is not null\n",
    "  and DATEDIFF(day, pa.fromdate, pa.CloseDate) <=5\n",
    "  and pa.closedate = @check_date\n",
    "  and pa.STATUS not in (11,15,22)\"\"\""
   ]
  },
  {
   "cell_type": "code",
   "execution_count": 344,
   "metadata": {},
   "outputs": [],
   "source": [
    "closed_within_5_days = pd.read_sql_query(closed_within_5_days_str,db)"
   ]
  },
  {
   "cell_type": "code",
   "execution_count": 345,
   "metadata": {},
   "outputs": [
    {
     "data": {
      "text/plain": [
       "array(['Đăng ký xe máy', 'Điện thoại', 'Laptop', 'Xe máy', 'Trang sức',\n",
       "       'Đăng ký Ô tô', 'Đồng hồ', 'Máy tính bảng'], dtype=object)"
      ]
     },
     "execution_count": 345,
     "metadata": {},
     "output_type": "execute_result"
    }
   ],
   "source": [
    "closed_within_5_days['category_name'].unique()"
   ]
  },
  {
   "cell_type": "code",
   "execution_count": 346,
   "metadata": {},
   "outputs": [],
   "source": [
    "check_closed_within_5_days = closed_within_5_days[(closed_within_5_days['category_name'] == 'Đăng ký xe máy')|(closed_within_5_days['category_name'] == 'Xe máy')|(closed_within_5_days['category_name'] == 'Đăng ký Ô tô')|(closed_within_5_days['category_name'] == 'Ô tô')]"
   ]
  },
  {
   "cell_type": "code",
   "execution_count": 353,
   "metadata": {},
   "outputs": [],
   "source": []
  },
  {
   "cell_type": "code",
   "execution_count": 347,
   "metadata": {},
   "outputs": [],
   "source": [
    "check_sample_3 = check_closed_within_5_days.sample(frac=0.5, replace=True, random_state=1)"
   ]
  },
  {
   "cell_type": "code",
   "execution_count": 348,
   "metadata": {},
   "outputs": [],
   "source": [
    "check_sample_3['extract_date'] = checkdate\n",
    "check_sample_3['yearmonth'] = yearmonth"
   ]
  },
  {
   "cell_type": "code",
   "execution_count": 356,
   "metadata": {},
   "outputs": [],
   "source": [
    "check_sample_3.columns = ['pawnid', 'codeno', 'shopcode', 'shop_name', 'customer', 'fromdate',\n",
    "       'todate', 'closedate', 'real_loan_days', 'category_name',\n",
    "       'extract_date', 'year_month']"
   ]
  },
  {
   "cell_type": "code",
   "execution_count": null,
   "metadata": {},
   "outputs": [],
   "source": [
    "check_sample_3['pawn_fraud_group'] = 'HĐ đóng trong vòng 5 ngày kể từ ngày mở'"
   ]
  },
  {
   "cell_type": "code",
   "execution_count": 357,
   "metadata": {},
   "outputs": [],
   "source": [
    "check_sample_3 = check_sample_3[['year_month','extract_date','shop_name','shopcode', 'customer', 'codeno','category_name','pawn_fraud_group']]"
   ]
  },
  {
   "cell_type": "code",
   "execution_count": 38,
   "metadata": {},
   "outputs": [],
   "source": [
    "#  HĐ TS thường thanh toán khi quá hạn trên 5 ngày\n",
    "overdue_close_str= \"\"\"Declare @ext_date date ='\"\"\"+get_n_days(number_day)+\"\"\"' \n",
    "select pa.Pawnid,shop.Name shopname,pa.ShopCode,po.CustomerName,\n",
    "pa.CodeNo,po.CategoryName,pa.FromDate,pa.CloseDate,pa.MoneyCurrent,po.TuoiNo+1 dpd \n",
    "from pawn pa \n",
    "left join PawnOverdue po on (po.PawnID=pa.Pawnid and po.CREATED=dateadd(day,-1,pa.CloseDate)) \n",
    "left join ShopDetail shop on pa.ShopCode=shop.Code \n",
    "where pa.STATUS =1 and pa.CloseDate=@ext_date \n",
    "and po.CategoryName not like N'%Đăng ký%' \n",
    "and TuoiNo>5 and pa.ShopCode not like '%DR%'\n",
    "and pa.ShopCode not like '%TEST%'\n",
    "and pa.ShopCode not like '%HS%'\"\"\""
   ]
  },
  {
   "cell_type": "code",
   "execution_count": 39,
   "metadata": {},
   "outputs": [],
   "source": [
    "overdue_close_data=pd.read_sql_query(overdue_close_str,db)"
   ]
  },
  {
   "cell_type": "code",
   "execution_count": 288,
   "metadata": {},
   "outputs": [],
   "source": [
    "overdue_close_data['pawn_fraud_group'] = 'HĐ thanh toán khi quá hạn trên 5 ngày'"
   ]
  },
  {
   "cell_type": "code",
   "execution_count": 359,
   "metadata": {},
   "outputs": [],
   "source": [
    "overdue_close_data['extract_date'] = checkdate\n",
    "overdue_close_data['year_month'] = yearmonth"
   ]
  },
  {
   "cell_type": "code",
   "execution_count": 362,
   "metadata": {},
   "outputs": [],
   "source": [
    "overdue_close_data.columns = ['pawnid', 'shop_name', 'shopcode', 'customer', 'codeno',\n",
    "       'category_name', 'fromdate', 'closedate', 'moneycurrent', 'dpd',\n",
    "       'pawn_fraud_group', 'extract_date', 'year_month']"
   ]
  },
  {
   "cell_type": "code",
   "execution_count": 363,
   "metadata": {},
   "outputs": [],
   "source": [
    "check_sample_4 = overdue_close_data[['year_month','extract_date','shop_name','shopcode', 'customer', 'codeno','category_name','pawn_fraud_group']]"
   ]
  },
  {
   "cell_type": "code",
   "execution_count": 378,
   "metadata": {},
   "outputs": [],
   "source": [
    "# LTV tại thời điểm giải ngân\n",
    "ltv_result_str =\"\"\"Declare @check_date date = '\"\"\"+checkdate+\"\"\"'\n",
    "  select CategoryName,CustomerName, ShopName,pawnid, ContractCode,shopcode,\n",
    "  case when PackageCode like '%NHANH%' then N'Vay nhanh' else N'Vay thường' end package_name,\n",
    "  (moneyOrg - InsurranceMoney)/MoneyAppraisal ltv_index\n",
    "  from [dwh].[dbo].[PawnOverdue]\n",
    "  where CREATED = @check_date\n",
    "  and FromDate = @check_date\"\"\""
   ]
  },
  {
   "cell_type": "code",
   "execution_count": 379,
   "metadata": {},
   "outputs": [],
   "source": [
    "ltv_of_pawn = pd.read_sql_query(ltv_result_str, db)"
   ]
  },
  {
   "cell_type": "code",
   "execution_count": 380,
   "metadata": {},
   "outputs": [],
   "source": [
    "ltv_title = ltv_of_pawn[(ltv_of_pawn['categoryname'] =='Đăng ký xe máy')|(ltv_of_pawn['categoryname'] =='Đăng ký Ô tô')]"
   ]
  },
  {
   "cell_type": "code",
   "execution_count": 381,
   "metadata": {},
   "outputs": [],
   "source": [
    "check_ltv = ltv_title[ltv_title['ltv_index']>=0.75]"
   ]
  },
  {
   "cell_type": "code",
   "execution_count": 382,
   "metadata": {},
   "outputs": [],
   "source": [
    "check_ltv['pawn_fraud_group'] = 'HĐ đăng ký có LTV cao'\n",
    "check_ltv['extract_date'] = checkdate\n",
    "check_ltv['year_month'] = yearmonth"
   ]
  },
  {
   "cell_type": "code",
   "execution_count": 383,
   "metadata": {},
   "outputs": [],
   "source": [
    "check_ltv.columns = ['category_name', 'customer', 'shop_name', 'pawnid', 'codeno',\n",
    "       'shopcode', 'package_name', 'ltv_index', 'pawn_fraud_group',\n",
    "       'extract_date', 'year_month']"
   ]
  },
  {
   "cell_type": "code",
   "execution_count": 384,
   "metadata": {},
   "outputs": [],
   "source": [
    "check_sample_5 = check_ltv[['year_month','extract_date','shop_name','shopcode', 'customer', 'codeno','category_name','pawn_fraud_group']]"
   ]
  },
  {
   "cell_type": "code",
   "execution_count": 385,
   "metadata": {},
   "outputs": [],
   "source": [
    "full_sample_check = check_sample_1.append(check_sample_2).append(check_sample_3).append(check_sample_4).append(check_sample_5)"
   ]
  },
  {
   "cell_type": "code",
   "execution_count": 390,
   "metadata": {},
   "outputs": [],
   "source": [
    "full_sample_check['risk_type'] ='Gian lận'"
   ]
  },
  {
   "cell_type": "code",
   "execution_count": 391,
   "metadata": {},
   "outputs": [
    {
     "name": "stdout",
     "output_type": "stream",
     "text": [
      "Đã ghi dữ liệu lên sheet Checking\n"
     ]
    }
   ],
   "source": [
    "write_data(control_wb,'Checking','Checking',full_sample_check)"
   ]
  },
  {
   "cell_type": "code",
   "execution_count": null,
   "metadata": {},
   "outputs": [],
   "source": []
  },
  {
   "cell_type": "code",
   "execution_count": null,
   "metadata": {},
   "outputs": [],
   "source": []
  },
  {
   "cell_type": "code",
   "execution_count": null,
   "metadata": {},
   "outputs": [],
   "source": []
  },
  {
   "cell_type": "code",
   "execution_count": 54,
   "metadata": {},
   "outputs": [],
   "source": [
    "# #  Tỷ lệ giải ngân CK, tiền mặt - Đối với sp ĐK\n",
    "# cash_credit_disbur_str = \"\"\"Declare @check_date date = '\"\"\"+checkdate+\"\"\"'\n",
    "# select case when CategoryCode like '%15%' then N'Đăng ký Ô tô' \n",
    "# else N'Đăng ký xe máy' end category_name, pawnid, CodeNo, (LoanMoneyOrg - InsurranceMoney) net_disbur, CashMoney, CreditMoney \n",
    "# from [dwh].[dbo].pawn\n",
    "# where (CategoryCode like '%15%' or CategoryCode like '%17%')\n",
    "# and ShopCode not like '%HS%'\n",
    "# and ShopCode not like '%TEST%'\n",
    "# and FromDate = @check_date\n",
    "# and status in (1, 14)\"\"\""
   ]
  },
  {
   "cell_type": "code",
   "execution_count": 55,
   "metadata": {},
   "outputs": [],
   "source": [
    "# cash_credit_disbur = pd.read_sql_query(cash_credit_disbur_str, db)"
   ]
  },
  {
   "cell_type": "code",
   "execution_count": 57,
   "metadata": {},
   "outputs": [],
   "source": [
    "# cash_credit_disbur = cash_credit_disbur.fillna(0)"
   ]
  },
  {
   "cell_type": "code",
   "execution_count": 58,
   "metadata": {},
   "outputs": [
    {
     "data": {
      "text/plain": [
       "Index(['category_name', 'pawnid', 'codeno', 'net_disbur', 'cashmoney',\n",
       "       'creditmoney'],\n",
       "      dtype='object')"
      ]
     },
     "execution_count": 58,
     "metadata": {},
     "output_type": "execute_result"
    }
   ],
   "source": [
    "# cash_credit_disbur.columns"
   ]
  },
  {
   "cell_type": "code",
   "execution_count": 59,
   "metadata": {},
   "outputs": [],
   "source": [
    "# cash_credit_disbur['cash_rate'] = cash_credit_disbur['cashmoney']/cash_credit_disbur['net_disbur']"
   ]
  },
  {
   "cell_type": "code",
   "execution_count": 61,
   "metadata": {},
   "outputs": [],
   "source": [
    "# import matplotlib.pyplot as plt\n",
    "# import seaborn as sns"
   ]
  },
  {
   "cell_type": "code",
   "execution_count": 81,
   "metadata": {},
   "outputs": [],
   "source": [
    "# # Cảnh báo thử nghiệm các HĐ giải ngân thuộc nhóm outlier\n",
    "# motor_title_outlier = upper_outlier_selection(cash_credit_disbur[cash_credit_disbur['category_name'] =='Đăng ký xe máy']['net_disbur'])"
   ]
  },
  {
   "cell_type": "code",
   "execution_count": 82,
   "metadata": {},
   "outputs": [],
   "source": [
    "# car_title_outlier = upper_outlier_selection(cash_credit_disbur[cash_credit_disbur['category_name'] =='Đăng ký Ô tô']['net_disbur'])"
   ]
  },
  {
   "cell_type": "code",
   "execution_count": 84,
   "metadata": {},
   "outputs": [
    {
     "data": {
      "text/html": [
       "<div>\n",
       "<style scoped>\n",
       "    .dataframe tbody tr th:only-of-type {\n",
       "        vertical-align: middle;\n",
       "    }\n",
       "\n",
       "    .dataframe tbody tr th {\n",
       "        vertical-align: top;\n",
       "    }\n",
       "\n",
       "    .dataframe thead th {\n",
       "        text-align: right;\n",
       "    }\n",
       "</style>\n",
       "<table border=\"1\" class=\"dataframe\">\n",
       "  <thead>\n",
       "    <tr style=\"text-align: right;\">\n",
       "      <th></th>\n",
       "      <th>category_name</th>\n",
       "      <th>pawnid</th>\n",
       "      <th>codeno</th>\n",
       "      <th>net_disbur</th>\n",
       "      <th>cashmoney</th>\n",
       "      <th>creditmoney</th>\n",
       "      <th>cash_rate</th>\n",
       "    </tr>\n",
       "  </thead>\n",
       "  <tbody>\n",
       "    <tr>\n",
       "      <th>38</th>\n",
       "      <td>Đăng ký xe máy</td>\n",
       "      <td>1560515</td>\n",
       "      <td>HDCC/HBH0247/2011/40</td>\n",
       "      <td>27700000.0</td>\n",
       "      <td>900000.0</td>\n",
       "      <td>26800000.0</td>\n",
       "      <td>0.032491</td>\n",
       "    </tr>\n",
       "    <tr>\n",
       "      <th>68</th>\n",
       "      <td>Đăng ký xe máy</td>\n",
       "      <td>1560157</td>\n",
       "      <td>HDCC/VY/2011/116</td>\n",
       "      <td>26900000.0</td>\n",
       "      <td>26900000.0</td>\n",
       "      <td>0.0</td>\n",
       "      <td>1.000000</td>\n",
       "    </tr>\n",
       "    <tr>\n",
       "      <th>79</th>\n",
       "      <td>Đăng ký xe máy</td>\n",
       "      <td>1560178</td>\n",
       "      <td>HDCC/VY/2011/119</td>\n",
       "      <td>30000000.0</td>\n",
       "      <td>30000000.0</td>\n",
       "      <td>0.0</td>\n",
       "      <td>1.000000</td>\n",
       "    </tr>\n",
       "    <tr>\n",
       "      <th>212</th>\n",
       "      <td>Đăng ký xe máy</td>\n",
       "      <td>1560312</td>\n",
       "      <td>HDCC/BTE0184/2011/130</td>\n",
       "      <td>27200000.0</td>\n",
       "      <td>27200000.0</td>\n",
       "      <td>0.0</td>\n",
       "      <td>1.000000</td>\n",
       "    </tr>\n",
       "    <tr>\n",
       "      <th>224</th>\n",
       "      <td>Đăng ký xe máy</td>\n",
       "      <td>1560659</td>\n",
       "      <td>HDCC/HN2ANKT/2011/160</td>\n",
       "      <td>30000000.0</td>\n",
       "      <td>19214000.0</td>\n",
       "      <td>10786000.0</td>\n",
       "      <td>0.640467</td>\n",
       "    </tr>\n",
       "    <tr>\n",
       "      <th>257</th>\n",
       "      <td>Đăng ký xe máy</td>\n",
       "      <td>1560714</td>\n",
       "      <td>HDCC/DNI0145/2011/17</td>\n",
       "      <td>29500000.0</td>\n",
       "      <td>29500000.0</td>\n",
       "      <td>0.0</td>\n",
       "      <td>1.000000</td>\n",
       "    </tr>\n",
       "    <tr>\n",
       "      <th>335</th>\n",
       "      <td>Đăng ký xe máy</td>\n",
       "      <td>1560763</td>\n",
       "      <td>HDCC/SGN0141/2011/145</td>\n",
       "      <td>30000000.0</td>\n",
       "      <td>30000000.0</td>\n",
       "      <td>0.0</td>\n",
       "      <td>1.000000</td>\n",
       "    </tr>\n",
       "    <tr>\n",
       "      <th>345</th>\n",
       "      <td>Đăng ký xe máy</td>\n",
       "      <td>1560786</td>\n",
       "      <td>HDCC/DTP0250/2011/29</td>\n",
       "      <td>30000000.0</td>\n",
       "      <td>30000000.0</td>\n",
       "      <td>0.0</td>\n",
       "      <td>1.000000</td>\n",
       "    </tr>\n",
       "    <tr>\n",
       "      <th>422</th>\n",
       "      <td>Đăng ký xe máy</td>\n",
       "      <td>1560904</td>\n",
       "      <td>HDCC/HN100BT/2011/128</td>\n",
       "      <td>30000000.0</td>\n",
       "      <td>30000000.0</td>\n",
       "      <td>0.0</td>\n",
       "      <td>1.000000</td>\n",
       "    </tr>\n",
       "    <tr>\n",
       "      <th>475</th>\n",
       "      <td>Đăng ký xe máy</td>\n",
       "      <td>1561019</td>\n",
       "      <td>HDCC/SGN0121/2011/155</td>\n",
       "      <td>27200000.0</td>\n",
       "      <td>27200000.0</td>\n",
       "      <td>0.0</td>\n",
       "      <td>1.000000</td>\n",
       "    </tr>\n",
       "    <tr>\n",
       "      <th>485</th>\n",
       "      <td>Đăng ký xe máy</td>\n",
       "      <td>1561040</td>\n",
       "      <td>HDCC/SG2019/2011/134</td>\n",
       "      <td>30000000.0</td>\n",
       "      <td>30000000.0</td>\n",
       "      <td>0.0</td>\n",
       "      <td>1.000000</td>\n",
       "    </tr>\n",
       "  </tbody>\n",
       "</table>\n",
       "</div>"
      ],
      "text/plain": [
       "      category_name   pawnid                 codeno  net_disbur   cashmoney  \\\n",
       "38   Đăng ký xe máy  1560515   HDCC/HBH0247/2011/40  27700000.0    900000.0   \n",
       "68   Đăng ký xe máy  1560157       HDCC/VY/2011/116  26900000.0  26900000.0   \n",
       "79   Đăng ký xe máy  1560178       HDCC/VY/2011/119  30000000.0  30000000.0   \n",
       "212  Đăng ký xe máy  1560312  HDCC/BTE0184/2011/130  27200000.0  27200000.0   \n",
       "224  Đăng ký xe máy  1560659  HDCC/HN2ANKT/2011/160  30000000.0  19214000.0   \n",
       "257  Đăng ký xe máy  1560714   HDCC/DNI0145/2011/17  29500000.0  29500000.0   \n",
       "335  Đăng ký xe máy  1560763  HDCC/SGN0141/2011/145  30000000.0  30000000.0   \n",
       "345  Đăng ký xe máy  1560786   HDCC/DTP0250/2011/29  30000000.0  30000000.0   \n",
       "422  Đăng ký xe máy  1560904  HDCC/HN100BT/2011/128  30000000.0  30000000.0   \n",
       "475  Đăng ký xe máy  1561019  HDCC/SGN0121/2011/155  27200000.0  27200000.0   \n",
       "485  Đăng ký xe máy  1561040   HDCC/SG2019/2011/134  30000000.0  30000000.0   \n",
       "\n",
       "     creditmoney  cash_rate  \n",
       "38    26800000.0   0.032491  \n",
       "68           0.0   1.000000  \n",
       "79           0.0   1.000000  \n",
       "212          0.0   1.000000  \n",
       "224   10786000.0   0.640467  \n",
       "257          0.0   1.000000  \n",
       "335          0.0   1.000000  \n",
       "345          0.0   1.000000  \n",
       "422          0.0   1.000000  \n",
       "475          0.0   1.000000  \n",
       "485          0.0   1.000000  "
      ]
     },
     "execution_count": 84,
     "metadata": {},
     "output_type": "execute_result"
    }
   ],
   "source": [
    "# #  Cảnh báo với HĐ DKXM giải ngân tiền mặt 100%\n",
    "# cash_credit_disbur[(cash_credit_disbur['category_name'] =='Đăng ký xe máy') & (cash_credit_disbur['net_disbur'] >motor_title_outlier)]"
   ]
  },
  {
   "cell_type": "code",
   "execution_count": 85,
   "metadata": {},
   "outputs": [
    {
     "data": {
      "text/html": [
       "<div>\n",
       "<style scoped>\n",
       "    .dataframe tbody tr th:only-of-type {\n",
       "        vertical-align: middle;\n",
       "    }\n",
       "\n",
       "    .dataframe tbody tr th {\n",
       "        vertical-align: top;\n",
       "    }\n",
       "\n",
       "    .dataframe thead th {\n",
       "        text-align: right;\n",
       "    }\n",
       "</style>\n",
       "<table border=\"1\" class=\"dataframe\">\n",
       "  <thead>\n",
       "    <tr style=\"text-align: right;\">\n",
       "      <th></th>\n",
       "      <th>category_name</th>\n",
       "      <th>pawnid</th>\n",
       "      <th>codeno</th>\n",
       "      <th>net_disbur</th>\n",
       "      <th>cashmoney</th>\n",
       "      <th>creditmoney</th>\n",
       "      <th>cash_rate</th>\n",
       "    </tr>\n",
       "  </thead>\n",
       "  <tbody>\n",
       "    <tr>\n",
       "      <th>28</th>\n",
       "      <td>Đăng ký Ô tô</td>\n",
       "      <td>1560495</td>\n",
       "      <td>HDCC/SG2001/2011/113</td>\n",
       "      <td>299900000.0</td>\n",
       "      <td>2065000.0</td>\n",
       "      <td>297835000.0</td>\n",
       "      <td>0.006886</td>\n",
       "    </tr>\n",
       "    <tr>\n",
       "      <th>47</th>\n",
       "      <td>Đăng ký Ô tô</td>\n",
       "      <td>1560531</td>\n",
       "      <td>HDCC/SG2010/2011/146</td>\n",
       "      <td>300000000.0</td>\n",
       "      <td>0.0</td>\n",
       "      <td>300000000.0</td>\n",
       "      <td>0.000000</td>\n",
       "    </tr>\n",
       "    <tr>\n",
       "      <th>464</th>\n",
       "      <td>Đăng ký Ô tô</td>\n",
       "      <td>1561000</td>\n",
       "      <td>HDCC/THA0272/2011/43</td>\n",
       "      <td>320000000.0</td>\n",
       "      <td>0.0</td>\n",
       "      <td>320000000.0</td>\n",
       "      <td>0.000000</td>\n",
       "    </tr>\n",
       "  </tbody>\n",
       "</table>\n",
       "</div>"
      ],
      "text/plain": [
       "    category_name   pawnid                codeno   net_disbur  cashmoney  \\\n",
       "28   Đăng ký Ô tô  1560495  HDCC/SG2001/2011/113  299900000.0  2065000.0   \n",
       "47   Đăng ký Ô tô  1560531  HDCC/SG2010/2011/146  300000000.0        0.0   \n",
       "464  Đăng ký Ô tô  1561000  HDCC/THA0272/2011/43  320000000.0        0.0   \n",
       "\n",
       "     creditmoney  cash_rate  \n",
       "28   297835000.0   0.006886  \n",
       "47   300000000.0   0.000000  \n",
       "464  320000000.0   0.000000  "
      ]
     },
     "execution_count": 85,
     "metadata": {},
     "output_type": "execute_result"
    }
   ],
   "source": [
    "# #  Cảnh báo với HĐ DKOT giải ngân tiền mặt 100%\n",
    "# cash_credit_disbur[(cash_credit_disbur['category_name'] =='Đăng ký Ô tô') & (cash_credit_disbur['net_disbur'] >car_title_outlier)]"
   ]
  },
  {
   "cell_type": "code",
   "execution_count": null,
   "metadata": {},
   "outputs": [],
   "source": []
  }
 ],
 "metadata": {
  "kernelspec": {
   "display_name": "Python 3",
   "language": "python",
   "name": "python3"
  },
  "language_info": {
   "codemirror_mode": {
    "name": "ipython",
    "version": 3
   },
   "file_extension": ".py",
   "mimetype": "text/x-python",
   "name": "python",
   "nbconvert_exporter": "python",
   "pygments_lexer": "ipython3",
   "version": "3.7.1"
  }
 },
 "nbformat": 4,
 "nbformat_minor": 2
}
